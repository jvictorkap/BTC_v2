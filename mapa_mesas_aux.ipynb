{
 "cells": [
  {
   "cell_type": "code",
   "execution_count": 1,
   "source": [
    "#\r\n",
    "import sys\r\n",
    "\r\n",
    "# from devolucao import get_df_devol\r\n",
    "sys.path.append(\"..\")\r\n",
    "import DB\r\n",
    "import workdays\r\n",
    "import datetime\r\n",
    "import pandas as pd\r\n",
    "import numpy as np\r\n",
    "import carteira_ibov\r\n",
    "import taxas\r\n",
    "import os\r\n",
    "pd.options.mode.chained_assignment = None  # default='warn'\r\n",
    "import config\r\n",
    "import psycopg2\r\n",
    "import pandas as pd\r\n",
    "import workdays\r\n",
    "import pyodbc\r\n",
    "#\r\n",
    "holidays_br = workdays.load_holidays(\"BR\")\r\n",
    "holidays_b3 = workdays.load_holidays(\"B3\")\r\n",
    "\r\n",
    "dt = datetime.date.today()\r\n",
    "vcto_0 = dt\r\n",
    "dt_pos = workdays.workday(dt, -1, holidays_br)\r\n",
    "\r\n",
    "\r\n",
    "dt_1 = workdays.workday(dt, -1, holidays_b3)\r\n",
    "dt_2 = workdays.workday(dt, -2, holidays_b3)\r\n",
    "dt_3 = workdays.workday(dt, -3, holidays_b3)\r\n",
    "dt_4 = workdays.workday(dt, -4, holidays_b3)\r\n",
    "\r\n",
    "dt_next_1 = workdays.workday(dt, 1, holidays_b3)\r\n",
    "vcto_1 = dt_next_1\r\n",
    "dt_next_2 = workdays.workday(dt, 2, holidays_b3)\r\n",
    "vcto_2 = dt_next_2\r\n",
    "dt_next_3 = workdays.workday(dt, 3, holidays_b3)\r\n",
    "vcto_3 = dt_next_3\r\n",
    "dt_next_4 = workdays.workday(dt, 4, holidays_b3)\r\n",
    "vcto_4 = dt_next_4\r\n",
    "dt_next_5 = workdays.workday(dt, 5, holidays_b3)\r\n",
    "vcto_5 = dt_next_5\r\n",
    "\r\n",
    "dt_liq = workdays.workday(dt_1, 4, holidays_b3)\r\n"
   ],
   "outputs": [],
   "metadata": {}
  },
  {
   "cell_type": "code",
   "execution_count": null,
   "source": [
    "DB.get_taxas(1)[['tckrsymb','takravrgrate']].to_clipboard()"
   ],
   "outputs": [],
   "metadata": {}
  },
  {
   "cell_type": "code",
   "execution_count": 35,
   "source": [
    "db_conn_test = psycopg2.connect(\r\n",
    "host=config.DB_TESTE_HOST,\r\n",
    "dbname=config.DB_TESTE_NAME,\r\n",
    "user=config.DB_TESTE_USER,\r\n",
    "password=config.DB_TESTE_PASS)\r\n",
    "db_conn_risk = psycopg2.connect(\r\n",
    "host=config.DB_RISK_HOST,\r\n",
    "dbname=config.DB_RISK_NAME,\r\n",
    "user=config.DB_RISK_USER,\r\n",
    "password=config.DB_RISK_PASS,\r\n",
    ")\r\n",
    "\r\n",
    "query = f\"select * from tbl_alugueisconsolidados where dte_data='{dt_1.strftime('%Y-%m-%d')}'\"\r\n",
    "\r\n",
    "# query2 = f\"\"\"select contrato,cotliq, qtde, liquidacao from st_alugcustcorr where \"data\"= '{dt_1.strftime('%Y-%m-%d')}' \"\"\"\r\n",
    "\r\n",
    "query2 =  f\"SELECT registro,st_alugcustcorr.cliente, st_alugcustcorr.corretora, 'T',vencimento,100*taxa, cotliq, reversor, codigo, st_alugcustcorr.contrato, (avg(qtde)+ case when sum(qteliq) is null then '0' else  sum(qteliq) end) as saldo \\\r\n",
    "        from st_alugcustcorr left join st_alug_devolucao on st_alugcustcorr.cliente=st_alug_devolucao.cliente and st_alugcustcorr.contrato=st_alug_devolucao.contrato and dataliq>'{dt_1}' and dataliq<='{dt_liq.strftime('%Y-%m-%d')}' \\\r\n",
    "        where data='{dt_1.strftime('%Y-%m-%d')}' and qtde>0\\\r\n",
    "        group by registro,st_alugcustcorr.cliente, st_alugcustcorr.corretora, vencimento,taxa,cotliq, reversor, codigo, st_alugcustcorr.contrato\\\r\n",
    "        HAVING (avg(qtde)+ case when sum(qteliq) is null then '0' else  sum(qteliq) end) <> 0 \\\r\n",
    "        UNION SELECT registro,st_alugcustcorr.cliente, st_alugcustcorr.corretora, 'D',vencimento,100*taxa, cotliq, reversor, codigo, st_alugcustcorr.contrato, (avg(qtde)+ case when sum(qteliq) is null then '0' else  sum(qteliq) end) as saldo \\\r\n",
    "        from st_alugcustcorr left join st_alug_devolucao on st_alugcustcorr.contrato=st_alug_devolucao.contrato and dataliq>'{dt_1.strftime('%Y-%m-%d')}' and dataliq<='{dt_liq.strftime('%Y-%m-%d')}'\\\r\n",
    "        where data='{dt_1.strftime('%Y-%m-%d')}' and qtde<0\\\r\n",
    "        group by registro,st_alugcustcorr.cliente, st_alugcustcorr.corretora, vencimento,taxa,cotliq, reversor, codigo, st_alugcustcorr.contrato\\\r\n",
    "        HAVING (avg(qtde)+ case when sum(qteliq) is null then '0' else  sum(qteliq) end) <> 0 order by codigo,vencimento \" \r\n",
    "\r\n",
    "\r\n",
    "df = pd.read_sql(query, db_conn_test)\r\n",
    "price = pd.read_sql(query2, db_conn_risk)\r\n",
    "db_conn_risk.close()\r\n",
    "db_conn_test.close()\r\n"
   ],
   "outputs": [],
   "metadata": {}
  },
  {
   "cell_type": "code",
   "execution_count": 36,
   "source": [
    "price"
   ],
   "outputs": [
    {
     "output_type": "execute_result",
     "data": {
      "text/html": [
       "<div>\n",
       "<style scoped>\n",
       "    .dataframe tbody tr th:only-of-type {\n",
       "        vertical-align: middle;\n",
       "    }\n",
       "\n",
       "    .dataframe tbody tr th {\n",
       "        vertical-align: top;\n",
       "    }\n",
       "\n",
       "    .dataframe thead th {\n",
       "        text-align: right;\n",
       "    }\n",
       "</style>\n",
       "<table border=\"1\" class=\"dataframe\">\n",
       "  <thead>\n",
       "    <tr style=\"text-align: right;\">\n",
       "      <th></th>\n",
       "      <th>registro</th>\n",
       "      <th>cliente</th>\n",
       "      <th>corretora</th>\n",
       "      <th>?column?</th>\n",
       "      <th>vencimento</th>\n",
       "      <th>?column?</th>\n",
       "      <th>cotliq</th>\n",
       "      <th>reversor</th>\n",
       "      <th>codigo</th>\n",
       "      <th>contrato</th>\n",
       "      <th>saldo</th>\n",
       "    </tr>\n",
       "  </thead>\n",
       "  <tbody>\n",
       "    <tr>\n",
       "      <th>0</th>\n",
       "      <td>2023-04-20</td>\n",
       "      <td>KAPITALO KAPPA MASTER FIM</td>\n",
       "      <td>BTG PACTUAL CTVM S/A</td>\n",
       "      <td>D</td>\n",
       "      <td>2023-06-01</td>\n",
       "      <td>32.61</td>\n",
       "      <td>22.46</td>\n",
       "      <td>TD</td>\n",
       "      <td>AALR3</td>\n",
       "      <td>2023042000424541570001-2</td>\n",
       "      <td>-500.0</td>\n",
       "    </tr>\n",
       "    <tr>\n",
       "      <th>1</th>\n",
       "      <td>2023-04-20</td>\n",
       "      <td>KAPITALO KAPPA MASTER FIM</td>\n",
       "      <td>BTG PACTUAL CTVM S/A</td>\n",
       "      <td>D</td>\n",
       "      <td>2023-06-01</td>\n",
       "      <td>32.61</td>\n",
       "      <td>22.46</td>\n",
       "      <td>TD</td>\n",
       "      <td>AALR3</td>\n",
       "      <td>2023042000424539690001-2</td>\n",
       "      <td>-500.0</td>\n",
       "    </tr>\n",
       "    <tr>\n",
       "      <th>2</th>\n",
       "      <td>2023-04-20</td>\n",
       "      <td>KAPITALO KAPPA MASTER FIM</td>\n",
       "      <td>BTG PACTUAL CTVM S/A</td>\n",
       "      <td>D</td>\n",
       "      <td>2023-06-01</td>\n",
       "      <td>32.61</td>\n",
       "      <td>22.46</td>\n",
       "      <td>TD</td>\n",
       "      <td>AALR3</td>\n",
       "      <td>2023042000424541790001-2</td>\n",
       "      <td>-1400.0</td>\n",
       "    </tr>\n",
       "    <tr>\n",
       "      <th>3</th>\n",
       "      <td>2023-05-02</td>\n",
       "      <td>KAPITALO KAPPA MASTER FIM</td>\n",
       "      <td>UBS BRASIL CCTVM S/A</td>\n",
       "      <td>D</td>\n",
       "      <td>2023-06-12</td>\n",
       "      <td>32.61</td>\n",
       "      <td>22.77</td>\n",
       "      <td>TD</td>\n",
       "      <td>AALR3</td>\n",
       "      <td>2023050200454612730001-1</td>\n",
       "      <td>-700.0</td>\n",
       "    </tr>\n",
       "    <tr>\n",
       "      <th>4</th>\n",
       "      <td>2023-03-22</td>\n",
       "      <td>KAPITALO ZETA MASTER FIM</td>\n",
       "      <td>NECTON INVESTIMENTOS S.A. CVMC</td>\n",
       "      <td>T</td>\n",
       "      <td>2023-05-04</td>\n",
       "      <td>5.75</td>\n",
       "      <td>13.99</td>\n",
       "      <td>TD</td>\n",
       "      <td>ABEV3</td>\n",
       "      <td>2023032200415016710001-2</td>\n",
       "      <td>15000.0</td>\n",
       "    </tr>\n",
       "    <tr>\n",
       "      <th>...</th>\n",
       "      <td>...</td>\n",
       "      <td>...</td>\n",
       "      <td>...</td>\n",
       "      <td>...</td>\n",
       "      <td>...</td>\n",
       "      <td>...</td>\n",
       "      <td>...</td>\n",
       "      <td>...</td>\n",
       "      <td>...</td>\n",
       "      <td>...</td>\n",
       "      <td>...</td>\n",
       "    </tr>\n",
       "    <tr>\n",
       "      <th>17470</th>\n",
       "      <td>2023-05-03</td>\n",
       "      <td>KAPITALO ZETA MASTER FIM</td>\n",
       "      <td>XP INVESTIMENTOS CCTVM S/A</td>\n",
       "      <td>T</td>\n",
       "      <td>2023-06-13</td>\n",
       "      <td>7.86</td>\n",
       "      <td>7.82</td>\n",
       "      <td>TD</td>\n",
       "      <td>YDUQ3</td>\n",
       "      <td>2023050300372156570001-2</td>\n",
       "      <td>4475.0</td>\n",
       "    </tr>\n",
       "    <tr>\n",
       "      <th>17471</th>\n",
       "      <td>2023-05-03</td>\n",
       "      <td>KAPITALO KAPPA MASTER FIM</td>\n",
       "      <td>ORAMA DTVM S A</td>\n",
       "      <td>T</td>\n",
       "      <td>2023-06-13</td>\n",
       "      <td>7.86</td>\n",
       "      <td>7.82</td>\n",
       "      <td>TD</td>\n",
       "      <td>YDUQ3</td>\n",
       "      <td>2023050300455344610001-1</td>\n",
       "      <td>2574.0</td>\n",
       "    </tr>\n",
       "    <tr>\n",
       "      <th>17472</th>\n",
       "      <td>2023-05-03</td>\n",
       "      <td>KAPITALO ZETA MASTER FIM</td>\n",
       "      <td>XP INVESTIMENTOS CCTVM S/A</td>\n",
       "      <td>T</td>\n",
       "      <td>2023-06-13</td>\n",
       "      <td>7.86</td>\n",
       "      <td>7.82</td>\n",
       "      <td>TD</td>\n",
       "      <td>YDUQ3</td>\n",
       "      <td>2023050300372156550001-2</td>\n",
       "      <td>6030.0</td>\n",
       "    </tr>\n",
       "    <tr>\n",
       "      <th>17473</th>\n",
       "      <td>2023-05-03</td>\n",
       "      <td>KAPITALO ZETA MASTER FIM</td>\n",
       "      <td>NECTON INVESTIMENTOS S.A. CVMC</td>\n",
       "      <td>T</td>\n",
       "      <td>2023-06-13</td>\n",
       "      <td>7.86</td>\n",
       "      <td>7.82</td>\n",
       "      <td>TD</td>\n",
       "      <td>YDUQ3</td>\n",
       "      <td>2023050300361917990001-2</td>\n",
       "      <td>2000.0</td>\n",
       "    </tr>\n",
       "    <tr>\n",
       "      <th>17474</th>\n",
       "      <td>2023-05-03</td>\n",
       "      <td>KAPITALO ZETA MASTER FIM</td>\n",
       "      <td>BGC LIQUIDEZ DTVM LTDA</td>\n",
       "      <td>T</td>\n",
       "      <td>2023-06-13</td>\n",
       "      <td>7.86</td>\n",
       "      <td>7.82</td>\n",
       "      <td>TD</td>\n",
       "      <td>YDUQ3</td>\n",
       "      <td>2023050300354999170001-2</td>\n",
       "      <td>3255.0</td>\n",
       "    </tr>\n",
       "  </tbody>\n",
       "</table>\n",
       "<p>17475 rows × 11 columns</p>\n",
       "</div>"
      ],
      "text/plain": [
       "         registro                    cliente                       corretora  \\\n",
       "0      2023-04-20  KAPITALO KAPPA MASTER FIM            BTG PACTUAL CTVM S/A   \n",
       "1      2023-04-20  KAPITALO KAPPA MASTER FIM            BTG PACTUAL CTVM S/A   \n",
       "2      2023-04-20  KAPITALO KAPPA MASTER FIM            BTG PACTUAL CTVM S/A   \n",
       "3      2023-05-02  KAPITALO KAPPA MASTER FIM            UBS BRASIL CCTVM S/A   \n",
       "4      2023-03-22   KAPITALO ZETA MASTER FIM  NECTON INVESTIMENTOS S.A. CVMC   \n",
       "...           ...                        ...                             ...   \n",
       "17470  2023-05-03   KAPITALO ZETA MASTER FIM      XP INVESTIMENTOS CCTVM S/A   \n",
       "17471  2023-05-03  KAPITALO KAPPA MASTER FIM                  ORAMA DTVM S A   \n",
       "17472  2023-05-03   KAPITALO ZETA MASTER FIM      XP INVESTIMENTOS CCTVM S/A   \n",
       "17473  2023-05-03   KAPITALO ZETA MASTER FIM  NECTON INVESTIMENTOS S.A. CVMC   \n",
       "17474  2023-05-03   KAPITALO ZETA MASTER FIM          BGC LIQUIDEZ DTVM LTDA   \n",
       "\n",
       "       ?column?  vencimento  ?column?  cotliq reversor codigo  \\\n",
       "0             D  2023-06-01     32.61   22.46       TD  AALR3   \n",
       "1             D  2023-06-01     32.61   22.46       TD  AALR3   \n",
       "2             D  2023-06-01     32.61   22.46       TD  AALR3   \n",
       "3             D  2023-06-12     32.61   22.77       TD  AALR3   \n",
       "4             T  2023-05-04      5.75   13.99       TD  ABEV3   \n",
       "...         ...         ...       ...     ...      ...    ...   \n",
       "17470         T  2023-06-13      7.86    7.82       TD  YDUQ3   \n",
       "17471         T  2023-06-13      7.86    7.82       TD  YDUQ3   \n",
       "17472         T  2023-06-13      7.86    7.82       TD  YDUQ3   \n",
       "17473         T  2023-06-13      7.86    7.82       TD  YDUQ3   \n",
       "17474         T  2023-06-13      7.86    7.82       TD  YDUQ3   \n",
       "\n",
       "                       contrato    saldo  \n",
       "0      2023042000424541570001-2   -500.0  \n",
       "1      2023042000424539690001-2   -500.0  \n",
       "2      2023042000424541790001-2  -1400.0  \n",
       "3      2023050200454612730001-1   -700.0  \n",
       "4      2023032200415016710001-2  15000.0  \n",
       "...                         ...      ...  \n",
       "17470  2023050300372156570001-2   4475.0  \n",
       "17471  2023050300455344610001-1   2574.0  \n",
       "17472  2023050300372156550001-2   6030.0  \n",
       "17473  2023050300361917990001-2   2000.0  \n",
       "17474  2023050300354999170001-2   3255.0  \n",
       "\n",
       "[17475 rows x 11 columns]"
      ]
     },
     "metadata": {},
     "execution_count": 36
    }
   ],
   "metadata": {}
  },
  {
   "cell_type": "code",
   "execution_count": 42,
   "source": [
    "db_conn_risk = psycopg2.connect(\r\n",
    "host=config.DB_RISK_HOST,\r\n",
    "dbname=config.DB_RISK_NAME,\r\n",
    "user=config.DB_RISK_USER,\r\n",
    "password=config.DB_RISK_PASS,\r\n",
    ")\r\n",
    "query2 =  f\"select  data, registro, (taxa*100) as taxa ,cotliq , vencimento,corretora, contrato, descoberta as saldo, cliente, codigo from st_alugcustcorr where data='{dt_1.strftime('%Y-%m-%d')}' and descoberta !=0 \" \r\n",
    "price = pd.read_sql(query2, db_conn_risk)\r\n",
    "\r\n",
    "db_conn_risk.close()"
   ],
   "outputs": [],
   "metadata": {}
  },
  {
   "cell_type": "code",
   "execution_count": 44,
   "source": [
    "price = pd.read_excel('imbarq_file.xlsx')"
   ],
   "outputs": [],
   "metadata": {}
  },
  {
   "cell_type": "code",
   "execution_count": null,
   "source": [],
   "outputs": [],
   "metadata": {}
  },
  {
   "cell_type": "code",
   "execution_count": 45,
   "source": [
    "price.rename(columns={'cotliq':'preco','contrato':'str_numcontrato','cliente':'str_fundo'},inplace=True)\r\n",
    "filt = price.loc[price['saldo']!=0][['preco','str_numcontrato','saldo']]\r\n"
   ],
   "outputs": [],
   "metadata": {}
  },
  {
   "cell_type": "code",
   "execution_count": 46,
   "source": [
    "filt"
   ],
   "outputs": [
    {
     "output_type": "execute_result",
     "data": {
      "text/html": [
       "<div>\n",
       "<style scoped>\n",
       "    .dataframe tbody tr th:only-of-type {\n",
       "        vertical-align: middle;\n",
       "    }\n",
       "\n",
       "    .dataframe tbody tr th {\n",
       "        vertical-align: top;\n",
       "    }\n",
       "\n",
       "    .dataframe thead th {\n",
       "        text-align: right;\n",
       "    }\n",
       "</style>\n",
       "<table border=\"1\" class=\"dataframe\">\n",
       "  <thead>\n",
       "    <tr style=\"text-align: right;\">\n",
       "      <th></th>\n",
       "      <th>preco</th>\n",
       "      <th>str_numcontrato</th>\n",
       "      <th>saldo</th>\n",
       "    </tr>\n",
       "  </thead>\n",
       "  <tbody>\n",
       "    <tr>\n",
       "      <th>1</th>\n",
       "      <td>1.47</td>\n",
       "      <td>2023041900423934400001-2</td>\n",
       "      <td>-12233</td>\n",
       "    </tr>\n",
       "    <tr>\n",
       "      <th>2</th>\n",
       "      <td>10.10</td>\n",
       "      <td>2023041200448361060001-1</td>\n",
       "      <td>9674</td>\n",
       "    </tr>\n",
       "    <tr>\n",
       "      <th>5</th>\n",
       "      <td>0.61</td>\n",
       "      <td>2023042600400163290001-2</td>\n",
       "      <td>-16010</td>\n",
       "    </tr>\n",
       "    <tr>\n",
       "      <th>17</th>\n",
       "      <td>0.98</td>\n",
       "      <td>2023033000444158040001-1</td>\n",
       "      <td>-17797</td>\n",
       "    </tr>\n",
       "    <tr>\n",
       "      <th>26</th>\n",
       "      <td>6.00</td>\n",
       "      <td>2023042000451208820001-1</td>\n",
       "      <td>-2414</td>\n",
       "    </tr>\n",
       "    <tr>\n",
       "      <th>...</th>\n",
       "      <td>...</td>\n",
       "      <td>...</td>\n",
       "      <td>...</td>\n",
       "    </tr>\n",
       "    <tr>\n",
       "      <th>21507</th>\n",
       "      <td>67.88</td>\n",
       "      <td>2023050300455869090001-1</td>\n",
       "      <td>7969</td>\n",
       "    </tr>\n",
       "    <tr>\n",
       "      <th>21508</th>\n",
       "      <td>67.88</td>\n",
       "      <td>2023050350000045510001-2</td>\n",
       "      <td>2573</td>\n",
       "    </tr>\n",
       "    <tr>\n",
       "      <th>21509</th>\n",
       "      <td>67.88</td>\n",
       "      <td>2023050350000045510002-2</td>\n",
       "      <td>1922</td>\n",
       "    </tr>\n",
       "    <tr>\n",
       "      <th>21510</th>\n",
       "      <td>67.88</td>\n",
       "      <td>2023050350000045510003-2</td>\n",
       "      <td>18</td>\n",
       "    </tr>\n",
       "    <tr>\n",
       "      <th>21567</th>\n",
       "      <td>7.17</td>\n",
       "      <td>2023033100431486510001-2</td>\n",
       "      <td>5173</td>\n",
       "    </tr>\n",
       "  </tbody>\n",
       "</table>\n",
       "<p>11952 rows × 3 columns</p>\n",
       "</div>"
      ],
      "text/plain": [
       "       preco           str_numcontrato  saldo\n",
       "1       1.47  2023041900423934400001-2 -12233\n",
       "2      10.10  2023041200448361060001-1   9674\n",
       "5       0.61  2023042600400163290001-2 -16010\n",
       "17      0.98  2023033000444158040001-1 -17797\n",
       "26      6.00  2023042000451208820001-1  -2414\n",
       "...      ...                       ...    ...\n",
       "21507  67.88  2023050300455869090001-1   7969\n",
       "21508  67.88  2023050350000045510001-2   2573\n",
       "21509  67.88  2023050350000045510002-2   1922\n",
       "21510  67.88  2023050350000045510003-2     18\n",
       "21567   7.17  2023033100431486510001-2   5173\n",
       "\n",
       "[11952 rows x 3 columns]"
      ]
     },
     "metadata": {},
     "execution_count": 46
    }
   ],
   "metadata": {}
  },
  {
   "cell_type": "code",
   "execution_count": 47,
   "source": [
    "filt['tipo'] = filt['saldo'].apply(lambda x: 'T' if x>0 else 'D')"
   ],
   "outputs": [],
   "metadata": {}
  },
  {
   "cell_type": "code",
   "execution_count": 48,
   "source": [
    "df.fillna(0,inplace=True)\r\n",
    "df = df[(df['str_mesa'].isin(['Kapitalo 11.1','Kapitalo 1.0'])) & (df['dbl_quantidade']!=0)]\r\n",
    "df['codigo'] = df['str_serie'].apply(lambda x: x.split('-')[0])\r\n",
    "df['tipo'] = df['str_serie'].apply(lambda x: x.split('-')[1])\r\n",
    "df = df.merge(filt,on=['str_numcontrato','tipo'],how='inner')\r\n",
    "df = df.drop_duplicates()"
   ],
   "outputs": [],
   "metadata": {}
  },
  {
   "cell_type": "code",
   "execution_count": 49,
   "source": [
    "check = filt.drop_duplicates().merge(df[['tipo','str_numcontrato','dbl_quantidade']].drop_duplicates().groupby(['tipo','str_numcontrato']).agg({'dbl_quantidade':sum}).reset_index().drop_duplicates(),on=['tipo','str_numcontrato'],how='inner')"
   ],
   "outputs": [],
   "metadata": {}
  },
  {
   "cell_type": "code",
   "execution_count": 50,
   "source": [
    "rebal = check.loc[(check['dbl_quantidade']!=check['saldo'])]\r\n"
   ],
   "outputs": [],
   "metadata": {}
  },
  {
   "cell_type": "code",
   "execution_count": 51,
   "source": [
    "df[df['str_numcontrato']=='2023032800443320550001-1']"
   ],
   "outputs": [
    {
     "output_type": "execute_result",
     "data": {
      "text/html": [
       "<div>\n",
       "<style scoped>\n",
       "    .dataframe tbody tr th:only-of-type {\n",
       "        vertical-align: middle;\n",
       "    }\n",
       "\n",
       "    .dataframe tbody tr th {\n",
       "        vertical-align: top;\n",
       "    }\n",
       "\n",
       "    .dataframe thead th {\n",
       "        text-align: right;\n",
       "    }\n",
       "</style>\n",
       "<table border=\"1\" class=\"dataframe\">\n",
       "  <thead>\n",
       "    <tr style=\"text-align: right;\">\n",
       "      <th></th>\n",
       "      <th>dte_data</th>\n",
       "      <th>str_fundo</th>\n",
       "      <th>str_mercado</th>\n",
       "      <th>str_codigo</th>\n",
       "      <th>str_serie</th>\n",
       "      <th>str_mesa</th>\n",
       "      <th>str_estrategia</th>\n",
       "      <th>str_numcontrato</th>\n",
       "      <th>dbl_quantidade</th>\n",
       "      <th>codigo</th>\n",
       "      <th>tipo</th>\n",
       "      <th>preco</th>\n",
       "      <th>saldo</th>\n",
       "    </tr>\n",
       "  </thead>\n",
       "  <tbody>\n",
       "    <tr>\n",
       "      <th>31</th>\n",
       "      <td>2023-05-03</td>\n",
       "      <td>KAPITALO ZETA MASTER FIA</td>\n",
       "      <td>Emprestimo RV</td>\n",
       "      <td>CRFB</td>\n",
       "      <td>CRFB3-T-2,64-20230510-BALCAO</td>\n",
       "      <td>Kapitalo 11.1</td>\n",
       "      <td>Bolsa 2</td>\n",
       "      <td>2023032800443320550001-1</td>\n",
       "      <td>33.0</td>\n",
       "      <td>CRFB3</td>\n",
       "      <td>T</td>\n",
       "      <td>11.47</td>\n",
       "      <td>67</td>\n",
       "    </tr>\n",
       "    <tr>\n",
       "      <th>32</th>\n",
       "      <td>2023-05-03</td>\n",
       "      <td>KAPITALO ZETA MASTER FIA</td>\n",
       "      <td>Emprestimo RV</td>\n",
       "      <td>CRFB</td>\n",
       "      <td>CRFB3-T-2,64-20230510-BALCAO</td>\n",
       "      <td>Kapitalo 1.0</td>\n",
       "      <td>Bolsa 2</td>\n",
       "      <td>2023032800443320550001-1</td>\n",
       "      <td>33.0</td>\n",
       "      <td>CRFB3</td>\n",
       "      <td>T</td>\n",
       "      <td>11.47</td>\n",
       "      <td>67</td>\n",
       "    </tr>\n",
       "  </tbody>\n",
       "</table>\n",
       "</div>"
      ],
      "text/plain": [
       "      dte_data                 str_fundo    str_mercado str_codigo  \\\n",
       "31  2023-05-03  KAPITALO ZETA MASTER FIA  Emprestimo RV       CRFB   \n",
       "32  2023-05-03  KAPITALO ZETA MASTER FIA  Emprestimo RV       CRFB   \n",
       "\n",
       "                       str_serie       str_mesa str_estrategia  \\\n",
       "31  CRFB3-T-2,64-20230510-BALCAO  Kapitalo 11.1        Bolsa 2   \n",
       "32  CRFB3-T-2,64-20230510-BALCAO   Kapitalo 1.0        Bolsa 2   \n",
       "\n",
       "             str_numcontrato  dbl_quantidade codigo tipo  preco  saldo  \n",
       "31  2023032800443320550001-1            33.0  CRFB3    T  11.47     67  \n",
       "32  2023032800443320550001-1            33.0  CRFB3    T  11.47     67  "
      ]
     },
     "metadata": {},
     "execution_count": 51
    }
   ],
   "metadata": {}
  },
  {
   "cell_type": "code",
   "execution_count": 52,
   "source": [
    "rebal"
   ],
   "outputs": [
    {
     "output_type": "execute_result",
     "data": {
      "text/html": [
       "<div>\n",
       "<style scoped>\n",
       "    .dataframe tbody tr th:only-of-type {\n",
       "        vertical-align: middle;\n",
       "    }\n",
       "\n",
       "    .dataframe tbody tr th {\n",
       "        vertical-align: top;\n",
       "    }\n",
       "\n",
       "    .dataframe thead th {\n",
       "        text-align: right;\n",
       "    }\n",
       "</style>\n",
       "<table border=\"1\" class=\"dataframe\">\n",
       "  <thead>\n",
       "    <tr style=\"text-align: right;\">\n",
       "      <th></th>\n",
       "      <th>preco</th>\n",
       "      <th>str_numcontrato</th>\n",
       "      <th>saldo</th>\n",
       "      <th>tipo</th>\n",
       "      <th>dbl_quantidade</th>\n",
       "    </tr>\n",
       "  </thead>\n",
       "  <tbody>\n",
       "    <tr>\n",
       "      <th>1</th>\n",
       "      <td>0.98</td>\n",
       "      <td>2023032900430014760001-2</td>\n",
       "      <td>2491</td>\n",
       "      <td>T</td>\n",
       "      <td>8809.0</td>\n",
       "    </tr>\n",
       "    <tr>\n",
       "      <th>4</th>\n",
       "      <td>2.66</td>\n",
       "      <td>2023033000444231810001-1</td>\n",
       "      <td>10379</td>\n",
       "      <td>T</td>\n",
       "      <td>690.0</td>\n",
       "    </tr>\n",
       "    <tr>\n",
       "      <th>6</th>\n",
       "      <td>4.63</td>\n",
       "      <td>2023033000444231740001-1</td>\n",
       "      <td>2100</td>\n",
       "      <td>T</td>\n",
       "      <td>4428.0</td>\n",
       "    </tr>\n",
       "    <tr>\n",
       "      <th>7</th>\n",
       "      <td>4.63</td>\n",
       "      <td>2023033000444231740001-1</td>\n",
       "      <td>6528</td>\n",
       "      <td>T</td>\n",
       "      <td>4428.0</td>\n",
       "    </tr>\n",
       "    <tr>\n",
       "      <th>8</th>\n",
       "      <td>2.69</td>\n",
       "      <td>2023033000444310030001-1</td>\n",
       "      <td>1282</td>\n",
       "      <td>T</td>\n",
       "      <td>10749.0</td>\n",
       "    </tr>\n",
       "    <tr>\n",
       "      <th>9</th>\n",
       "      <td>14.58</td>\n",
       "      <td>2023032900444011290001-1</td>\n",
       "      <td>180434</td>\n",
       "      <td>T</td>\n",
       "      <td>88066.0</td>\n",
       "    </tr>\n",
       "    <tr>\n",
       "      <th>10</th>\n",
       "      <td>62.33</td>\n",
       "      <td>2023032800443426110001-1</td>\n",
       "      <td>1400</td>\n",
       "      <td>T</td>\n",
       "      <td>604.0</td>\n",
       "    </tr>\n",
       "    <tr>\n",
       "      <th>21</th>\n",
       "      <td>18.92</td>\n",
       "      <td>2023033000444455270001-1</td>\n",
       "      <td>22938</td>\n",
       "      <td>T</td>\n",
       "      <td>7200.0</td>\n",
       "    </tr>\n",
       "    <tr>\n",
       "      <th>22</th>\n",
       "      <td>20.12</td>\n",
       "      <td>2023041100447689040001-1</td>\n",
       "      <td>1300</td>\n",
       "      <td>T</td>\n",
       "      <td>5231.0</td>\n",
       "    </tr>\n",
       "    <tr>\n",
       "      <th>26</th>\n",
       "      <td>31.16</td>\n",
       "      <td>2023033000444339430001-1</td>\n",
       "      <td>1004</td>\n",
       "      <td>T</td>\n",
       "      <td>15604.0</td>\n",
       "    </tr>\n",
       "    <tr>\n",
       "      <th>27</th>\n",
       "      <td>11.37</td>\n",
       "      <td>2023041000447343190001-1</td>\n",
       "      <td>4458</td>\n",
       "      <td>T</td>\n",
       "      <td>1021.0</td>\n",
       "    </tr>\n",
       "    <tr>\n",
       "      <th>32</th>\n",
       "      <td>2.97</td>\n",
       "      <td>2023033000444313460001-1</td>\n",
       "      <td>13208</td>\n",
       "      <td>T</td>\n",
       "      <td>20759.0</td>\n",
       "    </tr>\n",
       "    <tr>\n",
       "      <th>33</th>\n",
       "      <td>32.89</td>\n",
       "      <td>2023033000444310550001-1</td>\n",
       "      <td>7132</td>\n",
       "      <td>T</td>\n",
       "      <td>12868.0</td>\n",
       "    </tr>\n",
       "    <tr>\n",
       "      <th>34</th>\n",
       "      <td>25.38</td>\n",
       "      <td>2023033100444715280001-1</td>\n",
       "      <td>38763</td>\n",
       "      <td>T</td>\n",
       "      <td>53217.0</td>\n",
       "    </tr>\n",
       "    <tr>\n",
       "      <th>39</th>\n",
       "      <td>7.94</td>\n",
       "      <td>2023033000444458620001-1</td>\n",
       "      <td>132700</td>\n",
       "      <td>T</td>\n",
       "      <td>47300.0</td>\n",
       "    </tr>\n",
       "    <tr>\n",
       "      <th>43</th>\n",
       "      <td>15.36</td>\n",
       "      <td>2023041000447343170001-1</td>\n",
       "      <td>5600</td>\n",
       "      <td>T</td>\n",
       "      <td>3100.0</td>\n",
       "    </tr>\n",
       "    <tr>\n",
       "      <th>44</th>\n",
       "      <td>3.05</td>\n",
       "      <td>2023030600435528630001-1</td>\n",
       "      <td>8700</td>\n",
       "      <td>T</td>\n",
       "      <td>27085.0</td>\n",
       "    </tr>\n",
       "    <tr>\n",
       "      <th>45</th>\n",
       "      <td>3.05</td>\n",
       "      <td>2023030600435529690001-1</td>\n",
       "      <td>400</td>\n",
       "      <td>T</td>\n",
       "      <td>2500.0</td>\n",
       "    </tr>\n",
       "    <tr>\n",
       "      <th>51</th>\n",
       "      <td>1.06</td>\n",
       "      <td>2023032900430238740001-2</td>\n",
       "      <td>1000</td>\n",
       "      <td>T</td>\n",
       "      <td>2500.0</td>\n",
       "    </tr>\n",
       "    <tr>\n",
       "      <th>57</th>\n",
       "      <td>20.26</td>\n",
       "      <td>2023033000444450720001-1</td>\n",
       "      <td>4434</td>\n",
       "      <td>T</td>\n",
       "      <td>3166.0</td>\n",
       "    </tr>\n",
       "    <tr>\n",
       "      <th>63</th>\n",
       "      <td>8.45</td>\n",
       "      <td>2023033000444341410001-1</td>\n",
       "      <td>15818</td>\n",
       "      <td>T</td>\n",
       "      <td>11782.0</td>\n",
       "    </tr>\n",
       "    <tr>\n",
       "      <th>65</th>\n",
       "      <td>7.06</td>\n",
       "      <td>2023040500446301330001-1</td>\n",
       "      <td>1128</td>\n",
       "      <td>T</td>\n",
       "      <td>1963.0</td>\n",
       "    </tr>\n",
       "    <tr>\n",
       "      <th>69</th>\n",
       "      <td>20.36</td>\n",
       "      <td>2023032700442967170001-1</td>\n",
       "      <td>642</td>\n",
       "      <td>T</td>\n",
       "      <td>1251.0</td>\n",
       "    </tr>\n",
       "    <tr>\n",
       "      <th>70</th>\n",
       "      <td>20.36</td>\n",
       "      <td>2023032700442967170001-1</td>\n",
       "      <td>1893</td>\n",
       "      <td>T</td>\n",
       "      <td>1251.0</td>\n",
       "    </tr>\n",
       "    <tr>\n",
       "      <th>71</th>\n",
       "      <td>4.29</td>\n",
       "      <td>2023040300418452540001-2</td>\n",
       "      <td>997</td>\n",
       "      <td>T</td>\n",
       "      <td>2434.0</td>\n",
       "    </tr>\n",
       "    <tr>\n",
       "      <th>72</th>\n",
       "      <td>2.69</td>\n",
       "      <td>2023033000444310140001-1</td>\n",
       "      <td>4366</td>\n",
       "      <td>T</td>\n",
       "      <td>3378.0</td>\n",
       "    </tr>\n",
       "    <tr>\n",
       "      <th>75</th>\n",
       "      <td>5.07</td>\n",
       "      <td>2023033100431149630001-2</td>\n",
       "      <td>56</td>\n",
       "      <td>T</td>\n",
       "      <td>46.0</td>\n",
       "    </tr>\n",
       "    <tr>\n",
       "      <th>76</th>\n",
       "      <td>3.48</td>\n",
       "      <td>2023033100431323910001-2</td>\n",
       "      <td>25</td>\n",
       "      <td>T</td>\n",
       "      <td>28.0</td>\n",
       "    </tr>\n",
       "    <tr>\n",
       "      <th>78</th>\n",
       "      <td>1.02</td>\n",
       "      <td>2023032300442171650001-1</td>\n",
       "      <td>500</td>\n",
       "      <td>T</td>\n",
       "      <td>100.0</td>\n",
       "    </tr>\n",
       "    <tr>\n",
       "      <th>80</th>\n",
       "      <td>11.47</td>\n",
       "      <td>2023032800443320550001-1</td>\n",
       "      <td>67</td>\n",
       "      <td>T</td>\n",
       "      <td>33.0</td>\n",
       "    </tr>\n",
       "    <tr>\n",
       "      <th>81</th>\n",
       "      <td>2.75</td>\n",
       "      <td>2023041000447339790001-1</td>\n",
       "      <td>292</td>\n",
       "      <td>T</td>\n",
       "      <td>100.0</td>\n",
       "    </tr>\n",
       "    <tr>\n",
       "      <th>82</th>\n",
       "      <td>2.24</td>\n",
       "      <td>2023032800443320570001-1</td>\n",
       "      <td>485</td>\n",
       "      <td>T</td>\n",
       "      <td>467.0</td>\n",
       "    </tr>\n",
       "    <tr>\n",
       "      <th>83</th>\n",
       "      <td>3.34</td>\n",
       "      <td>2023032800443335440001-1</td>\n",
       "      <td>228</td>\n",
       "      <td>T</td>\n",
       "      <td>107.0</td>\n",
       "    </tr>\n",
       "    <tr>\n",
       "      <th>85</th>\n",
       "      <td>8.30</td>\n",
       "      <td>2023040300445154200001-1</td>\n",
       "      <td>40</td>\n",
       "      <td>T</td>\n",
       "      <td>267.0</td>\n",
       "    </tr>\n",
       "    <tr>\n",
       "      <th>90</th>\n",
       "      <td>1.21</td>\n",
       "      <td>2023033100431153490001-2</td>\n",
       "      <td>37135</td>\n",
       "      <td>T</td>\n",
       "      <td>168245.0</td>\n",
       "    </tr>\n",
       "    <tr>\n",
       "      <th>92</th>\n",
       "      <td>1.47</td>\n",
       "      <td>2023041900423934400001-2</td>\n",
       "      <td>4222</td>\n",
       "      <td>T</td>\n",
       "      <td>16455.0</td>\n",
       "    </tr>\n",
       "    <tr>\n",
       "      <th>93</th>\n",
       "      <td>1.47</td>\n",
       "      <td>2023041900423934420001-2</td>\n",
       "      <td>1921</td>\n",
       "      <td>T</td>\n",
       "      <td>10731.0</td>\n",
       "    </tr>\n",
       "    <tr>\n",
       "      <th>98</th>\n",
       "      <td>12.40</td>\n",
       "      <td>2023042600453057460001-1</td>\n",
       "      <td>92850</td>\n",
       "      <td>T</td>\n",
       "      <td>113130.0</td>\n",
       "    </tr>\n",
       "    <tr>\n",
       "      <th>101</th>\n",
       "      <td>16.12</td>\n",
       "      <td>2023041200448212120001-1</td>\n",
       "      <td>1994</td>\n",
       "      <td>T</td>\n",
       "      <td>3094.0</td>\n",
       "    </tr>\n",
       "    <tr>\n",
       "      <th>112</th>\n",
       "      <td>11.19</td>\n",
       "      <td>2023042600453057410001-1</td>\n",
       "      <td>36786</td>\n",
       "      <td>T</td>\n",
       "      <td>44770.0</td>\n",
       "    </tr>\n",
       "    <tr>\n",
       "      <th>116</th>\n",
       "      <td>20.06</td>\n",
       "      <td>2023032300442171560001-1</td>\n",
       "      <td>488</td>\n",
       "      <td>T</td>\n",
       "      <td>244.0</td>\n",
       "    </tr>\n",
       "    <tr>\n",
       "      <th>117</th>\n",
       "      <td>18.40</td>\n",
       "      <td>2023042600453057760001-1</td>\n",
       "      <td>25322</td>\n",
       "      <td>T</td>\n",
       "      <td>55090.0</td>\n",
       "    </tr>\n",
       "    <tr>\n",
       "      <th>119</th>\n",
       "      <td>3.66</td>\n",
       "      <td>2023041000447360570001-1</td>\n",
       "      <td>4027</td>\n",
       "      <td>T</td>\n",
       "      <td>241.0</td>\n",
       "    </tr>\n",
       "    <tr>\n",
       "      <th>120</th>\n",
       "      <td>4.63</td>\n",
       "      <td>2023033000444231790001-1</td>\n",
       "      <td>3706</td>\n",
       "      <td>T</td>\n",
       "      <td>4059.0</td>\n",
       "    </tr>\n",
       "    <tr>\n",
       "      <th>128</th>\n",
       "      <td>2.86</td>\n",
       "      <td>2023040300445151740001-1</td>\n",
       "      <td>4400</td>\n",
       "      <td>T</td>\n",
       "      <td>1000.0</td>\n",
       "    </tr>\n",
       "    <tr>\n",
       "      <th>130</th>\n",
       "      <td>43.00</td>\n",
       "      <td>2023033000444231980001-1</td>\n",
       "      <td>10905</td>\n",
       "      <td>T</td>\n",
       "      <td>35050.0</td>\n",
       "    </tr>\n",
       "    <tr>\n",
       "      <th>143</th>\n",
       "      <td>34.87</td>\n",
       "      <td>2023040300445399840001-1</td>\n",
       "      <td>301</td>\n",
       "      <td>T</td>\n",
       "      <td>5209.0</td>\n",
       "    </tr>\n",
       "    <tr>\n",
       "      <th>144</th>\n",
       "      <td>78.63</td>\n",
       "      <td>2023032700442967240001-1</td>\n",
       "      <td>389</td>\n",
       "      <td>T</td>\n",
       "      <td>882.0</td>\n",
       "    </tr>\n",
       "    <tr>\n",
       "      <th>156</th>\n",
       "      <td>7.17</td>\n",
       "      <td>2023033100431486510001-2</td>\n",
       "      <td>5173</td>\n",
       "      <td>T</td>\n",
       "      <td>13558.0</td>\n",
       "    </tr>\n",
       "  </tbody>\n",
       "</table>\n",
       "</div>"
      ],
      "text/plain": [
       "     preco           str_numcontrato   saldo tipo  dbl_quantidade\n",
       "1     0.98  2023032900430014760001-2    2491    T          8809.0\n",
       "4     2.66  2023033000444231810001-1   10379    T           690.0\n",
       "6     4.63  2023033000444231740001-1    2100    T          4428.0\n",
       "7     4.63  2023033000444231740001-1    6528    T          4428.0\n",
       "8     2.69  2023033000444310030001-1    1282    T         10749.0\n",
       "9    14.58  2023032900444011290001-1  180434    T         88066.0\n",
       "10   62.33  2023032800443426110001-1    1400    T           604.0\n",
       "21   18.92  2023033000444455270001-1   22938    T          7200.0\n",
       "22   20.12  2023041100447689040001-1    1300    T          5231.0\n",
       "26   31.16  2023033000444339430001-1    1004    T         15604.0\n",
       "27   11.37  2023041000447343190001-1    4458    T          1021.0\n",
       "32    2.97  2023033000444313460001-1   13208    T         20759.0\n",
       "33   32.89  2023033000444310550001-1    7132    T         12868.0\n",
       "34   25.38  2023033100444715280001-1   38763    T         53217.0\n",
       "39    7.94  2023033000444458620001-1  132700    T         47300.0\n",
       "43   15.36  2023041000447343170001-1    5600    T          3100.0\n",
       "44    3.05  2023030600435528630001-1    8700    T         27085.0\n",
       "45    3.05  2023030600435529690001-1     400    T          2500.0\n",
       "51    1.06  2023032900430238740001-2    1000    T          2500.0\n",
       "57   20.26  2023033000444450720001-1    4434    T          3166.0\n",
       "63    8.45  2023033000444341410001-1   15818    T         11782.0\n",
       "65    7.06  2023040500446301330001-1    1128    T          1963.0\n",
       "69   20.36  2023032700442967170001-1     642    T          1251.0\n",
       "70   20.36  2023032700442967170001-1    1893    T          1251.0\n",
       "71    4.29  2023040300418452540001-2     997    T          2434.0\n",
       "72    2.69  2023033000444310140001-1    4366    T          3378.0\n",
       "75    5.07  2023033100431149630001-2      56    T            46.0\n",
       "76    3.48  2023033100431323910001-2      25    T            28.0\n",
       "78    1.02  2023032300442171650001-1     500    T           100.0\n",
       "80   11.47  2023032800443320550001-1      67    T            33.0\n",
       "81    2.75  2023041000447339790001-1     292    T           100.0\n",
       "82    2.24  2023032800443320570001-1     485    T           467.0\n",
       "83    3.34  2023032800443335440001-1     228    T           107.0\n",
       "85    8.30  2023040300445154200001-1      40    T           267.0\n",
       "90    1.21  2023033100431153490001-2   37135    T        168245.0\n",
       "92    1.47  2023041900423934400001-2    4222    T         16455.0\n",
       "93    1.47  2023041900423934420001-2    1921    T         10731.0\n",
       "98   12.40  2023042600453057460001-1   92850    T        113130.0\n",
       "101  16.12  2023041200448212120001-1    1994    T          3094.0\n",
       "112  11.19  2023042600453057410001-1   36786    T         44770.0\n",
       "116  20.06  2023032300442171560001-1     488    T           244.0\n",
       "117  18.40  2023042600453057760001-1   25322    T         55090.0\n",
       "119   3.66  2023041000447360570001-1    4027    T           241.0\n",
       "120   4.63  2023033000444231790001-1    3706    T          4059.0\n",
       "128   2.86  2023040300445151740001-1    4400    T          1000.0\n",
       "130  43.00  2023033000444231980001-1   10905    T         35050.0\n",
       "143  34.87  2023040300445399840001-1     301    T          5209.0\n",
       "144  78.63  2023032700442967240001-1     389    T           882.0\n",
       "156   7.17  2023033100431486510001-2    5173    T         13558.0"
      ]
     },
     "metadata": {},
     "execution_count": 52
    }
   ],
   "metadata": {}
  },
  {
   "cell_type": "code",
   "execution_count": 53,
   "source": [
    "ex_df = df[df['str_numcontrato'].isin(rebal['str_numcontrato'])]"
   ],
   "outputs": [],
   "metadata": {}
  },
  {
   "cell_type": "code",
   "execution_count": 54,
   "source": [
    "f_df = df[~df['str_numcontrato'].isin(rebal['str_numcontrato'])]"
   ],
   "outputs": [],
   "metadata": {}
  },
  {
   "cell_type": "code",
   "execution_count": 55,
   "source": [
    "ex_df = ex_df.merge(rebal[['str_numcontrato', 'tipo', 'dbl_quantidade']].rename(columns={'dbl_quantidade':'full size'}),on=['str_numcontrato', 'tipo'],how='inner')"
   ],
   "outputs": [],
   "metadata": {}
  },
  {
   "cell_type": "code",
   "execution_count": 56,
   "source": [
    "ex_df"
   ],
   "outputs": [
    {
     "output_type": "execute_result",
     "data": {
      "text/html": [
       "<div>\n",
       "<style scoped>\n",
       "    .dataframe tbody tr th:only-of-type {\n",
       "        vertical-align: middle;\n",
       "    }\n",
       "\n",
       "    .dataframe tbody tr th {\n",
       "        vertical-align: top;\n",
       "    }\n",
       "\n",
       "    .dataframe thead th {\n",
       "        text-align: right;\n",
       "    }\n",
       "</style>\n",
       "<table border=\"1\" class=\"dataframe\">\n",
       "  <thead>\n",
       "    <tr style=\"text-align: right;\">\n",
       "      <th></th>\n",
       "      <th>dte_data</th>\n",
       "      <th>str_fundo</th>\n",
       "      <th>str_mercado</th>\n",
       "      <th>str_codigo</th>\n",
       "      <th>str_serie</th>\n",
       "      <th>str_mesa</th>\n",
       "      <th>str_estrategia</th>\n",
       "      <th>str_numcontrato</th>\n",
       "      <th>dbl_quantidade</th>\n",
       "      <th>codigo</th>\n",
       "      <th>tipo</th>\n",
       "      <th>preco</th>\n",
       "      <th>saldo</th>\n",
       "      <th>full size</th>\n",
       "    </tr>\n",
       "  </thead>\n",
       "  <tbody>\n",
       "    <tr>\n",
       "      <th>0</th>\n",
       "      <td>2023-05-03</td>\n",
       "      <td>KAPITALO ZETA MASTER FIM</td>\n",
       "      <td>Emprestimo RV</td>\n",
       "      <td>YDUQ</td>\n",
       "      <td>YDUQ3-T-7,89-20230515-BALCAO</td>\n",
       "      <td>Kapitalo 11.1</td>\n",
       "      <td>Bolsa 2</td>\n",
       "      <td>2023033100431486510001-2</td>\n",
       "      <td>2990.0</td>\n",
       "      <td>YDUQ3</td>\n",
       "      <td>T</td>\n",
       "      <td>7.17</td>\n",
       "      <td>5173</td>\n",
       "      <td>13558.0</td>\n",
       "    </tr>\n",
       "    <tr>\n",
       "      <th>1</th>\n",
       "      <td>2023-05-03</td>\n",
       "      <td>KAPITALO ZETA MASTER FIM</td>\n",
       "      <td>Emprestimo RV</td>\n",
       "      <td>YDUQ</td>\n",
       "      <td>YDUQ3-T-7,89-20230515-BALCAO</td>\n",
       "      <td>Kapitalo 1.0</td>\n",
       "      <td>Bolsa 2</td>\n",
       "      <td>2023033100431486510001-2</td>\n",
       "      <td>10568.0</td>\n",
       "      <td>YDUQ3</td>\n",
       "      <td>T</td>\n",
       "      <td>7.17</td>\n",
       "      <td>5173</td>\n",
       "      <td>13558.0</td>\n",
       "    </tr>\n",
       "    <tr>\n",
       "      <th>2</th>\n",
       "      <td>2023-05-03</td>\n",
       "      <td>KAPITALO ZETA MASTER FIM</td>\n",
       "      <td>Emprestimo RV</td>\n",
       "      <td>TAEE</td>\n",
       "      <td>TAEE11-T-0,05-20230516-BALCAO</td>\n",
       "      <td>Kapitalo 11.1</td>\n",
       "      <td>Bolsa 2</td>\n",
       "      <td>2023040300445399840001-1</td>\n",
       "      <td>5209.0</td>\n",
       "      <td>TAEE11</td>\n",
       "      <td>T</td>\n",
       "      <td>34.87</td>\n",
       "      <td>301</td>\n",
       "      <td>5209.0</td>\n",
       "    </tr>\n",
       "    <tr>\n",
       "      <th>3</th>\n",
       "      <td>2023-05-03</td>\n",
       "      <td>KAPITALO ZETA MASTER FIM</td>\n",
       "      <td>Emprestimo RV</td>\n",
       "      <td>RAIZ</td>\n",
       "      <td>RAIZ4-T-0,1-20230516-BALCAO</td>\n",
       "      <td>Kapitalo 1.0</td>\n",
       "      <td>Bolsa 2</td>\n",
       "      <td>2023040300445151740001-1</td>\n",
       "      <td>1000.0</td>\n",
       "      <td>RAIZ4</td>\n",
       "      <td>T</td>\n",
       "      <td>2.86</td>\n",
       "      <td>4400</td>\n",
       "      <td>1000.0</td>\n",
       "    </tr>\n",
       "    <tr>\n",
       "      <th>4</th>\n",
       "      <td>2023-05-03</td>\n",
       "      <td>KAPITALO ZETA MASTER FIM</td>\n",
       "      <td>Emprestimo RV</td>\n",
       "      <td>LJQQ</td>\n",
       "      <td>LJQQ3-T-4,13-20230522-BALCAO</td>\n",
       "      <td>Kapitalo 11.1</td>\n",
       "      <td>Bolsa 2</td>\n",
       "      <td>2023041000447360570001-1</td>\n",
       "      <td>4.0</td>\n",
       "      <td>LJQQ3</td>\n",
       "      <td>T</td>\n",
       "      <td>3.66</td>\n",
       "      <td>4027</td>\n",
       "      <td>241.0</td>\n",
       "    </tr>\n",
       "    <tr>\n",
       "      <th>...</th>\n",
       "      <td>...</td>\n",
       "      <td>...</td>\n",
       "      <td>...</td>\n",
       "      <td>...</td>\n",
       "      <td>...</td>\n",
       "      <td>...</td>\n",
       "      <td>...</td>\n",
       "      <td>...</td>\n",
       "      <td>...</td>\n",
       "      <td>...</td>\n",
       "      <td>...</td>\n",
       "      <td>...</td>\n",
       "      <td>...</td>\n",
       "      <td>...</td>\n",
       "    </tr>\n",
       "    <tr>\n",
       "      <th>71</th>\n",
       "      <td>2023-05-03</td>\n",
       "      <td>KAPITALO K10 PREV MASTER FIM</td>\n",
       "      <td>Emprestimo RV</td>\n",
       "      <td>LWSA</td>\n",
       "      <td>LWSA3-T-11,13-20230512-BALCAO</td>\n",
       "      <td>Kapitalo 11.1</td>\n",
       "      <td>Bolsa 2</td>\n",
       "      <td>2023033000444231740001-1</td>\n",
       "      <td>4428.0</td>\n",
       "      <td>LWSA3</td>\n",
       "      <td>T</td>\n",
       "      <td>4.63</td>\n",
       "      <td>6528</td>\n",
       "      <td>4428.0</td>\n",
       "    </tr>\n",
       "    <tr>\n",
       "      <th>72</th>\n",
       "      <td>2023-05-03</td>\n",
       "      <td>KAPITALO K10 PREV MASTER FIM</td>\n",
       "      <td>Emprestimo RV</td>\n",
       "      <td>LWSA</td>\n",
       "      <td>LWSA3-T-11,13-20230512-BALCAO</td>\n",
       "      <td>Kapitalo 11.1</td>\n",
       "      <td>Bolsa 2</td>\n",
       "      <td>2023033000444231740001-1</td>\n",
       "      <td>4428.0</td>\n",
       "      <td>LWSA3</td>\n",
       "      <td>T</td>\n",
       "      <td>4.63</td>\n",
       "      <td>6528</td>\n",
       "      <td>4428.0</td>\n",
       "    </tr>\n",
       "    <tr>\n",
       "      <th>73</th>\n",
       "      <td>2023-05-03</td>\n",
       "      <td>KAPITALO K10 PREV MASTER FIM</td>\n",
       "      <td>Emprestimo RV</td>\n",
       "      <td>HAPV</td>\n",
       "      <td>HAPV3-T-0,93-20230512-BALCAO</td>\n",
       "      <td>Kapitalo 11.1</td>\n",
       "      <td>Bolsa 2</td>\n",
       "      <td>2023033000444231810001-1</td>\n",
       "      <td>690.0</td>\n",
       "      <td>HAPV3</td>\n",
       "      <td>T</td>\n",
       "      <td>2.66</td>\n",
       "      <td>10379</td>\n",
       "      <td>690.0</td>\n",
       "    </tr>\n",
       "    <tr>\n",
       "      <th>74</th>\n",
       "      <td>2023-05-03</td>\n",
       "      <td>KAPITALO K10 PREV MASTER FIM</td>\n",
       "      <td>Emprestimo RV</td>\n",
       "      <td>CASH</td>\n",
       "      <td>CASH3-T-4,23-20230511-BALCAO</td>\n",
       "      <td>Kapitalo 11.1</td>\n",
       "      <td>Bolsa 2</td>\n",
       "      <td>2023032900430014760001-2</td>\n",
       "      <td>8809.0</td>\n",
       "      <td>CASH3</td>\n",
       "      <td>T</td>\n",
       "      <td>0.98</td>\n",
       "      <td>2491</td>\n",
       "      <td>8809.0</td>\n",
       "    </tr>\n",
       "    <tr>\n",
       "      <th>75</th>\n",
       "      <td>2023-05-03</td>\n",
       "      <td>KAPITALO K10 PREV MASTER FIM</td>\n",
       "      <td>Emprestimo RV</td>\n",
       "      <td>AERI</td>\n",
       "      <td>AERI3-T-1,31-20230531-BALCAO</td>\n",
       "      <td>Kapitalo 11.1</td>\n",
       "      <td>Bolsa 2</td>\n",
       "      <td>2023041900423934400001-2</td>\n",
       "      <td>16455.0</td>\n",
       "      <td>AERI3</td>\n",
       "      <td>T</td>\n",
       "      <td>1.47</td>\n",
       "      <td>4222</td>\n",
       "      <td>16455.0</td>\n",
       "    </tr>\n",
       "  </tbody>\n",
       "</table>\n",
       "<p>76 rows × 14 columns</p>\n",
       "</div>"
      ],
      "text/plain": [
       "      dte_data                     str_fundo    str_mercado str_codigo  \\\n",
       "0   2023-05-03      KAPITALO ZETA MASTER FIM  Emprestimo RV       YDUQ   \n",
       "1   2023-05-03      KAPITALO ZETA MASTER FIM  Emprestimo RV       YDUQ   \n",
       "2   2023-05-03      KAPITALO ZETA MASTER FIM  Emprestimo RV       TAEE   \n",
       "3   2023-05-03      KAPITALO ZETA MASTER FIM  Emprestimo RV       RAIZ   \n",
       "4   2023-05-03      KAPITALO ZETA MASTER FIM  Emprestimo RV       LJQQ   \n",
       "..         ...                           ...            ...        ...   \n",
       "71  2023-05-03  KAPITALO K10 PREV MASTER FIM  Emprestimo RV       LWSA   \n",
       "72  2023-05-03  KAPITALO K10 PREV MASTER FIM  Emprestimo RV       LWSA   \n",
       "73  2023-05-03  KAPITALO K10 PREV MASTER FIM  Emprestimo RV       HAPV   \n",
       "74  2023-05-03  KAPITALO K10 PREV MASTER FIM  Emprestimo RV       CASH   \n",
       "75  2023-05-03  KAPITALO K10 PREV MASTER FIM  Emprestimo RV       AERI   \n",
       "\n",
       "                        str_serie       str_mesa str_estrategia  \\\n",
       "0    YDUQ3-T-7,89-20230515-BALCAO  Kapitalo 11.1        Bolsa 2   \n",
       "1    YDUQ3-T-7,89-20230515-BALCAO   Kapitalo 1.0        Bolsa 2   \n",
       "2   TAEE11-T-0,05-20230516-BALCAO  Kapitalo 11.1        Bolsa 2   \n",
       "3     RAIZ4-T-0,1-20230516-BALCAO   Kapitalo 1.0        Bolsa 2   \n",
       "4    LJQQ3-T-4,13-20230522-BALCAO  Kapitalo 11.1        Bolsa 2   \n",
       "..                            ...            ...            ...   \n",
       "71  LWSA3-T-11,13-20230512-BALCAO  Kapitalo 11.1        Bolsa 2   \n",
       "72  LWSA3-T-11,13-20230512-BALCAO  Kapitalo 11.1        Bolsa 2   \n",
       "73   HAPV3-T-0,93-20230512-BALCAO  Kapitalo 11.1        Bolsa 2   \n",
       "74   CASH3-T-4,23-20230511-BALCAO  Kapitalo 11.1        Bolsa 2   \n",
       "75   AERI3-T-1,31-20230531-BALCAO  Kapitalo 11.1        Bolsa 2   \n",
       "\n",
       "             str_numcontrato  dbl_quantidade  codigo tipo  preco  saldo  \\\n",
       "0   2023033100431486510001-2          2990.0   YDUQ3    T   7.17   5173   \n",
       "1   2023033100431486510001-2         10568.0   YDUQ3    T   7.17   5173   \n",
       "2   2023040300445399840001-1          5209.0  TAEE11    T  34.87    301   \n",
       "3   2023040300445151740001-1          1000.0   RAIZ4    T   2.86   4400   \n",
       "4   2023041000447360570001-1             4.0   LJQQ3    T   3.66   4027   \n",
       "..                       ...             ...     ...  ...    ...    ...   \n",
       "71  2023033000444231740001-1          4428.0   LWSA3    T   4.63   6528   \n",
       "72  2023033000444231740001-1          4428.0   LWSA3    T   4.63   6528   \n",
       "73  2023033000444231810001-1           690.0   HAPV3    T   2.66  10379   \n",
       "74  2023032900430014760001-2          8809.0   CASH3    T   0.98   2491   \n",
       "75  2023041900423934400001-2         16455.0   AERI3    T   1.47   4222   \n",
       "\n",
       "    full size  \n",
       "0     13558.0  \n",
       "1     13558.0  \n",
       "2      5209.0  \n",
       "3      1000.0  \n",
       "4       241.0  \n",
       "..        ...  \n",
       "71     4428.0  \n",
       "72     4428.0  \n",
       "73      690.0  \n",
       "74     8809.0  \n",
       "75    16455.0  \n",
       "\n",
       "[76 rows x 14 columns]"
      ]
     },
     "metadata": {},
     "execution_count": 56
    }
   ],
   "metadata": {}
  },
  {
   "cell_type": "code",
   "execution_count": 57,
   "source": [
    "ex_df['prop'] = ex_df['dbl_quantidade']/ex_df['full size']\r\n",
    "\r\n",
    "ex_df['new_qtd'] = round(ex_df['prop']*ex_df['saldo'])"
   ],
   "outputs": [],
   "metadata": {}
  },
  {
   "cell_type": "code",
   "execution_count": 58,
   "source": [
    "ex_df['dbl_quantidade'] = ex_df['new_qtd']"
   ],
   "outputs": [],
   "metadata": {}
  },
  {
   "cell_type": "code",
   "execution_count": 59,
   "source": [
    "ex_df = ex_df[f_df.columns]"
   ],
   "outputs": [],
   "metadata": {}
  },
  {
   "cell_type": "code",
   "execution_count": 60,
   "source": [
    "df = pd.concat([ex_df,f_df])"
   ],
   "outputs": [],
   "metadata": {}
  },
  {
   "cell_type": "code",
   "execution_count": 61,
   "source": [
    "df"
   ],
   "outputs": [
    {
     "output_type": "execute_result",
     "data": {
      "text/html": [
       "<div>\n",
       "<style scoped>\n",
       "    .dataframe tbody tr th:only-of-type {\n",
       "        vertical-align: middle;\n",
       "    }\n",
       "\n",
       "    .dataframe tbody tr th {\n",
       "        vertical-align: top;\n",
       "    }\n",
       "\n",
       "    .dataframe thead th {\n",
       "        text-align: right;\n",
       "    }\n",
       "</style>\n",
       "<table border=\"1\" class=\"dataframe\">\n",
       "  <thead>\n",
       "    <tr style=\"text-align: right;\">\n",
       "      <th></th>\n",
       "      <th>dte_data</th>\n",
       "      <th>str_fundo</th>\n",
       "      <th>str_mercado</th>\n",
       "      <th>str_codigo</th>\n",
       "      <th>str_serie</th>\n",
       "      <th>str_mesa</th>\n",
       "      <th>str_estrategia</th>\n",
       "      <th>str_numcontrato</th>\n",
       "      <th>dbl_quantidade</th>\n",
       "      <th>codigo</th>\n",
       "      <th>tipo</th>\n",
       "      <th>preco</th>\n",
       "      <th>saldo</th>\n",
       "    </tr>\n",
       "  </thead>\n",
       "  <tbody>\n",
       "    <tr>\n",
       "      <th>0</th>\n",
       "      <td>2023-05-03</td>\n",
       "      <td>KAPITALO ZETA MASTER FIM</td>\n",
       "      <td>Emprestimo RV</td>\n",
       "      <td>YDUQ</td>\n",
       "      <td>YDUQ3-T-7,89-20230515-BALCAO</td>\n",
       "      <td>Kapitalo 11.1</td>\n",
       "      <td>Bolsa 2</td>\n",
       "      <td>2023033100431486510001-2</td>\n",
       "      <td>1141.0</td>\n",
       "      <td>YDUQ3</td>\n",
       "      <td>T</td>\n",
       "      <td>7.17</td>\n",
       "      <td>5173</td>\n",
       "    </tr>\n",
       "    <tr>\n",
       "      <th>1</th>\n",
       "      <td>2023-05-03</td>\n",
       "      <td>KAPITALO ZETA MASTER FIM</td>\n",
       "      <td>Emprestimo RV</td>\n",
       "      <td>YDUQ</td>\n",
       "      <td>YDUQ3-T-7,89-20230515-BALCAO</td>\n",
       "      <td>Kapitalo 1.0</td>\n",
       "      <td>Bolsa 2</td>\n",
       "      <td>2023033100431486510001-2</td>\n",
       "      <td>4032.0</td>\n",
       "      <td>YDUQ3</td>\n",
       "      <td>T</td>\n",
       "      <td>7.17</td>\n",
       "      <td>5173</td>\n",
       "    </tr>\n",
       "    <tr>\n",
       "      <th>2</th>\n",
       "      <td>2023-05-03</td>\n",
       "      <td>KAPITALO ZETA MASTER FIM</td>\n",
       "      <td>Emprestimo RV</td>\n",
       "      <td>TAEE</td>\n",
       "      <td>TAEE11-T-0,05-20230516-BALCAO</td>\n",
       "      <td>Kapitalo 11.1</td>\n",
       "      <td>Bolsa 2</td>\n",
       "      <td>2023040300445399840001-1</td>\n",
       "      <td>301.0</td>\n",
       "      <td>TAEE11</td>\n",
       "      <td>T</td>\n",
       "      <td>34.87</td>\n",
       "      <td>301</td>\n",
       "    </tr>\n",
       "    <tr>\n",
       "      <th>3</th>\n",
       "      <td>2023-05-03</td>\n",
       "      <td>KAPITALO ZETA MASTER FIM</td>\n",
       "      <td>Emprestimo RV</td>\n",
       "      <td>RAIZ</td>\n",
       "      <td>RAIZ4-T-0,1-20230516-BALCAO</td>\n",
       "      <td>Kapitalo 1.0</td>\n",
       "      <td>Bolsa 2</td>\n",
       "      <td>2023040300445151740001-1</td>\n",
       "      <td>4400.0</td>\n",
       "      <td>RAIZ4</td>\n",
       "      <td>T</td>\n",
       "      <td>2.86</td>\n",
       "      <td>4400</td>\n",
       "    </tr>\n",
       "    <tr>\n",
       "      <th>4</th>\n",
       "      <td>2023-05-03</td>\n",
       "      <td>KAPITALO ZETA MASTER FIM</td>\n",
       "      <td>Emprestimo RV</td>\n",
       "      <td>LJQQ</td>\n",
       "      <td>LJQQ3-T-4,13-20230522-BALCAO</td>\n",
       "      <td>Kapitalo 11.1</td>\n",
       "      <td>Bolsa 2</td>\n",
       "      <td>2023041000447360570001-1</td>\n",
       "      <td>67.0</td>\n",
       "      <td>LJQQ3</td>\n",
       "      <td>T</td>\n",
       "      <td>3.66</td>\n",
       "      <td>4027</td>\n",
       "    </tr>\n",
       "    <tr>\n",
       "      <th>...</th>\n",
       "      <td>...</td>\n",
       "      <td>...</td>\n",
       "      <td>...</td>\n",
       "      <td>...</td>\n",
       "      <td>...</td>\n",
       "      <td>...</td>\n",
       "      <td>...</td>\n",
       "      <td>...</td>\n",
       "      <td>...</td>\n",
       "      <td>...</td>\n",
       "      <td>...</td>\n",
       "      <td>...</td>\n",
       "      <td>...</td>\n",
       "    </tr>\n",
       "    <tr>\n",
       "      <th>220</th>\n",
       "      <td>2023-05-03</td>\n",
       "      <td>KAPITALO K10 PREV MASTER FIM</td>\n",
       "      <td>Emprestimo RV</td>\n",
       "      <td>CRFB</td>\n",
       "      <td>CRFB3-T-0,94-20230601-BALCAO</td>\n",
       "      <td>Kapitalo 11.1</td>\n",
       "      <td>Bolsa 2</td>\n",
       "      <td>2023042000451208880001-1</td>\n",
       "      <td>652.0</td>\n",
       "      <td>CRFB3</td>\n",
       "      <td>T</td>\n",
       "      <td>10.22</td>\n",
       "      <td>652</td>\n",
       "    </tr>\n",
       "    <tr>\n",
       "      <th>222</th>\n",
       "      <td>2023-05-03</td>\n",
       "      <td>KAPITALO K10 PREV MASTER FIM</td>\n",
       "      <td>Emprestimo RV</td>\n",
       "      <td>BRKM</td>\n",
       "      <td>BRKM5-T-0,1-20230601-BALCAO</td>\n",
       "      <td>Kapitalo 11.1</td>\n",
       "      <td>Bolsa 2</td>\n",
       "      <td>2023042000451208930001-1</td>\n",
       "      <td>30.0</td>\n",
       "      <td>BRKM5</td>\n",
       "      <td>T</td>\n",
       "      <td>19.70</td>\n",
       "      <td>30</td>\n",
       "    </tr>\n",
       "    <tr>\n",
       "      <th>223</th>\n",
       "      <td>2023-05-03</td>\n",
       "      <td>KAPITALO K10 PREV MASTER FIM</td>\n",
       "      <td>Emprestimo RV</td>\n",
       "      <td>BEEF</td>\n",
       "      <td>BEEF3-T-0,3-20230601-BALCAO</td>\n",
       "      <td>Kapitalo 11.1</td>\n",
       "      <td>Bolsa 2</td>\n",
       "      <td>2023042000451208660001-1</td>\n",
       "      <td>1970.0</td>\n",
       "      <td>BEEF3</td>\n",
       "      <td>T</td>\n",
       "      <td>9.21</td>\n",
       "      <td>1970</td>\n",
       "    </tr>\n",
       "    <tr>\n",
       "      <th>224</th>\n",
       "      <td>2023-05-03</td>\n",
       "      <td>KAPITALO K10 PREV MASTER FIM</td>\n",
       "      <td>Emprestimo RV</td>\n",
       "      <td>ASAI</td>\n",
       "      <td>ASAI3-T-5,05-20230601-BALCAO</td>\n",
       "      <td>Kapitalo 11.1</td>\n",
       "      <td>Bolsa 2</td>\n",
       "      <td>2023042000451208590001-1</td>\n",
       "      <td>1362.0</td>\n",
       "      <td>ASAI3</td>\n",
       "      <td>T</td>\n",
       "      <td>12.87</td>\n",
       "      <td>1362</td>\n",
       "    </tr>\n",
       "    <tr>\n",
       "      <th>225</th>\n",
       "      <td>2023-05-03</td>\n",
       "      <td>KAPITALO K10 PREV MASTER FIM</td>\n",
       "      <td>Emprestimo RV</td>\n",
       "      <td>AERI</td>\n",
       "      <td>AERI3-T-1,37-20230511-BALCAO</td>\n",
       "      <td>Kapitalo 11.1</td>\n",
       "      <td>Bolsa 2</td>\n",
       "      <td>2023032900429934630001-2</td>\n",
       "      <td>5330.0</td>\n",
       "      <td>AERI3</td>\n",
       "      <td>T</td>\n",
       "      <td>1.22</td>\n",
       "      <td>5330</td>\n",
       "    </tr>\n",
       "  </tbody>\n",
       "</table>\n",
       "<p>231 rows × 13 columns</p>\n",
       "</div>"
      ],
      "text/plain": [
       "       dte_data                     str_fundo    str_mercado str_codigo  \\\n",
       "0    2023-05-03      KAPITALO ZETA MASTER FIM  Emprestimo RV       YDUQ   \n",
       "1    2023-05-03      KAPITALO ZETA MASTER FIM  Emprestimo RV       YDUQ   \n",
       "2    2023-05-03      KAPITALO ZETA MASTER FIM  Emprestimo RV       TAEE   \n",
       "3    2023-05-03      KAPITALO ZETA MASTER FIM  Emprestimo RV       RAIZ   \n",
       "4    2023-05-03      KAPITALO ZETA MASTER FIM  Emprestimo RV       LJQQ   \n",
       "..          ...                           ...            ...        ...   \n",
       "220  2023-05-03  KAPITALO K10 PREV MASTER FIM  Emprestimo RV       CRFB   \n",
       "222  2023-05-03  KAPITALO K10 PREV MASTER FIM  Emprestimo RV       BRKM   \n",
       "223  2023-05-03  KAPITALO K10 PREV MASTER FIM  Emprestimo RV       BEEF   \n",
       "224  2023-05-03  KAPITALO K10 PREV MASTER FIM  Emprestimo RV       ASAI   \n",
       "225  2023-05-03  KAPITALO K10 PREV MASTER FIM  Emprestimo RV       AERI   \n",
       "\n",
       "                         str_serie       str_mesa str_estrategia  \\\n",
       "0     YDUQ3-T-7,89-20230515-BALCAO  Kapitalo 11.1        Bolsa 2   \n",
       "1     YDUQ3-T-7,89-20230515-BALCAO   Kapitalo 1.0        Bolsa 2   \n",
       "2    TAEE11-T-0,05-20230516-BALCAO  Kapitalo 11.1        Bolsa 2   \n",
       "3      RAIZ4-T-0,1-20230516-BALCAO   Kapitalo 1.0        Bolsa 2   \n",
       "4     LJQQ3-T-4,13-20230522-BALCAO  Kapitalo 11.1        Bolsa 2   \n",
       "..                             ...            ...            ...   \n",
       "220   CRFB3-T-0,94-20230601-BALCAO  Kapitalo 11.1        Bolsa 2   \n",
       "222    BRKM5-T-0,1-20230601-BALCAO  Kapitalo 11.1        Bolsa 2   \n",
       "223    BEEF3-T-0,3-20230601-BALCAO  Kapitalo 11.1        Bolsa 2   \n",
       "224   ASAI3-T-5,05-20230601-BALCAO  Kapitalo 11.1        Bolsa 2   \n",
       "225   AERI3-T-1,37-20230511-BALCAO  Kapitalo 11.1        Bolsa 2   \n",
       "\n",
       "              str_numcontrato  dbl_quantidade  codigo tipo  preco  saldo  \n",
       "0    2023033100431486510001-2          1141.0   YDUQ3    T   7.17   5173  \n",
       "1    2023033100431486510001-2          4032.0   YDUQ3    T   7.17   5173  \n",
       "2    2023040300445399840001-1           301.0  TAEE11    T  34.87    301  \n",
       "3    2023040300445151740001-1          4400.0   RAIZ4    T   2.86   4400  \n",
       "4    2023041000447360570001-1            67.0   LJQQ3    T   3.66   4027  \n",
       "..                        ...             ...     ...  ...    ...    ...  \n",
       "220  2023042000451208880001-1           652.0   CRFB3    T  10.22    652  \n",
       "222  2023042000451208930001-1            30.0   BRKM5    T  19.70     30  \n",
       "223  2023042000451208660001-1          1970.0   BEEF3    T   9.21   1970  \n",
       "224  2023042000451208590001-1          1362.0   ASAI3    T  12.87   1362  \n",
       "225  2023032900429934630001-2          5330.0   AERI3    T   1.22   5330  \n",
       "\n",
       "[231 rows x 13 columns]"
      ]
     },
     "metadata": {},
     "execution_count": 61
    }
   ],
   "metadata": {}
  },
  {
   "cell_type": "code",
   "execution_count": null,
   "source": [
    "# df['dbl_quantidade'] = df['saldo']\r\n",
    "\r\n",
    "df['taxa'] = df['str_serie'].apply(lambda x: x.split('-')[2].replace(',','.'))\r\n",
    "\r\n",
    "df['modalidade'] = df['str_serie'].apply(lambda x: x.split('-')[4])\r\n",
    "df['vencimento'] = df['str_serie'].apply(lambda x: x.split('-')[3])\r\n",
    "df['volume'] = df['dbl_quantidade'].astype(float)*df['taxa'].astype(float)\r\n",
    "df = df.drop_duplicates()\r\n",
    "ctos_btc = df\r\n",
    "vencimentos = df\r\n",
    "\r\n"
   ],
   "outputs": [],
   "metadata": {}
  },
  {
   "cell_type": "code",
   "execution_count": null,
   "source": [
    "df"
   ],
   "outputs": [],
   "metadata": {}
  },
  {
   "cell_type": "code",
   "execution_count": null,
   "source": [
    "df = df.groupby(['str_fundo','str_mesa','str_estrategia','codigo','tipo']).agg({'dbl_quantidade':sum,'volume':sum}).reset_index()"
   ],
   "outputs": [],
   "metadata": {}
  },
  {
   "cell_type": "code",
   "execution_count": null,
   "source": [
    "df['taxa media'] = (df['volume']/df['dbl_quantidade']).apply(lambda x: round(x,2))"
   ],
   "outputs": [],
   "metadata": {}
  },
  {
   "cell_type": "code",
   "execution_count": null,
   "source": [
    "btc = pd.pivot_table(df,index=['str_fundo','str_mesa','str_estrategia','codigo'],columns=['tipo'],values=['dbl_quantidade','taxa media']).reset_index().fillna(0)"
   ],
   "outputs": [],
   "metadata": {}
  },
  {
   "cell_type": "code",
   "execution_count": null,
   "source": [
    "btc.columns = ['fundo',\t'mesa',\t'str_estrategia','codigo','DOADO','TOMADO','TAXA DOADORA','TAXA TOMADORA']"
   ],
   "outputs": [],
   "metadata": {}
  },
  {
   "cell_type": "code",
   "execution_count": null,
   "source": [],
   "outputs": [],
   "metadata": {}
  },
  {
   "cell_type": "code",
   "execution_count": null,
   "source": [
    "import workdays\r\n",
    "holidays_br = workdays.load_holidays('BR')\r\n",
    "holidays_b3 = workdays.load_holidays('B3')\r\n",
    "dt = datetime.date.today()\r\n",
    "\r\n",
    "\r\n",
    "dt_1 = workdays.workday(dt, -1, holidays_b3)\r\n",
    "\r\n",
    "dt_1 = workdays.workday(dt, -1, holidays_b3)\r\n",
    "vcto_0 = dt.strftime('%d/%m/%Y')\r\n",
    "dt_pos = workdays.workday(dt, -1, holidays_br)\r\n",
    "venc_interna = workdays.workday(dt, 1, holidays_br)\r\n",
    "\r\n",
    "\r\n",
    "\r\n",
    "df_pos = DB.get_equity_positions_mesas(None,dt_1)\r\n",
    "\r\n",
    "\r\n",
    "df_pos = pd.DataFrame(df_pos[['str_fundo','str_mesa','str_estrategia',\"regexp_replace\", \"sum\"]])\r\n",
    "df_pos.rename(columns={\"regexp_replace\": \"codigo\", \"sum\": \"position\",\"str_fundo\":\"fundo\",'str_mesa':'mesa'}, inplace=True)\r\n",
    "\r\n",
    "\r\n",
    "df_pos = df_pos[ (df_pos['mesa'].isin(['Kapitalo 11.1','Kapitalo 1.0'])) & ~(df_pos['fundo'].isin(['KAPITALO CLASS B', 'KAPITALO CLASS K', 'KAPITALO CLASS OMEGA']))]"
   ],
   "outputs": [],
   "metadata": {}
  },
  {
   "cell_type": "code",
   "execution_count": null,
   "source": [
    "mapa = df_pos.merge(btc,on=['fundo','mesa','str_estrategia','codigo'],how='outer').fillna(0)"
   ],
   "outputs": [],
   "metadata": {}
  },
  {
   "cell_type": "markdown",
   "source": [
    "# Incluindo Internas K11"
   ],
   "metadata": {}
  },
  {
   "cell_type": "code",
   "execution_count": null,
   "source": [
    "# import pandas as pd\r\n",
    "# k11 = pd.read_excel('internas.xlsx')"
   ],
   "outputs": [],
   "metadata": {}
  },
  {
   "cell_type": "code",
   "execution_count": null,
   "source": [
    "# k11['codigo'] = k11['SERIE'].apply(lambda x: x.split('-')[0])\r\n",
    "# k11['taxa'] = k11['SERIE'].apply(lambda x: x.split('-')[2].replace(',','.'))\r\n",
    "# k11['tipo'] = k11['SERIE'].apply(lambda x: x.split('-')[1])\r\n",
    "# k11['modalidade'] = k11['SERIE'].apply(lambda x: x.split('-')[4])\r\n",
    "# k11['vencimento'] = k11['SERIE'].apply(lambda x: x.split('-')[3])\r\n",
    "# k11['volume'] = k11['NOTIONAL'].astype(float)*k11['taxa'].astype(float)"
   ],
   "outputs": [],
   "metadata": {}
  },
  {
   "cell_type": "code",
   "execution_count": null,
   "source": [
    "\r\n",
    "\r\n",
    "# k11 = k11.rename(columns={'ALOCACAO':'str_fundo','MESA':'str_mesa','ESTRATEGIA':'str_estrategia','NOTIONAL':'dbl_quantidade'})"
   ],
   "outputs": [],
   "metadata": {}
  },
  {
   "cell_type": "code",
   "execution_count": null,
   "source": [
    "# k11 = k11.groupby(['str_fundo','str_mesa','str_estrategia','codigo','tipo']).agg({'dbl_quantidade':sum,'volume':sum}).reset_index()"
   ],
   "outputs": [],
   "metadata": {}
  },
  {
   "cell_type": "code",
   "execution_count": null,
   "source": [
    "# k11 = pd.pivot_table(k11,index=['str_fundo','str_mesa','str_estrategia','codigo'],columns='tipo',values='dbl_quantidade').reset_index().fillna(0)"
   ],
   "outputs": [],
   "metadata": {}
  },
  {
   "cell_type": "code",
   "execution_count": null,
   "source": [],
   "outputs": [],
   "metadata": {}
  },
  {
   "cell_type": "code",
   "execution_count": null,
   "source": [
    "# k11.rename(columns={'D':'interna DOADO','T':'interna TOMADO'},inplace=True)"
   ],
   "outputs": [],
   "metadata": {}
  },
  {
   "cell_type": "code",
   "execution_count": null,
   "source": [
    "# k11.columns = ['fundo',\t'mesa',\t'str_estrategia','codigo','interna DOADO','interna TOMADO']"
   ],
   "outputs": [],
   "metadata": {}
  },
  {
   "cell_type": "markdown",
   "source": [
    "# Incluindo Internas Mesas"
   ],
   "metadata": {}
  },
  {
   "cell_type": "code",
   "execution_count": null,
   "source": [
    "mesa = pd.read_excel('mesa.xlsx')"
   ],
   "outputs": [],
   "metadata": {}
  },
  {
   "cell_type": "code",
   "execution_count": null,
   "source": [
    "mesa = pd.pivot_table(mesa,index=['str_fundo','str_mesa','str_estrategia','codigo'],columns='tipo',values='lote estrategia').reset_index()"
   ],
   "outputs": [],
   "metadata": {}
  },
  {
   "cell_type": "code",
   "execution_count": null,
   "source": [
    "# mesa['mesas DOADO'] = mesa['D']*-1\r\n",
    "mesa['mesas DOADO'] = 0\r\n",
    "\r\n",
    "mesa['mesas TOMADO'] = mesa['T']*-1"
   ],
   "outputs": [],
   "metadata": {}
  },
  {
   "cell_type": "code",
   "execution_count": null,
   "source": [
    "mesa = mesa[['str_fundo','str_mesa','str_estrategia','codigo','mesas DOADO','mesas TOMADO']].fillna(0)"
   ],
   "outputs": [],
   "metadata": {}
  },
  {
   "cell_type": "code",
   "execution_count": null,
   "source": [
    "mesa.columns = ['fundo','mesa',\t'str_estrategia','codigo','mesas DOADO','mesas TOMADO']"
   ],
   "outputs": [],
   "metadata": {}
  },
  {
   "cell_type": "code",
   "execution_count": null,
   "source": [],
   "outputs": [],
   "metadata": {}
  },
  {
   "cell_type": "markdown",
   "source": [
    "# Internas sinteticas + mapa"
   ],
   "metadata": {}
  },
  {
   "cell_type": "code",
   "execution_count": null,
   "source": [
    "# mapa = mapa.merge(k11,on=['fundo',\t'mesa',\t'str_estrategia','codigo'],how='outer').merge(mesa,on=['fundo',\t'mesa',\t'str_estrategia','codigo'],how='outer').fillna(0)"
   ],
   "outputs": [],
   "metadata": {}
  },
  {
   "cell_type": "code",
   "execution_count": null,
   "source": [
    "mapa = mapa.merge(mesa,on=['fundo',\t'mesa',\t'str_estrategia','codigo'],how='outer').fillna(0)"
   ],
   "outputs": [],
   "metadata": {}
  },
  {
   "cell_type": "markdown",
   "source": [
    "# Vencimentos"
   ],
   "metadata": {}
  },
  {
   "cell_type": "code",
   "execution_count": null,
   "source": [
    "\r\n",
    "vencimentos['vencimento'] = vencimentos['vencimento'].apply(lambda x: datetime.datetime.strptime(x,'%Y%m%d').date())"
   ],
   "outputs": [],
   "metadata": {}
  },
  {
   "cell_type": "code",
   "execution_count": null,
   "source": [
    "aux  = vencimentos.loc[(vencimentos['vencimento']>= dt) & (vencimentos['vencimento']< dt_next_5)]"
   ],
   "outputs": [],
   "metadata": {}
  },
  {
   "cell_type": "code",
   "execution_count": null,
   "source": [
    "aux = aux.groupby(['str_fundo','codigo','str_mesa','str_estrategia','vencimento']).agg({'dbl_quantidade':sum}).reset_index()"
   ],
   "outputs": [],
   "metadata": {}
  },
  {
   "cell_type": "code",
   "execution_count": null,
   "source": [
    "venc = pd.pivot_table(aux,index=['str_fundo','codigo','str_mesa','str_estrategia'],columns='vencimento',values='dbl_quantidade').reset_index().fillna(0)"
   ],
   "outputs": [],
   "metadata": {}
  },
  {
   "cell_type": "code",
   "execution_count": null,
   "source": [
    "venc.rename(columns={'str_fundo':'fundo','str_mesa':'mesa'},inplace=True)"
   ],
   "outputs": [],
   "metadata": {}
  },
  {
   "cell_type": "code",
   "execution_count": null,
   "source": [
    "mapa = mapa.merge(venc,on=['fundo','codigo','mesa','str_estrategia'],how='outer').fillna(0)"
   ],
   "outputs": [],
   "metadata": {}
  },
  {
   "cell_type": "code",
   "execution_count": null,
   "source": [],
   "outputs": [],
   "metadata": {}
  },
  {
   "cell_type": "markdown",
   "source": [
    "# Movimentações"
   ],
   "metadata": {}
  },
  {
   "cell_type": "code",
   "execution_count": null,
   "source": [],
   "outputs": [],
   "metadata": {}
  },
  {
   "cell_type": "code",
   "execution_count": null,
   "source": [
    "def get_equity_trades():\r\n",
    "    db_conn_test = psycopg2.connect(host=config.DB_TESTE_HOST, dbname=config.DB_TESTE_NAME , user=config.DB_TESTE_USER, password=config.DB_TESTE_PASS)    \r\n",
    "    query=f\"SELECT * FROM tbl_auxboletas1 where dte_data > '{dt_3.strftime('%Y-%m-%d')}' and ((str_mesa='Kapitalo 11.1' and str_mercado='Acao') or (str_mesa='Kapitalo 1.0' and  str_estrategia = 'Bolsa 2' and str_mercado='Acao') ) and str_fundo not in ('KAPITALO CLASS B', 'KAPITALO CLASS OMEGA')\" \r\n",
    "    try:\r\n",
    "        df =pd.read_sql(query,db_conn_test)\r\n",
    "    except:\r\n",
    "        pass\r\n",
    "    db_conn_test.close()\r\n",
    "\r\n",
    "    return df"
   ],
   "outputs": [],
   "metadata": {}
  },
  {
   "cell_type": "code",
   "execution_count": null,
   "source": [
    "trades = get_equity_trades()"
   ],
   "outputs": [],
   "metadata": {}
  },
  {
   "cell_type": "code",
   "execution_count": null,
   "source": [
    "trades  = trades.groupby(['str_fundo','str_serie','str_mesa','str_estrategia','dte_data']).agg({'dbl_lote':sum}).reset_index()"
   ],
   "outputs": [],
   "metadata": {}
  },
  {
   "cell_type": "code",
   "execution_count": null,
   "source": [
    "trades = pd.pivot_table(trades,index=['str_fundo','str_serie','str_mesa','str_estrategia'],columns='dte_data',values='dbl_lote').reset_index()\r\n"
   ],
   "outputs": [],
   "metadata": {}
  },
  {
   "cell_type": "code",
   "execution_count": null,
   "source": [
    "trades['str_serie'] = trades['str_serie'].apply(lambda x: x.replace(' BZ EQUITY',''))\r\n",
    "trades.rename(columns={\r\n",
    "    dt_2:'mov_0',\r\n",
    "    dt_1:'mov_1',\r\n",
    "    'str_fundo':'fundo',\r\n",
    "    'str_mesa':'mesa',\r\n",
    "    'str_serie':'codigo'\r\n",
    "    },inplace=True\r\n",
    ")"
   ],
   "outputs": [],
   "metadata": {}
  },
  {
   "cell_type": "code",
   "execution_count": null,
   "source": [
    "mapa = mapa.merge(trades,on=['fundo','codigo','mesa','str_estrategia'],how='outer').fillna(0)"
   ],
   "outputs": [],
   "metadata": {}
  },
  {
   "cell_type": "code",
   "execution_count": null,
   "source": [
    "dt"
   ],
   "outputs": [],
   "metadata": {}
  },
  {
   "cell_type": "code",
   "execution_count": null,
   "source": [
    "query_ibotz = f\" select str_fundo,str_mesa,str_estrategia,str_codigo,str_serie, str_numcontrato,sum(dbl_quantidade) as dbl_quantidade  from ibotz.tbl_boletasalugueis_ibotz where dte_data='{dt.strftime('%Y-%m-%d')}' and str_mesa in ('Kapitalo 11.1','Kapitalo 1.0') and str_mercado like '%Emprestimo RV%' group by str_fundo,str_mesa,str_estrategia,str_codigo,str_serie, str_numcontrato\"\r\n",
    "db_conn_test = psycopg2.connect(\r\n",
    "host=config.DB_TESTE_HOST,\r\n",
    "dbname=config.DB_TESTE_NAME,\r\n",
    "user=config.DB_TESTE_USER,\r\n",
    "password=config.DB_TESTE_PASS)\r\n",
    "\r\n",
    "btc_ibotz = pd.read_sql(query_ibotz,db_conn_test)\r\n",
    "db_conn_test.close()"
   ],
   "outputs": [],
   "metadata": {}
  },
  {
   "cell_type": "code",
   "execution_count": null,
   "source": [
    "btc_ibotz['codigo'] = btc_ibotz['str_serie'].apply(lambda x: x.split('-')[0])\r\n",
    "btc_ibotz['tipo'] = btc_ibotz['str_serie'].apply(lambda x: x.split('-')[1])\r\n",
    "btc_ibotz['modalidade'] = btc_ibotz['str_serie'].apply(lambda x: x.split('-')[-1])\r\n",
    "# btc_ibotz = btc_ibotz[btc_ibotz['modalidade']!='INTERNO']\r\n",
    "btc_ibotz = btc_ibotz.groupby(['str_fundo','str_mesa','str_estrategia','codigo','tipo']).agg({'dbl_quantidade':sum}).reset_index()\r\n"
   ],
   "outputs": [],
   "metadata": {}
  },
  {
   "cell_type": "code",
   "execution_count": null,
   "source": [
    "btc_ibotz"
   ],
   "outputs": [],
   "metadata": {}
  },
  {
   "cell_type": "code",
   "execution_count": null,
   "source": [
    "btc_ibotz = pd.pivot_table(btc_ibotz,columns='tipo',index=['str_fundo','str_mesa','codigo','str_estrategia'],values='dbl_quantidade').reset_index().fillna(0).rename(\r\n",
    "    columns=\r\n",
    "    {'str_fundo':'fundo',\r\n",
    "    'str_mesa':'mesa',\r\n",
    "    'D':'trade_doado',\r\n",
    "    'T':'trade_tomado'}\r\n",
    "    )"
   ],
   "outputs": [],
   "metadata": {}
  },
  {
   "cell_type": "code",
   "execution_count": null,
   "source": [
    "from BBI import get_bbi\r\n",
    "recalls =  get_bbi.req_mov_alugueis_solicitacao_liq(dt)"
   ],
   "outputs": [],
   "metadata": {}
  },
  {
   "cell_type": "code",
   "execution_count": null,
   "source": [
    "recalls[(recalls['codneg']=='ARZZ3')]"
   ],
   "outputs": [],
   "metadata": {}
  },
  {
   "cell_type": "markdown",
   "source": [],
   "metadata": {}
  },
  {
   "cell_type": "code",
   "execution_count": null,
   "source": [],
   "outputs": [],
   "metadata": {}
  },
  {
   "cell_type": "code",
   "execution_count": null,
   "source": [
    "recalls = recalls.rename(columns={'contrato':'str_numcontrato','Fundo_Kptl':'str_fundo','codneg':'codigo'}).merge(ctos_btc[['str_fundo','str_numcontrato','codigo','str_mesa','str_estrategia']],on=['str_fundo','str_numcontrato','codigo'],how='inner')"
   ],
   "outputs": [],
   "metadata": {}
  },
  {
   "cell_type": "code",
   "execution_count": null,
   "source": [
    "recalls['qtde'] = recalls.apply(lambda row: -abs(row['qtde']) if row['tipo']=='TOMADOR' else abs(row['qtde']),axis=1)\r\n"
   ],
   "outputs": [],
   "metadata": {}
  },
  {
   "cell_type": "code",
   "execution_count": null,
   "source": [
    "recalls['dvd'] = recalls['str_numcontrato'].apply(lambda x: recalls['str_numcontrato'].tolist().count(x))"
   ],
   "outputs": [],
   "metadata": {}
  },
  {
   "cell_type": "code",
   "execution_count": null,
   "source": [],
   "outputs": [],
   "metadata": {}
  },
  {
   "cell_type": "code",
   "execution_count": null,
   "source": [
    "recalls = pd.pivot_table(recalls,columns='datalimite',index=['str_fundo','codigo','str_mesa','str_estrategia','dvd'],values='qtde').reset_index().fillna(0)"
   ],
   "outputs": [],
   "metadata": {}
  },
  {
   "cell_type": "code",
   "execution_count": null,
   "source": [
    "recalls.columns[-1].to_pydatetime().date()"
   ],
   "outputs": [],
   "metadata": {}
  },
  {
   "cell_type": "code",
   "execution_count": null,
   "source": [
    "recalls  = recalls.rename(columns = {pd.Timestamp(dt_next_3):'PendRecallD3',pd.Timestamp(dt_next_2):'PendRecallD2',pd.Timestamp(dt_next_1):'PendRecallD1'})"
   ],
   "outputs": [],
   "metadata": {}
  },
  {
   "cell_type": "code",
   "execution_count": null,
   "source": [
    "import math\r\n",
    "def round_up(n, decimals=0):\r\n",
    "    multiplier = 10 ** decimals\r\n",
    "    return math.ceil(n * multiplier) / multiplier"
   ],
   "outputs": [],
   "metadata": {}
  },
  {
   "cell_type": "code",
   "execution_count": null,
   "source": [
    "recalls"
   ],
   "outputs": [],
   "metadata": {}
  },
  {
   "cell_type": "code",
   "execution_count": null,
   "source": [
    "for i in range(1,4):\r\n",
    "    if f\"PendRecallD{i}\" not in recalls.columns:\r\n",
    "        recalls[f\"PendRecallD{i}\"] = 0\r\n",
    "\r\n",
    "\r\n",
    "\r\n"
   ],
   "outputs": [],
   "metadata": {}
  },
  {
   "cell_type": "code",
   "execution_count": null,
   "source": [
    "\r\n",
    "recalls['PendRecallD1'] = recalls.apply( lambda row: round_up(float(row['PendRecallD1']/row['dvd'])),axis=1 )\r\n",
    "recalls['PendRecallD2'] = recalls.apply( lambda row: round_up(float(row['PendRecallD2']/row['dvd'])),axis=1 )\r\n",
    "recalls['PendRecallD3'] = recalls.apply( lambda row: round_up(float(row['PendRecallD3']/row['dvd'])),axis=1 )"
   ],
   "outputs": [],
   "metadata": {}
  },
  {
   "cell_type": "code",
   "execution_count": null,
   "source": [
    "mapa = mapa.merge(recalls.rename(columns = {'str_fundo':'fundo','str_mesa':'mesa'}),on=['fundo','mesa', 'str_estrategia','codigo'],how='left').fillna(0)"
   ],
   "outputs": [],
   "metadata": {}
  },
  {
   "cell_type": "code",
   "execution_count": null,
   "source": [
    "mapa = mapa.merge(btc_ibotz,on=['fundo','mesa', 'str_estrategia','codigo'],how='outer').fillna(0)"
   ],
   "outputs": [],
   "metadata": {}
  },
  {
   "cell_type": "code",
   "execution_count": null,
   "source": [],
   "outputs": [],
   "metadata": {}
  },
  {
   "cell_type": "code",
   "execution_count": null,
   "source": [
    "# mapa[\"PendRecallD1\"] = 0\r\n",
    "# mapa[\"PendRecallD2\"] = 0\r\n",
    "# mapa[\"PendRecallD3\"] = 0\r\n",
    "mapa['mov_2'] = 0"
   ],
   "outputs": [],
   "metadata": {}
  },
  {
   "cell_type": "code",
   "execution_count": null,
   "source": [
    "if not 'trade_doado' in mapa.columns:\r\n",
    "    mapa['trade_doado'] = 0 \r\n",
    "if not 'trade_tomado' in mapa.columns:\r\n",
    "    mapa['trade_tomado'] = 0\r\n",
    "\r\n",
    "\r\n",
    "if not 'interna DOADO' in mapa.columns:\r\n",
    "    mapa['interna DOADO'] = 0 \r\n",
    "if not 'interna TOMADO' in mapa.columns:\r\n",
    "    mapa['interna TOMADO'] = 0"
   ],
   "outputs": [],
   "metadata": {}
  },
  {
   "cell_type": "code",
   "execution_count": null,
   "source": [
    "\r\n",
    "mapa[\"pos_doada\"] = mapa[\"DOADO\"] + mapa[\"trade_doado\"] + mapa['interna DOADO'] +  mapa['mesas DOADO']\r\n",
    "mapa[\"pos_tomada\"] = mapa[\"TOMADO\"] + mapa[\"trade_tomado\"] + mapa['interna TOMADO'] + mapa['mesas TOMADO']\r\n",
    "mapa[\"net_alugado\"] = mapa[\"pos_doada\"] + mapa[\"pos_tomada\"]\r\n",
    "mapa[\"custodia_aux\"] = mapa[\"position\"] + mapa[\"net_alugado\"] - mapa[\"mov_0\"] - mapa[\"mov_1\"]\r\n",
    "\r\n",
    "# mapa['custodia_janela'] = Saldo doador - Mov_0 (dia atual)\r\n",
    "try:\r\n",
    "    mapa[\"custodia_0\"] = mapa[\"custodia_aux\"] - mapa[vcto_0] + mapa[\"mov_0\"] \r\n",
    "except:\r\n",
    "    mapa[\"custodia_0\"] = mapa[\"custodia_aux\"] + mapa[\"mov_0\"] \r\n",
    "mapa[\"custodia_0\"].fillna(0, inplace=True)\r\n",
    "\r\n",
    "try:\r\n",
    "    mapa[\"custodia_1\"] = mapa[\"custodia_0\"] + mapa[\"mov_1\"] - mapa[vcto_1] + mapa[\"PendRecallD1\"]\r\n",
    "except:\r\n",
    "    mapa[\"custodia_1\"] = mapa[\"custodia_0\"] + mapa[\"mov_1\"] + mapa[\"PendRecallD1\"]\r\n",
    "    \r\n",
    "try:\r\n",
    "    mapa[\"custodia_2\"] = mapa[\"custodia_1\"] - mapa[vcto_2] + mapa[\"PendRecallD2\"] + mapa[\"mov_2\"]\r\n",
    "except:\r\n",
    "    mapa[\"custodia_2\"] = mapa[\"custodia_1\"] + mapa[\"PendRecallD2\"] + mapa[\"mov_2\"]\r\n",
    "    \r\n",
    "mapa[\"custodia_3\"] = mapa[\"custodia_2\"] - mapa[vcto_3] + mapa[\"PendRecallD3\"]\r\n",
    "\r\n",
    "mapa[\"to_borrow_0\"] = np.minimum(0, mapa[\"custodia_0\"])\r\n",
    "mapa[\"to_borrow_0\"].fillna(0, inplace=True)\r\n",
    "mapa[\"to_borrow_1\"] = np.minimum(0, mapa[\"custodia_1\"] - mapa[\"to_borrow_0\"])\r\n",
    "mapa[\"to_borrow_1\"].fillna(0, inplace=True)\r\n",
    "mapa[\"to_borrow_2\"] = np.minimum(\r\n",
    "    0, mapa[\"custodia_2\"] - mapa[\"to_borrow_0\"] - mapa[\"to_borrow_1\"]\r\n",
    ")\r\n",
    "mapa[\"to_borrow_2\"].fillna(0, inplace=True)\r\n",
    "mapa[\"to_borrow_3\"] = np.minimum(\r\n",
    "    0, mapa[\"custodia_3\"] - mapa[\"to_borrow_0\"] - mapa[\"to_borrow_1\"] - mapa[\"to_borrow_2\"]\r\n",
    ")\r\n",
    "\r\n",
    "mapa[\"to_borrow_3\"].fillna(0, inplace=True)\r\n",
    "\r\n"
   ],
   "outputs": [],
   "metadata": {}
  },
  {
   "cell_type": "code",
   "execution_count": null,
   "source": [
    "mapa[\"custodia_exaluguel\"] = (\r\n",
    "    mapa[\"custodia_aux\"]\r\n",
    "    - mapa[\"net_alugado\"]\r\n",
    "    + np.minimum.reduce(\r\n",
    "        [\r\n",
    "            mapa[\"mov_0\"],\r\n",
    "            mapa[\"mov_0\"] + mapa[\"mov_1\"],\r\n",
    "            mapa[\"mov_0\"] + mapa[\"mov_1\"] + mapa[\"mov_2\"],\r\n",
    "        ]\r\n",
    "    )\r\n",
    ")\r\n",
    "mapa[\"devol_tomador_of\"] = np.minimum(\r\n",
    "    -np.minimum(mapa[\"custodia_exaluguel\"], 0) - mapa[\"pos_tomada\"], 0\r\n",
    ")\r\n",
    "\r\n",
    "mapa[\"devol_tomador\"] = np.minimum(\r\n",
    "    -np.minimum(mapa[\"custodia_aux\"], 0) - mapa[\"pos_tomada\"], 0\r\n",
    ")\r\n",
    "mapa.loc[mapa['to_borrow_0']<0,'devol_tomador'] = 0\r\n",
    "\r\n",
    "mapa[\"devol_doador\"] = np.maximum(\r\n",
    "    -np.maximum(mapa[\"custodia_exaluguel\"], 0)\r\n",
    "    - mapa[\"pos_doada\"]\r\n",
    "    - mapa[\"PendRecallD1\"]\r\n",
    "    - mapa[\"PendRecallD2\"]\r\n",
    "    - mapa[\"PendRecallD3\"],\r\n",
    "    0,\r\n",
    ")\r\n",
    "mapa[\"devol_tomador\"].fillna(0, inplace=True)\r\n",
    "mapa[\"devol_doador\"].fillna(0, inplace=True)\r\n",
    "\r\n"
   ],
   "outputs": [],
   "metadata": {}
  },
  {
   "cell_type": "code",
   "execution_count": null,
   "source": [
    "mapa[\"to_lend\"] = mapa.apply(\r\n",
    "    lambda row: 0\r\n",
    "    if (row[\"custodia_exaluguel\"] + row[\"pos_doada\"] < 0)\r\n",
    "    else row[\"custodia_exaluguel\"] + row[\"pos_doada\"]\r\n",
    "    if row[\"custodia_exaluguel\"] > 0\r\n",
    "    else 0,\r\n",
    "    axis=1,\r\n",
    ")\r\n"
   ],
   "outputs": [],
   "metadata": {}
  },
  {
   "cell_type": "code",
   "execution_count": null,
   "source": [
    "mapa"
   ],
   "outputs": [],
   "metadata": {}
  },
  {
   "cell_type": "code",
   "execution_count": null,
   "source": [],
   "outputs": [],
   "metadata": {}
  },
  {
   "cell_type": "markdown",
   "source": [
    "# Ajuste de contratos"
   ],
   "metadata": {}
  },
  {
   "cell_type": "code",
   "execution_count": null,
   "source": [
    "ind_devol =mapa[mapa['devol_tomador']!=0][['fundo','mesa','str_estrategia','codigo','custodia_0','devol_tomador']]\r\n",
    "ajuste = mapa[mapa['to_borrow_0']!=0][['fundo','mesa','str_estrategia','codigo','to_borrow_0']]\r\n",
    "sinal_ajuste = ajuste[['fundo','codigo','to_borrow_0']]\r\n",
    "ind_devol['devol_tomador'] = -ind_devol['devol_tomador']\r\n",
    "ind_devol = ind_devol.merge(sinal_ajuste,on=['fundo','codigo'],how='inner').drop_duplicates()\r\n",
    "\r\n",
    "ind_devol['to_borrow_0'] = -ind_devol['to_borrow_0']\r\n",
    "ind_devol = ind_devol.groupby(['fundo', 'mesa', 'str_estrategia', 'codigo', 'custodia_0','devol_tomador']).agg({'to_borrow_0':sum}).reset_index()\r\n",
    "ind_devol['indicativo devol'] = ind_devol.apply(lambda row: min(row['to_borrow_0'],max(row['custodia_0'],row['devol_tomador'])),axis=1)\r\n",
    "\r\n",
    "ind_devol = ind_devol.drop_duplicates()\r\n",
    "ctos_btc.rename(columns={'str_fundo':'fundo','str_mesa':'mesa'},inplace=True)\r\n",
    "devol = ctos_btc.merge(ind_devol, on=[\"fundo\",'mesa','str_estrategia',\"codigo\"], how=\"inner\")\r\n",
    "devol = devol.drop_duplicates()\r\n",
    "devol = devol.loc[(devol['tipo']=='T') & (devol['dbl_quantidade']>0)]\r\n",
    "\r\n",
    "devol = devol.sort_values('codigo')\r\n",
    "devol['Devolucao']=0\r\n",
    "ind_devol = ind_devol.groupby(['fundo', 'mesa', 'str_estrategia', 'codigo']).agg({'indicativo devol':sum}).reset_index()\r\n"
   ],
   "outputs": [],
   "metadata": {}
  },
  {
   "cell_type": "code",
   "execution_count": null,
   "source": [
    "devol = devol[['dte_data', 'fundo', 'str_mercado', 'str_codigo', 'str_serie', 'mesa',\r\n",
    "       'str_estrategia', 'str_numcontrato', 'dbl_quantidade', 'preco',\r\n",
    "       'codigo','Devolucao']].drop_duplicates()"
   ],
   "outputs": [],
   "metadata": {}
  },
  {
   "cell_type": "code",
   "execution_count": null,
   "source": [
    "for i, row in devol.iterrows():\r\n",
    "        saldo = ind_devol.loc[(ind_devol['fundo']==row['fundo'])&(ind_devol['codigo']==row['codigo'])&(ind_devol['mesa']==row['mesa'])&(ind_devol['str_estrategia']==row['str_estrategia']),'indicativo devol'].sum()\r\n",
    "        devol.loc[(devol['fundo']==row['fundo'])&(devol['codigo']==row['codigo'])&(devol['mesa']==row['mesa'])& (devol['str_estrategia']==row['str_estrategia'] )& (devol['str_numcontrato']==row['str_numcontrato']),'Devolucao'] = min(row['dbl_quantidade'],saldo)\r\n",
    "        ind_devol.loc[(ind_devol['fundo']==row['fundo'])&(ind_devol['codigo']==row['codigo'])&(ind_devol['mesa']==row['mesa'])&(ind_devol['str_estrategia']==row['str_estrategia']),'indicativo devol'] = round( saldo -min(row['dbl_quantidade'],saldo) ,2)"
   ],
   "outputs": [],
   "metadata": {}
  },
  {
   "cell_type": "code",
   "execution_count": null,
   "source": [
    "# mapa."
   ],
   "outputs": [],
   "metadata": {}
  },
  {
   "cell_type": "code",
   "execution_count": null,
   "source": [
    "rebal_tomadores = devol[devol['Devolucao']!=0]"
   ],
   "outputs": [],
   "metadata": {}
  },
  {
   "cell_type": "code",
   "execution_count": null,
   "source": [
    "## Preciso realizar com contratos doadores\r\n",
    "ind_devol[ind_devol['indicativo devol']!=0]"
   ],
   "outputs": [],
   "metadata": {}
  },
  {
   "cell_type": "code",
   "execution_count": null,
   "source": [
    "alloc_tomadores = rebal_tomadores"
   ],
   "outputs": [],
   "metadata": {}
  },
  {
   "cell_type": "code",
   "execution_count": null,
   "source": [
    "# alloc_tomadores['dbl_quantidade'] = alloc_tomadores['Devolucao'] "
   ],
   "outputs": [],
   "metadata": {}
  },
  {
   "cell_type": "code",
   "execution_count": null,
   "source": [
    "filt_map = mapa[mapa['custodia_0']>0][['fundo','mesa','str_estrategia','codigo']]"
   ],
   "outputs": [],
   "metadata": {}
  },
  {
   "cell_type": "code",
   "execution_count": null,
   "source": [],
   "outputs": [],
   "metadata": {}
  },
  {
   "cell_type": "code",
   "execution_count": null,
   "source": [
    "alloc_tomadores = alloc_tomadores.merge(filt_map,on=['fundo','mesa','str_estrategia','codigo'],how='inner')"
   ],
   "outputs": [],
   "metadata": {}
  },
  {
   "cell_type": "code",
   "execution_count": null,
   "source": [
    "alloc_tomadores.rename(columns={'Devolucao':'Alocacao'},inplace= True)"
   ],
   "outputs": [],
   "metadata": {}
  },
  {
   "cell_type": "code",
   "execution_count": null,
   "source": [
    "alloc_tomadores['estrategia target'] = 0"
   ],
   "outputs": [],
   "metadata": {}
  },
  {
   "cell_type": "code",
   "execution_count": null,
   "source": [
    "map_ajuste = ajuste"
   ],
   "outputs": [],
   "metadata": {}
  },
  {
   "cell_type": "code",
   "execution_count": null,
   "source": [
    "map_ajuste['to_borrow_0'] = -map_ajuste['to_borrow_0']"
   ],
   "outputs": [],
   "metadata": {}
  },
  {
   "cell_type": "code",
   "execution_count": null,
   "source": [
    "map_ajuste"
   ],
   "outputs": [],
   "metadata": {}
  },
  {
   "cell_type": "code",
   "execution_count": null,
   "source": [
    "def qtd_dist(row):\r\n",
    "\r\n",
    "    if abs(row)>1000000:\r\n",
    "        if row>0:\r\n",
    "            return [100000 for i in range(abs(int(row/100000)))]\r\n",
    "        else:\r\n",
    "            return [-100000 for i in range(abs(int(row/100000)))]\r\n",
    "    \r\n",
    "    if abs(row)>100000:\r\n",
    "        if row>0:\r\n",
    "            return [10000 for i in range(abs(int(row/10000)))]\r\n",
    "        else:\r\n",
    "            return [-10000 for i in range(abs(int(row/10000)))]\r\n",
    "    if abs(row)>10000:\r\n",
    "        if row>0:\r\n",
    "            return [1000 for i in range(abs(int(row/1000)))]\r\n",
    "        else:\r\n",
    "            return [-1000 for i in range(abs(int(row/1000)))]\r\n",
    "    elif abs(row)>1000:\r\n",
    "        if row>0:\r\n",
    "            return [100 for i in range(abs(int(row/100)))]\r\n",
    "        else:\r\n",
    "            return [-100 for i in range(abs(int(row/100)))]\r\n",
    "    else:\r\n",
    "        if row>0:\r\n",
    "            return [1 for i in range(abs(int(row)))]\r\n",
    "        else:\r\n",
    "            return [-1 for i in range(abs(int(row)))]\r\n",
    "\r\n"
   ],
   "outputs": [],
   "metadata": {}
  },
  {
   "cell_type": "code",
   "execution_count": null,
   "source": [
    "def ult_dist(row):\r\n",
    "    if row>0:\r\n",
    "        return [1 for i in range(abs(int(row)))]\r\n",
    "    else:\r\n",
    "        return [-1 for i in range(abs(int(row)))]"
   ],
   "outputs": [],
   "metadata": {}
  },
  {
   "cell_type": "code",
   "execution_count": null,
   "source": [
    "def dist_ctos(alloc_tomadores):\r\n",
    "       \r\n",
    "\r\n",
    "       alloc_tomadores[\"quebra\"] = alloc_tomadores[\"dbl_quantidade\"].apply(lambda x: qtd_dist(x))\r\n",
    "       alloc_tomadores = alloc_tomadores.explode(\"quebra\")\r\n",
    "       # print(alloc_tomadores.columns)\r\n",
    "       dif = alloc_tomadores.groupby(['dte_data', 'fundo', 'str_mercado', 'str_codigo', 'str_serie', 'mesa',\r\n",
    "              'str_estrategia', 'str_numcontrato', 'dbl_quantidade', 'preco',\r\n",
    "              'codigo', 'Alocacao', 'estrategia target']).agg({'quebra':sum}).reset_index().drop_duplicates()\r\n",
    "       dif['diff'] = dif['dbl_quantidade'] - dif['quebra']\r\n",
    "       dif = dif[dif['diff']!=0]\r\n",
    "       dif['dbl_quantidade'] = dif['diff']\r\n",
    "       dif[\"quebra\"] = dif[\"dbl_quantidade\"].apply(lambda x: ult_dist(x))\r\n",
    "       dif = dif.explode(\"quebra\")\r\n",
    "       alloc_tomadores = pd.concat([alloc_tomadores,dif])\r\n",
    "       alloc_tomadores['aux'] = alloc_tomadores['dbl_quantidade'] \r\n",
    "       alloc_tomadores['dbl_quantidade'] = alloc_tomadores['quebra']\r\n",
    "\r\n",
    "       return alloc_tomadores"
   ],
   "outputs": [],
   "metadata": {}
  },
  {
   "cell_type": "code",
   "execution_count": null,
   "source": [
    "alloc_tomadores = dist_ctos(alloc_tomadores=alloc_tomadores)"
   ],
   "outputs": [],
   "metadata": {}
  },
  {
   "cell_type": "code",
   "execution_count": null,
   "source": [
    "alloc_tomadores = alloc_tomadores.sort_values(by=['quebra'], ascending=False)"
   ],
   "outputs": [],
   "metadata": {}
  },
  {
   "cell_type": "code",
   "execution_count": null,
   "source": [
    "map_ajuste"
   ],
   "outputs": [],
   "metadata": {}
  },
  {
   "cell_type": "code",
   "execution_count": null,
   "source": [
    "alloc_tomadores.index = [x+1 for x in range(alloc_tomadores.shape[0])]\r\n",
    "map_ajuste.index = [x+1 for x in range(map_ajuste.shape[0])]"
   ],
   "outputs": [],
   "metadata": {}
  },
  {
   "cell_type": "code",
   "execution_count": null,
   "source": [],
   "outputs": [],
   "metadata": {}
  },
  {
   "cell_type": "code",
   "execution_count": null,
   "source": [
    "alloc_tomadores['volta'] = 0\r\n",
    "alloc_tomadores['estrategia target'] = 0\r\n",
    "alloc_tomadores['mesa target'] = 0\r\n",
    "from tqdm import tqdm\r\n",
    "aux = pd.DataFrame()\r\n",
    "ativos_concluidos = []\r\n",
    "with tqdm(total=map_ajuste.shape[0]) as pbar:\r\n",
    "    for i, row in (map_ajuste.iterrows()):\r\n",
    "        pbar.update(1)\r\n",
    "        saldo = row['to_borrow_0']\r\n",
    "        aux = alloc_tomadores[alloc_tomadores['codigo']==row['codigo']]\r\n",
    "        \r\n",
    "        for x, x_row in aux.iterrows():\r\n",
    "            if int(saldo) ==0:\r\n",
    "                break\r\n",
    "            if (x_row['codigo']==row['codigo']) & (x_row['fundo']==row['fundo']):\r\n",
    "                if (alloc_tomadores.loc[x,'estrategia target']==0):\r\n",
    "                    total = min(saldo,x_row['dbl_quantidade'])\r\n",
    "                    alloc_tomadores.loc[x,'volta'] = total\r\n",
    "                    alloc_tomadores.loc[x,'mesa target'] = row['mesa']\r\n",
    "                    alloc_tomadores.loc[x,'estrategia target'] = row['str_estrategia']\r\n",
    "                    saldo = saldo - total\r\n",
    "                    map_ajuste.loc[i,'to_borrow_0']  = saldo\r\n",
    "            "
   ],
   "outputs": [],
   "metadata": {}
  },
  {
   "cell_type": "code",
   "execution_count": null,
   "source": [
    "map_ajuste"
   ],
   "outputs": [],
   "metadata": {}
  },
  {
   "cell_type": "code",
   "execution_count": null,
   "source": [
    "alloc_tomadores['saldo'] = alloc_tomadores['quebra'] - alloc_tomadores['volta']"
   ],
   "outputs": [],
   "metadata": {}
  },
  {
   "cell_type": "code",
   "execution_count": null,
   "source": [
    "saldo_alloc_tomadores = alloc_tomadores[alloc_tomadores['saldo']!=0]"
   ],
   "outputs": [],
   "metadata": {}
  },
  {
   "cell_type": "code",
   "execution_count": null,
   "source": [
    "saldo_alloc_tomadores['dbl_quantidade'] = saldo_alloc_tomadores['saldo']"
   ],
   "outputs": [],
   "metadata": {}
  },
  {
   "cell_type": "code",
   "execution_count": null,
   "source": [
    "saldo_alloc_tomadores[\"quebra\"] = saldo_alloc_tomadores[\"dbl_quantidade\"].apply(lambda x: ult_dist(x))\r\n",
    "saldo_alloc_tomadores = saldo_alloc_tomadores.explode(\"quebra\")"
   ],
   "outputs": [],
   "metadata": {}
  },
  {
   "cell_type": "code",
   "execution_count": null,
   "source": [
    "saldo_alloc_tomadores['dbl_quantidade'] = saldo_alloc_tomadores['quebra']"
   ],
   "outputs": [],
   "metadata": {}
  },
  {
   "cell_type": "code",
   "execution_count": null,
   "source": [
    "map_ajuste = map_ajuste[map_ajuste['to_borrow_0']!=0]"
   ],
   "outputs": [],
   "metadata": {}
  },
  {
   "cell_type": "code",
   "execution_count": null,
   "source": [
    "saldo_alloc_tomadores.index = [x+1 for x in range(saldo_alloc_tomadores.shape[0])]\r\n",
    "map_ajuste.index = [x+1 for x in range(map_ajuste.shape[0])]"
   ],
   "outputs": [],
   "metadata": {}
  },
  {
   "cell_type": "code",
   "execution_count": null,
   "source": [
    "saldo_alloc_tomadores['volta'] = 0\r\n",
    "saldo_alloc_tomadores['estrategia target'] = 0\r\n",
    "saldo_alloc_tomadores['mesa target'] = 0\r\n",
    "from tqdm import tqdm\r\n",
    "aux = pd.DataFrame()\r\n",
    "ativos_concluidos = []\r\n",
    "with tqdm(total=map_ajuste.shape[0]) as pbar:\r\n",
    "    for i, row in (map_ajuste.iterrows()):\r\n",
    "        pbar.update(1)\r\n",
    "        saldo = row['to_borrow_0']\r\n",
    "        aux = saldo_alloc_tomadores[saldo_alloc_tomadores['codigo']==row['codigo']]\r\n",
    "        total = 0\r\n",
    "        for x, x_row in aux.iterrows():\r\n",
    "            if int(saldo) ==0:\r\n",
    "                break\r\n",
    "            if (x_row['codigo']==row['codigo']) & (x_row['fundo']==row['fundo']):\r\n",
    "                if (saldo_alloc_tomadores.loc[x,'estrategia target']==0):\r\n",
    "                    # if ((mapa.loc[(mapa['fundo']==row['fundo'])&(mapa['codigo']==row['codigo'])&(mapa['str_estrategia']==row['str_estrategia'])&(mapa['mesa']==row['mesa']),'custodia_0'].item()) - total ) > 0 :\r\n",
    "                        # total = min(saldo,x_row['dbl_quantidade']) + total\r\n",
    "                    saldo_alloc_tomadores.loc[x,'volta'] = min(saldo,x_row['dbl_quantidade'])\r\n",
    "                    saldo_alloc_tomadores.loc[x,'mesa target'] = row['mesa']\r\n",
    "                    saldo_alloc_tomadores.loc[x,'estrategia target'] = row['str_estrategia']\r\n",
    "                    saldo = saldo - min(saldo,x_row['dbl_quantidade'])\r\n",
    "                    map_ajuste.loc[i,'to_borrow_0']  = saldo\r\n",
    "                    # else:\r\n",
    "                    #     break"
   ],
   "outputs": [],
   "metadata": {}
  },
  {
   "cell_type": "code",
   "execution_count": null,
   "source": [
    "# saldo_tomadores = alloc_tomadores[alloc_tomadores['estrategia target']==0]\r\n",
    "# alloc_tomadores =  alloc_tomadores[alloc_tomadores['estrategia target']!=0]\r\n",
    "# espelho= alloc_tomadores.groupby(['fundo','codigo','estrategia target']).agg({'volta':sum}).reset_index()"
   ],
   "outputs": [],
   "metadata": {}
  },
  {
   "cell_type": "code",
   "execution_count": null,
   "source": [
    "map_ajuste = map_ajuste[map_ajuste['to_borrow_0']!=0] "
   ],
   "outputs": [],
   "metadata": {}
  },
  {
   "cell_type": "code",
   "execution_count": null,
   "source": [
    "map_ajuste"
   ],
   "outputs": [],
   "metadata": {}
  },
  {
   "cell_type": "markdown",
   "source": [
    "## Rebalanceamento com devolução Doadora"
   ],
   "metadata": {}
  },
  {
   "cell_type": "code",
   "execution_count": null,
   "source": [
    "def dist_ctos(alloc_tomadores):\r\n",
    "       \r\n",
    "\r\n",
    "       alloc_tomadores[\"quebra\"] = alloc_tomadores[\"dbl_quantidade\"].apply(lambda x: qtd_dist(x))\r\n",
    "       alloc_tomadores = alloc_tomadores.explode(\"quebra\")\r\n",
    "       dif = alloc_tomadores.groupby(['dte_data', 'fundo', 'str_mercado', 'str_codigo', 'str_serie', 'mesa',\r\n",
    "              'str_estrategia', 'str_numcontrato', 'dbl_quantidade', 'preco',\r\n",
    "              'codigo', 'Alocacao', 'estrategia target']).agg({'quebra':sum}).reset_index().drop_duplicates()\r\n",
    "       dif['diff'] = dif['dbl_quantidade'] - dif['quebra']\r\n",
    "       dif = dif[dif['diff']!=0]\r\n",
    "       dif['dbl_quantidade'] = dif['diff']\r\n",
    "       dif[\"quebra\"] = dif[\"dbl_quantidade\"].apply(lambda x: ult_dist(x))\r\n",
    "       dif = dif.explode(\"quebra\")\r\n",
    "       alloc_tomadores = pd.concat([alloc_tomadores,dif])\r\n",
    "       alloc_tomadores['aux'] = alloc_tomadores['dbl_quantidade'] \r\n",
    "       alloc_tomadores['dbl_quantidade'] = alloc_tomadores['quebra']\r\n",
    "\r\n",
    "       return alloc_tomadores"
   ],
   "outputs": [],
   "metadata": {}
  },
  {
   "cell_type": "code",
   "execution_count": null,
   "source": [
    "ctos_btc_d = ctos_btc[ctos_btc['tipo']=='D']\r\n",
    "devol_d = ctos_btc_d.merge(map_ajuste, on=[\"fundo\",'mesa','str_estrategia',\"codigo\"], how=\"inner\")\r\n",
    "devol_d['to_borrow_0'] = devol_d['to_borrow_0'].fillna(0)\r\n",
    "devol_d = devol_d[devol_d['to_borrow_0']!=0]\r\n",
    "devol_d['dbl_quantidade'] = abs(devol_d['dbl_quantidade'])\r\n",
    "devol_d['Alocacao'] = 0\r\n",
    "devol_d['estrategia target'] = 0\r\n",
    "devol_d = dist_ctos(alloc_tomadores=devol_d)\r\n",
    "devol_d.index = [x+1 for x in range(devol_d.shape[0])]\r\n",
    "map_ajuste.index = [x+1 for x in range(map_ajuste.shape[0])]"
   ],
   "outputs": [],
   "metadata": {}
  },
  {
   "cell_type": "code",
   "execution_count": null,
   "source": [
    "devol_d['volta'] = 0\r\n",
    "\r\n",
    "devol_d['estrategia target'] = 0\r\n",
    "\r\n",
    "devol_d['mesa target'] = 0\r\n",
    "\r\n",
    "\r\n",
    "with tqdm(total=map_ajuste.shape[0]) as pbar:\r\n",
    "    for i, row in (map_ajuste.iterrows()):\r\n",
    "        pbar.update(1)\r\n",
    "        saldo = row['to_borrow_0']\r\n",
    "        for x, x_row in devol_d.iterrows():\r\n",
    "            if int(saldo) ==0:\r\n",
    "                break\r\n",
    "            if (x_row['codigo']==row['codigo']) & (x_row['fundo']==row['fundo']):\r\n",
    "                if (devol_d.loc[x,'estrategia target']==0):\r\n",
    "                    devol_d.loc[x,'volta'] = min(saldo,x_row['dbl_quantidade'])\r\n",
    "                    devol_d.loc[x,'mesa target'] = row['mesa']\r\n",
    "                    devol_d.loc[x,'estrategia target'] = row['str_estrategia']\r\n",
    "                    saldo = saldo - min(saldo,x_row['dbl_quantidade'])\r\n",
    "                    map_ajuste.loc[i,'to_borrow_0']  = saldo\r\n",
    "            "
   ],
   "outputs": [],
   "metadata": {}
  },
  {
   "cell_type": "code",
   "execution_count": null,
   "source": [
    "devol_d"
   ],
   "outputs": [],
   "metadata": {}
  },
  {
   "cell_type": "code",
   "execution_count": null,
   "source": [
    "map_ajuste[map_ajuste['to_borrow_0']!=0]"
   ],
   "outputs": [],
   "metadata": {}
  },
  {
   "cell_type": "code",
   "execution_count": null,
   "source": [
    "mapa"
   ],
   "outputs": [],
   "metadata": {}
  },
  {
   "cell_type": "markdown",
   "source": [
    "# Organizando Boletas"
   ],
   "metadata": {}
  },
  {
   "cell_type": "code",
   "execution_count": null,
   "source": [
    "a = alloc_tomadores.groupby(\r\n",
    "    [\r\n",
    "    'dte_data', 'fundo', 'str_mercado', 'str_codigo', 'str_serie', 'mesa',\r\n",
    "       'str_estrategia', 'str_numcontrato',\r\n",
    "       'codigo','estrategia target', 'mesa target','Alocacao',\r\n",
    "    ]\r\n",
    ").agg({'volta':sum}).reset_index()\r\n",
    "\r\n"
   ],
   "outputs": [],
   "metadata": {}
  },
  {
   "cell_type": "code",
   "execution_count": null,
   "source": [
    "saldo_alloc_tomadores = saldo_alloc_tomadores.groupby(\r\n",
    "    [\r\n",
    "    'dte_data', 'fundo', 'str_mercado', 'str_codigo', 'str_serie', 'mesa',\r\n",
    "       'str_estrategia', 'str_numcontrato', 'dbl_quantidade',\r\n",
    "       'codigo','estrategia target', 'mesa target','Alocacao',\r\n",
    "       \r\n",
    "    ]\r\n",
    ").agg({'volta':sum}).reset_index()\r\n"
   ],
   "outputs": [],
   "metadata": {}
  },
  {
   "cell_type": "code",
   "execution_count": null,
   "source": [
    "saldo_alloc_tomadores = saldo_alloc_tomadores[saldo_alloc_tomadores['estrategia target']!=0]"
   ],
   "outputs": [],
   "metadata": {}
  },
  {
   "cell_type": "code",
   "execution_count": null,
   "source": [
    "devol = devol_d.groupby(\r\n",
    "    [\r\n",
    "    'dte_data', 'fundo', 'str_mercado', 'str_codigo', 'str_serie', 'mesa',\r\n",
    "       'str_estrategia', 'str_numcontrato', 'dbl_quantidade',\r\n",
    "       'codigo','estrategia target', 'mesa target','Alocacao',\r\n",
    "       \r\n",
    "    ]\r\n",
    ").agg({'volta':sum}).reset_index()"
   ],
   "outputs": [],
   "metadata": {}
  },
  {
   "cell_type": "code",
   "execution_count": null,
   "source": [
    "devol = devol[devol['estrategia target']!=0]"
   ],
   "outputs": [],
   "metadata": {}
  },
  {
   "cell_type": "code",
   "execution_count": null,
   "source": [
    "mapa"
   ],
   "outputs": [],
   "metadata": {}
  },
  {
   "cell_type": "markdown",
   "source": [],
   "metadata": {}
  },
  {
   "cell_type": "markdown",
   "source": [
    "# Montando boletas"
   ],
   "metadata": {}
  },
  {
   "cell_type": "code",
   "execution_count": null,
   "source": [
    "tomador = pd.concat([a,saldo_alloc_tomadores])"
   ],
   "outputs": [],
   "metadata": {}
  },
  {
   "cell_type": "code",
   "execution_count": null,
   "source": [
    "tomador_g = tomador[['fundo','mesa','str_estrategia','mesa target','estrategia target','codigo','str_serie','volta','str_numcontrato']]"
   ],
   "outputs": [],
   "metadata": {}
  },
  {
   "cell_type": "code",
   "execution_count": null,
   "source": [
    "tomador_g = tomador_g[tomador_g['volta']!=0]\r\n",
    "tomador_in = tomador_g[['fundo','mesa target','estrategia target','codigo','str_serie','volta','str_numcontrato']]\r\n",
    "tomador_out = tomador_g[['fundo','mesa','str_estrategia','codigo','str_serie','volta','str_numcontrato']]\r\n",
    "tomador_out['dbl_quantidade'] = -abs(tomador_out['volta'])\r\n",
    "tomador_in['dbl_quantidade'] = abs(tomador_in['volta'])\r\n",
    "\r\n",
    "tomador_in = tomador_in[['fundo','mesa target','estrategia target','codigo','str_serie','dbl_quantidade','str_numcontrato']]\r\n",
    "tomador_out = tomador_out[['fundo','mesa','str_estrategia','codigo','str_serie','dbl_quantidade','str_numcontrato']]\r\n"
   ],
   "outputs": [],
   "metadata": {}
  },
  {
   "cell_type": "code",
   "execution_count": null,
   "source": [
    "tomador_in"
   ],
   "outputs": [],
   "metadata": {}
  },
  {
   "cell_type": "code",
   "execution_count": null,
   "source": [
    "columns = [\r\n",
    "    'str_fundo',\r\n",
    "    'str_mesa',\r\n",
    "    'str_estrategia',\r\n",
    "    'str_codigo', \r\n",
    "    'str_serie',\r\n",
    "    'dbl_quantidade',\r\n",
    "    'str_numcontrato'\r\n",
    "]"
   ],
   "outputs": [],
   "metadata": {}
  },
  {
   "cell_type": "code",
   "execution_count": null,
   "source": [
    "tomador_in.columns = columns\r\n",
    "tomador_out.columns = columns\r\n",
    "\r\n"
   ],
   "outputs": [],
   "metadata": {}
  },
  {
   "cell_type": "code",
   "execution_count": null,
   "source": [
    "tomador_geral = pd.concat([tomador_in,tomador_out])"
   ],
   "outputs": [],
   "metadata": {}
  },
  {
   "cell_type": "code",
   "execution_count": null,
   "source": [
    "tomador_geral['str_corretora'] = 'Interna'\r\n",
    "tomador_geral['str_clearing'] = 'Interna'\r\n",
    "tomador_geral['str_mercado'] = 'Emprestimo RV/AjustePosicao'"
   ],
   "outputs": [],
   "metadata": {}
  },
  {
   "cell_type": "code",
   "execution_count": null,
   "source": [
    "tomador_geral['str_codigo'] = tomador_geral['str_serie'].apply(lambda x: x[0:4])"
   ],
   "outputs": [],
   "metadata": {}
  },
  {
   "cell_type": "code",
   "execution_count": null,
   "source": [
    "tomador_geral.groupby('str_numcontrato').agg({'dbl_quantidade':sum})['dbl_quantidade'].sum()"
   ],
   "outputs": [],
   "metadata": {}
  },
  {
   "cell_type": "code",
   "execution_count": null,
   "source": [
    "teste = tomador_geral"
   ],
   "outputs": [],
   "metadata": {}
  },
  {
   "cell_type": "code",
   "execution_count": null,
   "source": [
    "teste = teste[[\r\n",
    "    'str_fundo',\r\n",
    "    'str_mesa',\r\n",
    "    'str_estrategia',\r\n",
    "    'str_corretora',\r\n",
    "    'str_clearing',\r\n",
    "    'str_mercado',\r\n",
    "    'str_codigo', \r\n",
    "    'str_serie',\r\n",
    "    'dbl_quantidade',\r\n",
    "    'str_numcontrato']]"
   ],
   "outputs": [],
   "metadata": {}
  },
  {
   "cell_type": "code",
   "execution_count": null,
   "source": [
    "teste.to_clipboard()"
   ],
   "outputs": [],
   "metadata": {}
  },
  {
   "cell_type": "code",
   "execution_count": null,
   "source": [
    "# check = ctos_btc.merge(teste.rename(columns={'dbl_quantidade':'trade','str_fundo':'fundo','str_mesa':'mesa'}),on=['fundo',\r\n",
    "#     'mesa',\r\n",
    "#     'str_estrategia','str_numcontrato'],how='inner')"
   ],
   "outputs": [],
   "metadata": {}
  },
  {
   "cell_type": "code",
   "execution_count": null,
   "source": [
    "# check['new lote'] = check['trade'] + check['dbl_quantidade']\r\n"
   ],
   "outputs": [],
   "metadata": {}
  },
  {
   "cell_type": "code",
   "execution_count": null,
   "source": [
    "teste"
   ],
   "outputs": [],
   "metadata": {}
  },
  {
   "cell_type": "code",
   "execution_count": null,
   "source": [
    "devol_out = devol[['fundo','mesa','str_estrategia','codigo','str_serie','volta','str_numcontrato']]\r\n",
    "devol_out['dbl_quantidade'] = abs(devol_out['volta'])\r\n",
    "\r\n"
   ],
   "outputs": [],
   "metadata": {}
  },
  {
   "cell_type": "code",
   "execution_count": null,
   "source": [
    "devol_out"
   ],
   "outputs": [],
   "metadata": {}
  },
  {
   "cell_type": "code",
   "execution_count": null,
   "source": [
    "devol_in = pd.DataFrame()"
   ],
   "outputs": [],
   "metadata": {}
  },
  {
   "cell_type": "code",
   "execution_count": null,
   "source": [
    "devol_in['fundo'] = devol_out['fundo']\r\n",
    "\r\n",
    "devol_in['codigo'] = devol_out['codigo']\r\n",
    "\r\n",
    "devol_in['str_serie'] = devol_out['str_serie']\r\n",
    "\r\n",
    "devol_in['str_numcontrato'] = devol_out['str_numcontrato']\r\n",
    "\r\n",
    "devol_in['dbl_quantidade'] = -devol_out['volta']"
   ],
   "outputs": [],
   "metadata": {}
  },
  {
   "cell_type": "code",
   "execution_count": null,
   "source": [
    "# devol_in['mesa'] = 0\r\n",
    "# devol_in['estrategia'] = 0"
   ],
   "outputs": [],
   "metadata": {}
  },
  {
   "cell_type": "code",
   "execution_count": null,
   "source": [
    "map_ajuste"
   ],
   "outputs": [],
   "metadata": {}
  },
  {
   "cell_type": "code",
   "execution_count": null,
   "source": [
    "targets = mapa[mapa['to_lend']>0]\r\n",
    "targets = targets.merge(devol_in[['fundo','codigo']].drop_duplicates(),on=['fundo','codigo'],how='inner')\r\n",
    "targets = targets[['fundo','mesa','str_estrategia','codigo','to_lend']]"
   ],
   "outputs": [],
   "metadata": {}
  },
  {
   "cell_type": "code",
   "execution_count": null,
   "source": [],
   "outputs": [],
   "metadata": {}
  },
  {
   "cell_type": "code",
   "execution_count": null,
   "source": [
    "aux = devol_in.merge(targets[['fundo','mesa','str_estrategia','codigo']],on=['fundo','codigo'],how='inner')\r\n",
    "\r\n"
   ],
   "outputs": [],
   "metadata": {}
  },
  {
   "cell_type": "code",
   "execution_count": null,
   "source": [
    "## Preparar boleta de ajuste doador\r\n",
    "aux"
   ],
   "outputs": [],
   "metadata": {}
  },
  {
   "cell_type": "code",
   "execution_count": null,
   "source": [
    "mapa"
   ],
   "outputs": [],
   "metadata": {}
  },
  {
   "cell_type": "markdown",
   "source": [
    "# 2 volta de ajustes de Internas e Diretas"
   ],
   "metadata": {}
  },
  {
   "cell_type": "code",
   "execution_count": null,
   "source": [
    "map_ajuste = map_ajuste[map_ajuste['to_borrow_0']!=0]"
   ],
   "outputs": [],
   "metadata": {}
  },
  {
   "cell_type": "code",
   "execution_count": null,
   "source": [
    "saldo_total = mapa.groupby(['fundo','codigo']).agg({'custodia_0':sum}).reset_index()\r\n",
    "saldo_quebra = mapa.groupby(['fundo','codigo','mesa','str_estrategia']).agg({'custodia_0':sum}).reset_index()"
   ],
   "outputs": [],
   "metadata": {}
  },
  {
   "cell_type": "code",
   "execution_count": null,
   "source": [
    "saldo_quebra = saldo_quebra[saldo_quebra['custodia_0']>0]"
   ],
   "outputs": [],
   "metadata": {}
  },
  {
   "cell_type": "code",
   "execution_count": null,
   "source": [
    "interna_ajuste = map_ajuste.merge(saldo_total,on=['fundo','codigo'],how='left')"
   ],
   "outputs": [],
   "metadata": {}
  },
  {
   "cell_type": "code",
   "execution_count": null,
   "source": [
    "interna_ajuste = interna_ajuste[interna_ajuste['custodia_0']>=0]"
   ],
   "outputs": [],
   "metadata": {}
  },
  {
   "cell_type": "code",
   "execution_count": null,
   "source": [
    "interna_ajuste"
   ],
   "outputs": [],
   "metadata": {}
  },
  {
   "cell_type": "code",
   "execution_count": null,
   "source": [
    "mapa_aux = mapa[mapa['custodia_0']>0].merge(interna_ajuste[['fundo','codigo','mesa','str_estrategia','to_borrow_0']].rename(columns={'to_borrow_0':'qtd target','str_estrategia':'estrategia target','mesa':'mesa target'}),on=['fundo','codigo'],how='inner')"
   ],
   "outputs": [],
   "metadata": {}
  },
  {
   "cell_type": "code",
   "execution_count": null,
   "source": [
    "saldo_quebra = saldo_quebra.merge(interna_ajuste[['fundo','codigo']],on=['fundo','codigo'],how='inner')"
   ],
   "outputs": [],
   "metadata": {}
  },
  {
   "cell_type": "code",
   "execution_count": null,
   "source": [
    "saldo_quebra = saldo_quebra.drop_duplicates()"
   ],
   "outputs": [],
   "metadata": {}
  },
  {
   "cell_type": "code",
   "execution_count": null,
   "source": [
    "saldo_quebra"
   ],
   "outputs": [],
   "metadata": {}
  },
  {
   "cell_type": "code",
   "execution_count": null,
   "source": [
    "mapa_aux =  mapa_aux[['fundo','mesa','str_estrategia','codigo','custodia_0','qtd target','estrategia target','mesa target']]"
   ],
   "outputs": [],
   "metadata": {}
  },
  {
   "cell_type": "code",
   "execution_count": null,
   "source": [
    "mapa_aux"
   ],
   "outputs": [],
   "metadata": {}
  },
  {
   "cell_type": "code",
   "execution_count": null,
   "source": [
    "for i, row in mapa_aux.iterrows():\r\n",
    "    saldo =  saldo_quebra.loc[(saldo_quebra['fundo']==row['fundo']) &  (saldo_quebra['codigo']==row['codigo']) &  (saldo_quebra['mesa']==row['mesa']) &  (saldo_quebra['str_estrategia']==row['str_estrategia']),'custodia_0'].item()\r\n",
    "    \r\n",
    "    saldo_quebra.loc[(saldo_quebra['fundo']==row['fundo']) &  (saldo_quebra['codigo']==row['codigo']) &  (saldo_quebra['mesa']==row['mesa']) &  (saldo_quebra['str_estrategia']==row['str_estrategia']),'custodia_0'] =  saldo - row['qtd target'] \r\n",
    "    \r\n"
   ],
   "outputs": [],
   "metadata": {}
  },
  {
   "cell_type": "code",
   "execution_count": null,
   "source": [
    "saldo_quebra['status'] = saldo_quebra['custodia_0'].apply(lambda x: True if x>=0 else False )"
   ],
   "outputs": [],
   "metadata": {}
  },
  {
   "cell_type": "code",
   "execution_count": null,
   "source": [
    "saldo_quebra = saldo_quebra[saldo_quebra['status']==True][['fundo','codigo','mesa','str_estrategia']]"
   ],
   "outputs": [],
   "metadata": {}
  },
  {
   "cell_type": "code",
   "execution_count": null,
   "source": [
    "mapa_aux = mapa_aux.merge(saldo_quebra,on=['fundo','codigo','mesa','str_estrategia'],how='inner')"
   ],
   "outputs": [],
   "metadata": {}
  },
  {
   "cell_type": "code",
   "execution_count": null,
   "source": [
    "mapa_aux['out'] = -mapa_aux['qtd target']"
   ],
   "outputs": [],
   "metadata": {}
  },
  {
   "cell_type": "code",
   "execution_count": null,
   "source": [
    "mapa_aux"
   ],
   "outputs": [],
   "metadata": {}
  },
  {
   "cell_type": "code",
   "execution_count": null,
   "source": [
    "boleta_out = mapa_aux[['fundo','codigo','mesa','str_estrategia','out']]\r\n",
    "boleta_in = mapa_aux[['fundo','codigo','mesa target','estrategia target','qtd target']]"
   ],
   "outputs": [],
   "metadata": {}
  },
  {
   "cell_type": "code",
   "execution_count": null,
   "source": [
    "boleta_in.columns = ['str_fundo','str_codigo','str_mesa','str_estrategia','dbl_quantidade']\r\n",
    "boleta_out.columns = ['str_fundo','str_codigo','str_mesa','str_estrategia','dbl_quantidade']"
   ],
   "outputs": [],
   "metadata": {}
  },
  {
   "cell_type": "code",
   "execution_count": null,
   "source": [
    "last_interna = pd.concat([boleta_in,boleta_out]).rename(columns = {'str_fundo':'ALOCACAO','str_mesa':'MESA','str_estrategia':'ESTRATEGIA','dbl_quantidade':'NOTIONAL'})"
   ],
   "outputs": [],
   "metadata": {}
  },
  {
   "cell_type": "code",
   "execution_count": null,
   "source": [],
   "outputs": [],
   "metadata": {}
  },
  {
   "cell_type": "code",
   "execution_count": null,
   "source": [
    "last_interna['CLEARING'] = 'Interna'\r\n",
    "last_interna['CONTRA'] = 'Interna'\r\n",
    "last_interna['TIPO'] = 'Emprestimo RV'\r\n",
    "last_interna['CODIGO'] = last_interna['str_codigo'].apply(lambda x: x[:4])\r\n",
    "last_interna['SIDE'] = last_interna['NOTIONAL'].apply(lambda x: \"T\" if x>0 else \"D\")"
   ],
   "outputs": [],
   "metadata": {}
  },
  {
   "cell_type": "code",
   "execution_count": null,
   "source": [
    "## Taxa\r\n",
    "def get_taxasalugueis(dt_1,ticker=None):\r\n",
    "    if dt_1==None:\r\n",
    "        dt = datetime.date.today()\r\n",
    "        dt_1 = workdays.workday(dt, -1, holidays_br)\r\n",
    "    CORPORATE_DSN_CONNECTION_STRING = \"DSN=Kapitalo_Corp\"\r\n",
    "\r\n",
    "    # df = pd.read_sql(query, db_conn_risk)\r\n",
    "    aux = '\"MktNm\":\"Balcao\"'\r\n",
    "    connection = pyodbc.connect(CORPORATE_DSN_CONNECTION_STRING)\r\n",
    "\r\n",
    "    df = pd.read_sql(f\" CALL up2data.XSP_UP2DATA_DEFAULT('{dt_1.strftime('%Y-%m-%d')}', 'Equities_AssetLoanFileV2', '{aux}' )\",connection)\r\n",
    "    df.columns = [x.lower() for x in df.columns]\r\n",
    "    df =df[df['mktnm']=='Balcao']\r\n",
    "\r\n",
    "    if ticker!=None:\r\n",
    "        df = df[df['tckrsymb']==ticker]\r\n",
    "    \r\n",
    "    return df\r\n"
   ],
   "outputs": [],
   "metadata": {}
  },
  {
   "cell_type": "code",
   "execution_count": null,
   "source": [
    "taxas = get_taxasalugueis(dt_1)[['tckrsymb','takravrgrate']].rename(columns={'tckrsymb':'str_codigo','takravrgrate':'taxa'})"
   ],
   "outputs": [],
   "metadata": {}
  },
  {
   "cell_type": "code",
   "execution_count": null,
   "source": [
    "last_interna = last_interna.merge(taxas,on=['str_codigo'],how='inner')"
   ],
   "outputs": [],
   "metadata": {}
  },
  {
   "cell_type": "code",
   "execution_count": null,
   "source": [
    "try:\r\n",
    "    last_interna['SERIE'] =last_interna.apply(lambda row: row['str_codigo'] + \"-\" +row['SIDE']+\"-\"+ str(row['taxa']).replace('.',',') + \"-\"+ venc_interna.strftime('%Y%m%d'+\"-\"+\"INTERNO\"),axis=1 )\r\n",
    "\r\n",
    "except:\r\n",
    "    pass"
   ],
   "outputs": [],
   "metadata": {}
  },
  {
   "cell_type": "code",
   "execution_count": null,
   "source": [
    "last_interna = last_interna[last_interna['NOTIONAL']!=0]"
   ],
   "outputs": [],
   "metadata": {}
  },
  {
   "cell_type": "code",
   "execution_count": null,
   "source": [
    "# last_interna.to_excel('last_interna.xlsx')\r\n"
   ],
   "outputs": [],
   "metadata": {}
  },
  {
   "cell_type": "code",
   "execution_count": null,
   "source": [
    "last_interna"
   ],
   "outputs": [],
   "metadata": {}
  },
  {
   "cell_type": "code",
   "execution_count": null,
   "source": [
    "mapa"
   ],
   "outputs": [],
   "metadata": {}
  },
  {
   "cell_type": "code",
   "execution_count": 10,
   "source": [
    "ctos_btc"
   ],
   "outputs": [
    {
     "output_type": "execute_result",
     "data": {
      "text/html": [
       "<div>\n",
       "<style scoped>\n",
       "    .dataframe tbody tr th:only-of-type {\n",
       "        vertical-align: middle;\n",
       "    }\n",
       "\n",
       "    .dataframe tbody tr th {\n",
       "        vertical-align: top;\n",
       "    }\n",
       "\n",
       "    .dataframe thead th {\n",
       "        text-align: right;\n",
       "    }\n",
       "</style>\n",
       "<table border=\"1\" class=\"dataframe\">\n",
       "  <thead>\n",
       "    <tr style=\"text-align: right;\">\n",
       "      <th></th>\n",
       "      <th>Unnamed: 0</th>\n",
       "      <th>dte_data</th>\n",
       "      <th>str_fundo</th>\n",
       "      <th>str_mercado</th>\n",
       "      <th>str_codigo</th>\n",
       "      <th>str_serie</th>\n",
       "      <th>str_mesa</th>\n",
       "      <th>str_estrategia</th>\n",
       "      <th>str_numcontrato</th>\n",
       "      <th>dbl_quantidade</th>\n",
       "      <th>codigo</th>\n",
       "      <th>tipo</th>\n",
       "      <th>preco</th>\n",
       "      <th>saldo</th>\n",
       "      <th>taxa</th>\n",
       "      <th>modalidade</th>\n",
       "      <th>vencimento</th>\n",
       "      <th>volume</th>\n",
       "      <th>corretora</th>\n",
       "    </tr>\n",
       "  </thead>\n",
       "  <tbody>\n",
       "    <tr>\n",
       "      <th>0</th>\n",
       "      <td>210</td>\n",
       "      <td>2023-09-25</td>\n",
       "      <td>KAPITALO ZETA MASTER FIM</td>\n",
       "      <td>Emprestimo RV</td>\n",
       "      <td>ABCB</td>\n",
       "      <td>ABCB4-D-0,14-20231025-BALCAO</td>\n",
       "      <td>Kapitalo 11.1</td>\n",
       "      <td>Bolsa 2</td>\n",
       "      <td>2023091400504897530001-1</td>\n",
       "      <td>-33</td>\n",
       "      <td>ABCB4</td>\n",
       "      <td>D</td>\n",
       "      <td>19.35</td>\n",
       "      <td>-100</td>\n",
       "      <td>0.14</td>\n",
       "      <td>BALCAO</td>\n",
       "      <td>20231025</td>\n",
       "      <td>-4.62</td>\n",
       "      <td>Link</td>\n",
       "    </tr>\n",
       "    <tr>\n",
       "      <th>1</th>\n",
       "      <td>211</td>\n",
       "      <td>2023-09-25</td>\n",
       "      <td>KAPITALO ZETA MASTER FIM</td>\n",
       "      <td>Emprestimo RV</td>\n",
       "      <td>ABCB</td>\n",
       "      <td>ABCB4-D-0,14-20231025-BALCAO</td>\n",
       "      <td>Kapitalo 1.0</td>\n",
       "      <td>Bolsa 2</td>\n",
       "      <td>2023091400504897530001-1</td>\n",
       "      <td>-67</td>\n",
       "      <td>ABCB4</td>\n",
       "      <td>D</td>\n",
       "      <td>19.35</td>\n",
       "      <td>-100</td>\n",
       "      <td>0.14</td>\n",
       "      <td>BALCAO</td>\n",
       "      <td>20231025</td>\n",
       "      <td>-9.38</td>\n",
       "      <td>Link</td>\n",
       "    </tr>\n",
       "    <tr>\n",
       "      <th>2</th>\n",
       "      <td>212</td>\n",
       "      <td>2023-09-25</td>\n",
       "      <td>KAPITALO ZETA MASTER FIA</td>\n",
       "      <td>Emprestimo RV</td>\n",
       "      <td>SBSP</td>\n",
       "      <td>SBSP3-D-0,03-20231016-E1</td>\n",
       "      <td>Kapitalo 11.1</td>\n",
       "      <td>CashCarry</td>\n",
       "      <td>2023091300482693140001-2</td>\n",
       "      <td>-10</td>\n",
       "      <td>SBSP3</td>\n",
       "      <td>D</td>\n",
       "      <td>59.31</td>\n",
       "      <td>-10</td>\n",
       "      <td>0.03</td>\n",
       "      <td>E1</td>\n",
       "      <td>20231016</td>\n",
       "      <td>-0.30</td>\n",
       "      <td>XP</td>\n",
       "    </tr>\n",
       "    <tr>\n",
       "      <th>3</th>\n",
       "      <td>213</td>\n",
       "      <td>2023-09-25</td>\n",
       "      <td>KAPITALO ZETA MASTER FIA</td>\n",
       "      <td>Emprestimo RV</td>\n",
       "      <td>SUZB</td>\n",
       "      <td>SUZB3-D-0,02-20231004-BALCAO</td>\n",
       "      <td>Kapitalo 11.1</td>\n",
       "      <td>CashCarry</td>\n",
       "      <td>2023082400496919070001-1</td>\n",
       "      <td>-1</td>\n",
       "      <td>SUZB3</td>\n",
       "      <td>D</td>\n",
       "      <td>49.45</td>\n",
       "      <td>-723</td>\n",
       "      <td>0.02</td>\n",
       "      <td>BALCAO</td>\n",
       "      <td>20231004</td>\n",
       "      <td>-0.02</td>\n",
       "      <td>XP</td>\n",
       "    </tr>\n",
       "    <tr>\n",
       "      <th>4</th>\n",
       "      <td>214</td>\n",
       "      <td>2023-09-25</td>\n",
       "      <td>KAPITALO ZETA MASTER FIA</td>\n",
       "      <td>Emprestimo RV</td>\n",
       "      <td>SUZB</td>\n",
       "      <td>SUZB3-D-0,02-20231004-BALCAO</td>\n",
       "      <td>Kapitalo 11.1</td>\n",
       "      <td>Bolsa 2</td>\n",
       "      <td>2023082400496919070001-1</td>\n",
       "      <td>-240</td>\n",
       "      <td>SUZB3</td>\n",
       "      <td>D</td>\n",
       "      <td>49.45</td>\n",
       "      <td>-723</td>\n",
       "      <td>0.02</td>\n",
       "      <td>BALCAO</td>\n",
       "      <td>20231004</td>\n",
       "      <td>-4.80</td>\n",
       "      <td>XP</td>\n",
       "    </tr>\n",
       "    <tr>\n",
       "      <th>...</th>\n",
       "      <td>...</td>\n",
       "      <td>...</td>\n",
       "      <td>...</td>\n",
       "      <td>...</td>\n",
       "      <td>...</td>\n",
       "      <td>...</td>\n",
       "      <td>...</td>\n",
       "      <td>...</td>\n",
       "      <td>...</td>\n",
       "      <td>...</td>\n",
       "      <td>...</td>\n",
       "      <td>...</td>\n",
       "      <td>...</td>\n",
       "      <td>...</td>\n",
       "      <td>...</td>\n",
       "      <td>...</td>\n",
       "      <td>...</td>\n",
       "      <td>...</td>\n",
       "      <td>...</td>\n",
       "    </tr>\n",
       "    <tr>\n",
       "      <th>5752</th>\n",
       "      <td>39627</td>\n",
       "      <td>2023-09-25</td>\n",
       "      <td>KAPITALO K10 PREV MASTER FIM</td>\n",
       "      <td>Emprestimo RV</td>\n",
       "      <td>CYRE</td>\n",
       "      <td>CYRE3-D-0,52-20231106-BALCAO</td>\n",
       "      <td>Kapitalo 11.1</td>\n",
       "      <td>Bolsa 2</td>\n",
       "      <td>2023092500509451580001-1</td>\n",
       "      <td>-1914</td>\n",
       "      <td>CYRE3</td>\n",
       "      <td>D</td>\n",
       "      <td>20.92</td>\n",
       "      <td>-1914</td>\n",
       "      <td>0.52</td>\n",
       "      <td>BALCAO</td>\n",
       "      <td>20231106</td>\n",
       "      <td>-995.28</td>\n",
       "      <td>Terra</td>\n",
       "    </tr>\n",
       "    <tr>\n",
       "      <th>5753</th>\n",
       "      <td>39628</td>\n",
       "      <td>2023-09-25</td>\n",
       "      <td>KAPITALO K10 PREV MASTER FIM</td>\n",
       "      <td>Emprestimo RV</td>\n",
       "      <td>CYRE</td>\n",
       "      <td>CYRE3-D-0,52-20231106-BALCAO</td>\n",
       "      <td>Kapitalo 11.1</td>\n",
       "      <td>Bolsa 2</td>\n",
       "      <td>2023092500509451160001-1</td>\n",
       "      <td>-694</td>\n",
       "      <td>CYRE3</td>\n",
       "      <td>D</td>\n",
       "      <td>20.92</td>\n",
       "      <td>-694</td>\n",
       "      <td>0.52</td>\n",
       "      <td>BALCAO</td>\n",
       "      <td>20231106</td>\n",
       "      <td>-360.88</td>\n",
       "      <td>Terra</td>\n",
       "    </tr>\n",
       "    <tr>\n",
       "      <th>5754</th>\n",
       "      <td>39629</td>\n",
       "      <td>2023-09-25</td>\n",
       "      <td>KAPITALO K10 PREV MASTER FIM</td>\n",
       "      <td>Emprestimo RV</td>\n",
       "      <td>CVCB</td>\n",
       "      <td>CVCB3-T-4,52-20231002-BALCAO</td>\n",
       "      <td>Kapitalo 11.1</td>\n",
       "      <td>Bolsa 2</td>\n",
       "      <td>2023082200482706750001-2</td>\n",
       "      <td>25406</td>\n",
       "      <td>CVCB3</td>\n",
       "      <td>T</td>\n",
       "      <td>2.51</td>\n",
       "      <td>25406</td>\n",
       "      <td>4.52</td>\n",
       "      <td>BALCAO</td>\n",
       "      <td>20231002</td>\n",
       "      <td>114835.12</td>\n",
       "      <td>Bradesco</td>\n",
       "    </tr>\n",
       "    <tr>\n",
       "      <th>5755</th>\n",
       "      <td>39630</td>\n",
       "      <td>2023-09-25</td>\n",
       "      <td>KAPITALO K10 PREV MASTER FIM</td>\n",
       "      <td>Emprestimo RV</td>\n",
       "      <td>CVCB</td>\n",
       "      <td>CVCB3-T-3,12-20231030-BALCAO</td>\n",
       "      <td>Kapitalo 11.1</td>\n",
       "      <td>Bolsa 2</td>\n",
       "      <td>2023091900507360490001-1</td>\n",
       "      <td>29791</td>\n",
       "      <td>CVCB3</td>\n",
       "      <td>T</td>\n",
       "      <td>2.29</td>\n",
       "      <td>29791</td>\n",
       "      <td>3.12</td>\n",
       "      <td>BALCAO</td>\n",
       "      <td>20231030</td>\n",
       "      <td>92947.92</td>\n",
       "      <td>Bradesco</td>\n",
       "    </tr>\n",
       "    <tr>\n",
       "      <th>5756</th>\n",
       "      <td>39631</td>\n",
       "      <td>2023-09-25</td>\n",
       "      <td>KAPITALO K10 PREV MASTER FIM</td>\n",
       "      <td>Emprestimo RV</td>\n",
       "      <td>CVCB</td>\n",
       "      <td>CVCB3-T-3,12-20231030-BALCAO</td>\n",
       "      <td>Kapitalo 11.1</td>\n",
       "      <td>Bolsa 2</td>\n",
       "      <td>2023091900507360320001-1</td>\n",
       "      <td>8378</td>\n",
       "      <td>CVCB3</td>\n",
       "      <td>T</td>\n",
       "      <td>2.29</td>\n",
       "      <td>8378</td>\n",
       "      <td>3.12</td>\n",
       "      <td>BALCAO</td>\n",
       "      <td>20231030</td>\n",
       "      <td>26139.36</td>\n",
       "      <td>Bradesco</td>\n",
       "    </tr>\n",
       "  </tbody>\n",
       "</table>\n",
       "<p>5757 rows × 19 columns</p>\n",
       "</div>"
      ],
      "text/plain": [
       "      Unnamed: 0   dte_data                     str_fundo    str_mercado  \\\n",
       "0            210 2023-09-25      KAPITALO ZETA MASTER FIM  Emprestimo RV   \n",
       "1            211 2023-09-25      KAPITALO ZETA MASTER FIM  Emprestimo RV   \n",
       "2            212 2023-09-25      KAPITALO ZETA MASTER FIA  Emprestimo RV   \n",
       "3            213 2023-09-25      KAPITALO ZETA MASTER FIA  Emprestimo RV   \n",
       "4            214 2023-09-25      KAPITALO ZETA MASTER FIA  Emprestimo RV   \n",
       "...          ...        ...                           ...            ...   \n",
       "5752       39627 2023-09-25  KAPITALO K10 PREV MASTER FIM  Emprestimo RV   \n",
       "5753       39628 2023-09-25  KAPITALO K10 PREV MASTER FIM  Emprestimo RV   \n",
       "5754       39629 2023-09-25  KAPITALO K10 PREV MASTER FIM  Emprestimo RV   \n",
       "5755       39630 2023-09-25  KAPITALO K10 PREV MASTER FIM  Emprestimo RV   \n",
       "5756       39631 2023-09-25  KAPITALO K10 PREV MASTER FIM  Emprestimo RV   \n",
       "\n",
       "     str_codigo                     str_serie       str_mesa str_estrategia  \\\n",
       "0          ABCB  ABCB4-D-0,14-20231025-BALCAO  Kapitalo 11.1        Bolsa 2   \n",
       "1          ABCB  ABCB4-D-0,14-20231025-BALCAO   Kapitalo 1.0        Bolsa 2   \n",
       "2          SBSP      SBSP3-D-0,03-20231016-E1  Kapitalo 11.1      CashCarry   \n",
       "3          SUZB  SUZB3-D-0,02-20231004-BALCAO  Kapitalo 11.1      CashCarry   \n",
       "4          SUZB  SUZB3-D-0,02-20231004-BALCAO  Kapitalo 11.1        Bolsa 2   \n",
       "...         ...                           ...            ...            ...   \n",
       "5752       CYRE  CYRE3-D-0,52-20231106-BALCAO  Kapitalo 11.1        Bolsa 2   \n",
       "5753       CYRE  CYRE3-D-0,52-20231106-BALCAO  Kapitalo 11.1        Bolsa 2   \n",
       "5754       CVCB  CVCB3-T-4,52-20231002-BALCAO  Kapitalo 11.1        Bolsa 2   \n",
       "5755       CVCB  CVCB3-T-3,12-20231030-BALCAO  Kapitalo 11.1        Bolsa 2   \n",
       "5756       CVCB  CVCB3-T-3,12-20231030-BALCAO  Kapitalo 11.1        Bolsa 2   \n",
       "\n",
       "               str_numcontrato  dbl_quantidade codigo tipo  preco  saldo  \\\n",
       "0     2023091400504897530001-1             -33  ABCB4    D  19.35   -100   \n",
       "1     2023091400504897530001-1             -67  ABCB4    D  19.35   -100   \n",
       "2     2023091300482693140001-2             -10  SBSP3    D  59.31    -10   \n",
       "3     2023082400496919070001-1              -1  SUZB3    D  49.45   -723   \n",
       "4     2023082400496919070001-1            -240  SUZB3    D  49.45   -723   \n",
       "...                        ...             ...    ...  ...    ...    ...   \n",
       "5752  2023092500509451580001-1           -1914  CYRE3    D  20.92  -1914   \n",
       "5753  2023092500509451160001-1            -694  CYRE3    D  20.92   -694   \n",
       "5754  2023082200482706750001-2           25406  CVCB3    T   2.51  25406   \n",
       "5755  2023091900507360490001-1           29791  CVCB3    T   2.29  29791   \n",
       "5756  2023091900507360320001-1            8378  CVCB3    T   2.29   8378   \n",
       "\n",
       "      taxa modalidade  vencimento     volume corretora  \n",
       "0     0.14     BALCAO    20231025      -4.62      Link  \n",
       "1     0.14     BALCAO    20231025      -9.38      Link  \n",
       "2     0.03         E1    20231016      -0.30        XP  \n",
       "3     0.02     BALCAO    20231004      -0.02        XP  \n",
       "4     0.02     BALCAO    20231004      -4.80        XP  \n",
       "...    ...        ...         ...        ...       ...  \n",
       "5752  0.52     BALCAO    20231106    -995.28     Terra  \n",
       "5753  0.52     BALCAO    20231106    -360.88     Terra  \n",
       "5754  4.52     BALCAO    20231002  114835.12  Bradesco  \n",
       "5755  3.12     BALCAO    20231030   92947.92  Bradesco  \n",
       "5756  3.12     BALCAO    20231030   26139.36  Bradesco  \n",
       "\n",
       "[5757 rows x 19 columns]"
      ]
     },
     "metadata": {},
     "execution_count": 10
    }
   ],
   "metadata": {}
  },
  {
   "cell_type": "markdown",
   "source": [
    "# Ajustes Gerais"
   ],
   "metadata": {}
  },
  {
   "cell_type": "code",
   "execution_count": null,
   "source": [],
   "outputs": [],
   "metadata": {}
  },
  {
   "cell_type": "code",
   "execution_count": 1,
   "source": [
    "#\r\n",
    "import sys\r\n",
    "\r\n",
    "# from devolucao import get_df_devol\r\n",
    "sys.path.append(\"..\")\r\n",
    "import DB\r\n",
    "import workdays\r\n",
    "import datetime\r\n",
    "import pandas as pd\r\n",
    "import numpy as np\r\n",
    "import carteira_ibov\r\n",
    "import taxas\r\n",
    "import os\r\n",
    "pd.options.mode.chained_assignment = None  # default='warn'\r\n",
    "import config\r\n",
    "import psycopg2\r\n",
    "import pandas as pd\r\n",
    "import workdays\r\n",
    "import pyodbc\r\n",
    "#\r\n",
    "holidays_br = workdays.load_holidays(\"BR\")\r\n",
    "holidays_b3 = workdays.load_holidays(\"B3\")\r\n",
    "\r\n",
    "dt = datetime.date.today()\r\n",
    "vcto_0 = dt\r\n",
    "dt_pos = workdays.workday(dt, -1, holidays_br)\r\n",
    "\r\n",
    "\r\n",
    "dt_1 = workdays.workday(dt, -1, holidays_b3)\r\n",
    "dt_2 = workdays.workday(dt, -2, holidays_b3)\r\n",
    "dt_3 = workdays.workday(dt, -3, holidays_b3)\r\n",
    "dt_4 = workdays.workday(dt, -4, holidays_b3)\r\n",
    "\r\n",
    "dt_next_1 = workdays.workday(dt, 1, holidays_b3)\r\n",
    "vcto_1 = dt_next_1\r\n",
    "dt_next_2 = workdays.workday(dt, 2, holidays_b3)\r\n",
    "vcto_2 = dt_next_2\r\n",
    "dt_next_3 = workdays.workday(dt, 3, holidays_b3)\r\n",
    "vcto_3 = dt_next_3\r\n",
    "dt_next_4 = workdays.workday(dt, 4, holidays_b3)\r\n",
    "vcto_4 = dt_next_4\r\n",
    "dt_next_5 = workdays.workday(dt, 5, holidays_b3)\r\n",
    "vcto_5 = dt_next_5\r\n",
    "\r\n",
    "dt_liq = workdays.workday(dt_1, 4, holidays_b3)\r\n"
   ],
   "outputs": [],
   "metadata": {}
  },
  {
   "cell_type": "markdown",
   "source": [
    "# Ajustes Contratos\r\n"
   ],
   "metadata": {}
  },
  {
   "cell_type": "code",
   "execution_count": 136,
   "source": [],
   "outputs": [],
   "metadata": {}
  },
  {
   "cell_type": "code",
   "execution_count": 2,
   "source": [
    "\r\n",
    "\r\n",
    "db_conn_test = psycopg2.connect(\r\n",
    "host=config.DB_TESTE_HOST,\r\n",
    "dbname=config.DB_TESTE_NAME,\r\n",
    "user=config.DB_TESTE_USER,\r\n",
    "password=config.DB_TESTE_PASS)\r\n",
    "\r\n",
    "query = f\"select * from tbl_alugueisconsolidados where dte_data='{dt_1.strftime('%Y-%m-%d')}' and str_mesa in ('Kapitalo 11.1','Kapitalo 1.0')\"\r\n",
    "\r\n",
    "query_ibotz = f\" select str_fundo,str_mesa,str_mercado,str_estrategia,str_codigo,str_serie, str_numcontrato,sum(dbl_quantidade) as lote_ajustado  from ibotz.tbl_boletasalugueis_ibotz where dte_data='{dt.strftime('%Y-%m-%d')}' and str_mesa in ('Kapitalo 11.1','Kapitalo 1.0') and str_mercado in ('Emprestimo RV/AjustePosicao','Emprestimo RV/Devolucao') group by str_fundo,str_mesa,str_mercado,str_estrategia,str_codigo,str_serie, str_numcontrato\"\r\n",
    "\r\n",
    "\r\n",
    "\r\n",
    "btc_ibotz = pd.read_sql(query_ibotz,db_conn_test)\r\n",
    "\r\n",
    "btc_ibotz['str_serie'] = btc_ibotz['str_serie'].apply(lambda x: x.split('/')[0])\r\n",
    "btc_ibotz = btc_ibotz.groupby(['str_fundo','str_mesa','str_mercado','str_estrategia','str_codigo','str_serie', 'str_numcontrato']).sum().reset_index()\r\n",
    "\r\n",
    "ctos_btc = pd.read_sql(query, db_conn_test)\r\n",
    "if not btc_ibotz.empty:\r\n",
    "    ctos_btc = ctos_btc.merge(btc_ibotz,on=['str_fundo', 'str_mesa', 'str_estrategia', 'str_codigo', 'str_serie',\r\n",
    "    'str_numcontrato'],how='outer').fillna(0)\r\n",
    "else:\r\n",
    "    ctos_btc['lote_ajustado'] = 0\r\n",
    "# btc_ibotz.columns = ['index','str_fundo','str_mesa'\t,'str_estrategia','clearing','contra','tipo','str_codigo','str_serie','lote_ajustado','dbl_preco','side','str_numcontrato']\r\n",
    "# aux_columns = ctos_btc.columns\r\n",
    "\r\n",
    "ctos_btc = ctos_btc.groupby(['str_fundo', 'str_mesa', 'str_estrategia', 'str_codigo', 'str_serie','str_numcontrato']).agg({'dbl_quantidade':sum,'lote_ajustado':sum}).reset_index()\r\n",
    "# ctos_btc['preco'] = ctos_btc['str_numcontrato'].map(prices)\r\n",
    "ctos_btc['dbl_quantidade_new'] =ctos_btc['dbl_quantidade']+ctos_btc['lote_ajustado']\r\n",
    "ctos_btc.to_excel('ctos_ajustados.xlsx')\r\n",
    "ctos_btc['tipo'] = ctos_btc['str_serie'].apply(lambda x: x.split('-')[1])\r\n",
    "ctos_btc['codigo'] = ctos_btc['str_serie'].apply(lambda x: x.split('-')[0])\r\n",
    "ctos_btc['test'] = ctos_btc.apply(lambda row: False if ((row['tipo']=='T')& (row['dbl_quantidade_new']<0) ) else False if ((row['tipo']=='D')& (row['dbl_quantidade_new']>0) ) else True,axis=1 )\r\n",
    "\r\n",
    "ajuste = ctos_btc[ctos_btc['test']==False]\r\n",
    "display(ajuste)\r\n",
    "target_ajuste = ctos_btc[ctos_btc['test']==True]\r\n",
    "target_ajuste['dbl_quantidade_abs'] = target_ajuste['dbl_quantidade_new'].apply(lambda x: abs(x))\r\n",
    "target_df = pd.DataFrame()\r\n",
    "ajustes_targets = target_ajuste[['str_fundo','str_mesa','str_serie','str_estrategia','str_numcontrato','dbl_quantidade_new']]\r\n",
    "\r\n",
    "\r\n",
    "ajuste = ajuste[['str_fundo','str_mesa','str_estrategia','codigo','str_serie','dbl_quantidade_new','str_numcontrato']]\r\n",
    "\r\n",
    "ajuste\r\n",
    "# aux = ajuste[ajuste['str_numcontrato']=='2023092000507940640001-1'].copy()\r\n",
    "aux = ajuste.copy()\r\n",
    "boletas = pd.DataFrame()\r\n",
    "if not aux.empty:\r\n",
    "    for i,row in aux.iterrows():\r\n",
    "        if ajustes_targets.loc[ajustes_targets['str_numcontrato']==row['str_numcontrato']].shape[0]==1: \r\n",
    "            if (ajustes_targets.loc[ajustes_targets['str_numcontrato']==row['str_numcontrato'],'dbl_quantidade_new'].item() + row['dbl_quantidade_new'])>=0:\r\n",
    "                aux_target = ajustes_targets.loc[ajustes_targets['str_numcontrato']==row['str_numcontrato']].copy()\r\n",
    "                aux_target['dbl_quantidade_new'] = row['dbl_quantidade_new']\r\n",
    "                \r\n",
    "                boletas = pd.concat([aux_target,boletas])\r\n",
    "\r\n",
    "                boletas = boletas.append({\r\n",
    "                    'str_fundo':row['str_fundo'], \r\n",
    "                    'str_mesa':row['str_mesa'],\r\n",
    "                     'str_serie':row['str_serie'],\r\n",
    "                      'str_estrategia':row['str_estrategia'],\r\n",
    "                      'str_numcontrato':row['str_numcontrato'],\r\n",
    "                      'dbl_quantidade_new':-row['dbl_quantidade_new']\r\n",
    "                },ignore_index=True)\r\n",
    "            \r\n",
    "                \r\n",
    "        else:\r\n",
    "            \r\n",
    "            aux_target = ajustes_targets.loc[ajustes_targets['str_numcontrato']==row['str_numcontrato']].copy()\r\n",
    "            aux_target['prop'] = aux_target['dbl_quantidade_new']/aux_target['dbl_quantidade_new'].sum()\r\n",
    "            aux_target['dbl_quantidade_new'] = (aux_target['prop']*row['dbl_quantidade_new']).round(0)\r\n",
    "            boletas = pd.concat([aux_target,boletas])\r\n",
    "            boletas = boletas.append({\r\n",
    "                'str_fundo':row['str_fundo'], \r\n",
    "                'str_mesa':row['str_mesa'],\r\n",
    "                    'str_serie':row['str_serie'],\r\n",
    "                    'str_estrategia':row['str_estrategia'],\r\n",
    "                    'str_numcontrato':row['str_numcontrato'],\r\n",
    "                    'dbl_quantidade_new':-row['dbl_quantidade_new']\r\n",
    "            },ignore_index=True).fillna(0)\r\n",
    "        \r\n",
    "                "
   ],
   "outputs": [
    {
     "output_type": "display_data",
     "data": {
      "text/html": [
       "<div>\n",
       "<style scoped>\n",
       "    .dataframe tbody tr th:only-of-type {\n",
       "        vertical-align: middle;\n",
       "    }\n",
       "\n",
       "    .dataframe tbody tr th {\n",
       "        vertical-align: top;\n",
       "    }\n",
       "\n",
       "    .dataframe thead th {\n",
       "        text-align: right;\n",
       "    }\n",
       "</style>\n",
       "<table border=\"1\" class=\"dataframe\">\n",
       "  <thead>\n",
       "    <tr style=\"text-align: right;\">\n",
       "      <th></th>\n",
       "      <th>str_fundo</th>\n",
       "      <th>str_mesa</th>\n",
       "      <th>str_estrategia</th>\n",
       "      <th>str_codigo</th>\n",
       "      <th>str_serie</th>\n",
       "      <th>str_numcontrato</th>\n",
       "      <th>dbl_quantidade</th>\n",
       "      <th>lote_ajustado</th>\n",
       "      <th>dbl_quantidade_new</th>\n",
       "      <th>tipo</th>\n",
       "      <th>codigo</th>\n",
       "      <th>test</th>\n",
       "    </tr>\n",
       "  </thead>\n",
       "  <tbody>\n",
       "    <tr>\n",
       "      <th>4200</th>\n",
       "      <td>KAPITALO KAPPA MASTER FIM</td>\n",
       "      <td>Kapitalo 11.1</td>\n",
       "      <td>MM</td>\n",
       "      <td>CRFB</td>\n",
       "      <td>CRFB3-T-20,69-20231127-BALCAO</td>\n",
       "      <td>2023101600517435490001-1</td>\n",
       "      <td>-525.0</td>\n",
       "      <td>0</td>\n",
       "      <td>-525.0</td>\n",
       "      <td>T</td>\n",
       "      <td>CRFB3</td>\n",
       "      <td>False</td>\n",
       "    </tr>\n",
       "  </tbody>\n",
       "</table>\n",
       "</div>"
      ],
      "text/plain": [
       "                      str_fundo       str_mesa str_estrategia str_codigo  \\\n",
       "4200  KAPITALO KAPPA MASTER FIM  Kapitalo 11.1             MM       CRFB   \n",
       "\n",
       "                          str_serie           str_numcontrato  dbl_quantidade  \\\n",
       "4200  CRFB3-T-20,69-20231127-BALCAO  2023101600517435490001-1          -525.0   \n",
       "\n",
       "      lote_ajustado  dbl_quantidade_new tipo codigo   test  \n",
       "4200              0              -525.0    T  CRFB3  False  "
      ]
     },
     "metadata": {}
    }
   ],
   "metadata": {}
  },
  {
   "cell_type": "code",
   "execution_count": 7,
   "source": [
    "boletas.to_clipboard()"
   ],
   "outputs": [],
   "metadata": {}
  },
  {
   "cell_type": "code",
   "execution_count": null,
   "source": [],
   "outputs": [],
   "metadata": {}
  },
  {
   "cell_type": "markdown",
   "source": [],
   "metadata": {}
  },
  {
   "cell_type": "code",
   "execution_count": 130,
   "source": [],
   "outputs": [],
   "metadata": {}
  },
  {
   "cell_type": "code",
   "execution_count": null,
   "source": [],
   "outputs": [],
   "metadata": {}
  },
  {
   "cell_type": "code",
   "execution_count": 143,
   "source": [
    "boletas['str_corretora']='Interna'\r\n",
    "boletas['str_clearing']='Interna'\r\n",
    "boletas['str_mercado']='Emprestimo RV/AjustePosicao'\r\n",
    "\r\n",
    "boletas['str_codigo'] = boletas['str_serie'].apply(lambda x: x[:4])"
   ],
   "outputs": [],
   "metadata": {}
  },
  {
   "cell_type": "code",
   "execution_count": 144,
   "source": [
    "boletas[['str_fundo','str_mesa','str_estrategia','str_clearing','str_corretora','str_mercado','str_codigo','str_serie','dbl_quantidade_new','str_numcontrato']].to_clipboard()"
   ],
   "outputs": [],
   "metadata": {}
  },
  {
   "cell_type": "code",
   "execution_count": null,
   "source": [
    "mapa"
   ],
   "outputs": [],
   "metadata": {}
  },
  {
   "cell_type": "code",
   "execution_count": null,
   "source": [
    "janela"
   ],
   "outputs": [],
   "metadata": {}
  }
 ],
 "metadata": {
  "orig_nbformat": 4,
  "language_info": {
   "name": "python",
   "version": "3.7.3",
   "mimetype": "text/x-python",
   "codemirror_mode": {
    "name": "ipython",
    "version": 3
   },
   "pygments_lexer": "ipython3",
   "nbconvert_exporter": "python",
   "file_extension": ".py"
  },
  "kernelspec": {
   "name": "python3",
   "display_name": "Python 3.7.3 64-bit (system)"
  },
  "interpreter": {
   "hash": "db19393a6f02e05b1e02a57a0984e495c7635796986434e660c41f0ad4c6bb1d"
  }
 },
 "nbformat": 4,
 "nbformat_minor": 2
}