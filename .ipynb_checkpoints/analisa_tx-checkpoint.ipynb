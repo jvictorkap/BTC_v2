{
 "cells": [
  {
   "cell_type": "code",
   "execution_count": null,
   "metadata": {},
   "outputs": [],
   "source": []
  },
  {
   "cell_type": "code",
   "execution_count": null,
   "metadata": {
    "scrolled": true
   },
   "outputs": [],
   "source": [
    "import sys\n",
    "sys.path.append('..')\n",
    "import pandas as pd\n",
    "import psycopg2\n",
    "import datetime \n",
    "import subprocess\n",
    "import DB\n",
    "import carteira_ibov\n",
    "import matplotlib.pyplot as plt\n",
    "from matplotlib.ticker import FuncFormatter\n",
    "from IPython.display import Markdown as md\n",
    "import workdays\n",
    "\n",
    "# df=pd.DataFrame()\n",
    "\n",
    "y=input()\n",
    "# df['codigo']=y\n",
    "\n",
    "du = 252\n",
    "start = workdays.workday(datetime.date.today(), -du, workdays.load_holidays('B3'))\n",
    "tx=DB.get_taxas(start,ticker_name=y)\n",
    "tx = tx.pivot(index='rptdt',columns='tckrsymb', values='takravrgrate')\n",
    "\n",
    "media_ano=tx[y].sum()/252\n",
    "media_semestre=tx.iloc[0:125].sum()/126\n",
    "\n",
    "\n",
    "\n",
    "\n",
    "print(media_ano)\n",
    "print(media_semestre)\n",
    "# display(tx)\n",
    "\n",
    "\n",
    "    \n",
    "\n",
    "# df.set_index('codigo', inplace=True)\n",
    "\n",
    "# plt.figure()\n",
    "# df.iloc[0].plot(xlabel=y)\n",
    "\n",
    "# print(df)\n",
    "\n",
    "\n",
    "\n"
   ]
  },
  {
   "cell_type": "code",
   "execution_count": null,
   "metadata": {},
   "outputs": [],
   "source": []
  }
 ],
 "metadata": {
  "interpreter": {
   "hash": "26c214ea8a2e441b7ca5015811ee6d2881065606e97803d3c7354d83500709f1"
  },
  "kernelspec": {
   "display_name": "Python 3 (ipykernel)",
   "language": "python",
   "name": "python3"
  },
  "language_info": {
   "codemirror_mode": {
    "name": "ipython",
    "version": 3
   },
   "file_extension": ".py",
   "mimetype": "text/x-python",
   "name": "python",
   "nbconvert_exporter": "python",
   "pygments_lexer": "ipython3",
   "version": "3.9.9"
  }
 },
 "nbformat": 4,
 "nbformat_minor": 2
}
