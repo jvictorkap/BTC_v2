{
 "cells": [
  {
   "cell_type": "code",
   "execution_count": null,
   "metadata": {},
   "outputs": [],
   "source": [
    "#\n",
    "import sys\n",
    "\n",
    "# from devolucao import get_df_devol\n",
    "sys.path.append(\"..\")\n",
    "import DB\n",
    "import workdays\n",
    "import datetime\n",
    "import pandas as pd\n",
    "import numpy as np\n",
    "import carteira_ibov\n",
    "import taxas\n",
    "import os\n",
    "pd.options.mode.chained_assignment = None  # default='warn'\n",
    "import config\n",
    "import psycopg2\n",
    "import pandas as pd\n",
    "import workdays\n",
    "import pyodbc\n",
    "#\n",
    "holidays_br = workdays.load_holidays(\"BR\")\n",
    "holidays_b3 = workdays.load_holidays(\"B3\")\n",
    "\n",
    "dt = datetime.date.today()\n",
    "vcto_0 = dt\n",
    "dt_pos = workdays.workday(dt, -1, holidays_br)\n",
    "\n",
    "\n",
    "dt_1 = workdays.workday(dt, -1, holidays_b3)\n",
    "dt_2 = workdays.workday(dt, -2, holidays_b3)\n",
    "dt_3 = workdays.workday(dt, -3, holidays_b3)\n",
    "dt_4 = workdays.workday(dt, -4, holidays_b3)\n",
    "\n",
    "dt_next_1 = workdays.workday(dt, 1, holidays_b3)\n",
    "vcto_1 = dt_next_1\n",
    "dt_next_2 = workdays.workday(dt, 2, holidays_b3)\n",
    "vcto_2 = dt_next_2\n",
    "dt_next_3 = workdays.workday(dt, 3, holidays_b3)\n",
    "vcto_3 = dt_next_3\n",
    "dt_next_4 = workdays.workday(dt, 4, holidays_b3)\n",
    "vcto_4 = dt_next_4\n",
    "dt_next_5 = workdays.workday(dt, 5, holidays_b3)\n",
    "vcto_5 = dt_next_5\n",
    "\n",
    "dt_liq = workdays.workday(dt_1, 4, holidays_b3)\n"
   ]
  },
  {
   "cell_type": "code",
   "execution_count": null,
   "metadata": {},
   "outputs": [],
   "source": [
    "dt_1"
   ]
  },
  {
   "cell_type": "code",
   "execution_count": null,
   "metadata": {},
   "outputs": [],
   "source": [
    "db_conn_test = psycopg2.connect(\n",
    "host=config.DB_TESTE_HOST,\n",
    "dbname=config.DB_TESTE_NAME,\n",
    "user=config.DB_TESTE_USER,\n",
    "password=config.DB_TESTE_PASS)\n",
    "db_conn_risk = psycopg2.connect(\n",
    "host=config.DB_RISK_HOST,\n",
    "dbname=config.DB_RISK_NAME,\n",
    "user=config.DB_RISK_USER,\n",
    "password=config.DB_RISK_PASS,\n",
    ")\n",
    "\n",
    "query = f\"select * from tbl_alugueisconsolidados where dte_data='{dt_1.strftime('%Y-%m-%d')}'\"\n",
    "\n",
    "# query2 = f\"\"\"select contrato,cotliq, qtde, liquidacao from st_alugcustcorr where \"data\"= '{dt_1.strftime('%Y-%m-%d')}' \"\"\"\n",
    "\n",
    "query2 =  f\"SELECT registro,st_alugcustcorr.cliente, st_alugcustcorr.corretora, 'T',vencimento,100*taxa, cotliq, reversor, codigo, st_alugcustcorr.contrato, (avg(qtde)+ case when sum(qteliq) is null then '0' else  sum(qteliq) end) as saldo \\\n",
    "        from st_alugcustcorr left join st_alug_devolucao on st_alugcustcorr.cliente=st_alug_devolucao.cliente and st_alugcustcorr.contrato=st_alug_devolucao.contrato and dataliq>'{dt_1}' and dataliq<='{dt_liq.strftime('%Y-%m-%d')}' \\\n",
    "        where data='{dt_1.strftime('%Y-%m-%d')}' and qtde>0\\\n",
    "        group by registro,st_alugcustcorr.cliente, st_alugcustcorr.corretora, vencimento,taxa,cotliq, reversor, codigo, st_alugcustcorr.contrato\\\n",
    "        HAVING (avg(qtde)+ case when sum(qteliq) is null then '0' else  sum(qteliq) end) <> 0 \\\n",
    "        UNION SELECT registro,st_alugcustcorr.cliente, st_alugcustcorr.corretora, 'D',vencimento,100*taxa, cotliq, reversor, codigo, st_alugcustcorr.contrato, (avg(qtde)+ case when sum(qteliq) is null then '0' else  sum(qteliq) end) as saldo \\\n",
    "        from st_alugcustcorr left join st_alug_devolucao on st_alugcustcorr.contrato=st_alug_devolucao.contrato and dataliq>'{dt_1.strftime('%Y-%m-%d')}' and dataliq<='{dt_liq.strftime('%Y-%m-%d')}'\\\n",
    "        where data='{dt_1.strftime('%Y-%m-%d')}' and qtde<0\\\n",
    "        group by registro,st_alugcustcorr.cliente, st_alugcustcorr.corretora, vencimento,taxa,cotliq, reversor, codigo, st_alugcustcorr.contrato\\\n",
    "        HAVING (avg(qtde)+ case when sum(qteliq) is null then '0' else  sum(qteliq) end) <> 0 order by codigo,vencimento \" \n",
    "\n",
    "\n",
    "df = pd.read_sql(query, db_conn_test)\n",
    "price = pd.read_sql(query2, db_conn_risk)\n",
    "db_conn_risk.close()\n",
    "db_conn_test.close()\n"
   ]
  },
  {
   "cell_type": "code",
   "execution_count": null,
   "metadata": {},
   "outputs": [],
   "source": [
    "price.rename(columns={'cotliq':'preco','contrato':'str_numcontrato','cliente':'str_fundo'},inplace=True)\n",
    "filt = price.loc[price['saldo']!=0][['preco','str_numcontrato','saldo']]\n"
   ]
  },
  {
   "cell_type": "code",
   "execution_count": null,
   "metadata": {},
   "outputs": [],
   "source": [
    "filt['tipo'] = filt['saldo'].apply(lambda x: 'T' if x>0 else 'D')"
   ]
  },
  {
   "cell_type": "code",
   "execution_count": null,
   "metadata": {},
   "outputs": [],
   "source": [
    "df.fillna(0,inplace=True)\n",
    "df = df[(df['str_mesa'].isin(['Kapitalo 11.1','Kapitalo 1.0'])) & (df['dbl_quantidade']!=0)]\n",
    "df['codigo'] = df['str_serie'].apply(lambda x: x.split('-')[0])\n",
    "df['tipo'] = df['str_serie'].apply(lambda x: x.split('-')[1])\n",
    "df = df.merge(filt,on=['str_numcontrato','tipo'],how='inner')\n",
    "df = df.drop_duplicates()"
   ]
  },
  {
   "cell_type": "code",
   "execution_count": null,
   "metadata": {},
   "outputs": [],
   "source": [
    "check = filt.drop_duplicates().merge(df[['tipo','str_numcontrato','dbl_quantidade']].drop_duplicates().groupby(['tipo','str_numcontrato']).agg({'dbl_quantidade':sum}).reset_index().drop_duplicates(),on=['tipo','str_numcontrato'],how='inner')"
   ]
  },
  {
   "cell_type": "code",
   "execution_count": null,
   "metadata": {},
   "outputs": [],
   "source": [
    "rebal = check.loc[(check['dbl_quantidade']!=check['saldo'])]\n"
   ]
  },
  {
   "cell_type": "code",
   "execution_count": null,
   "metadata": {},
   "outputs": [],
   "source": [
    "df"
   ]
  },
  {
   "cell_type": "code",
   "execution_count": null,
   "metadata": {},
   "outputs": [],
   "source": [
    "ex_df = df[df['str_numcontrato'].isin(rebal['str_numcontrato'])]"
   ]
  },
  {
   "cell_type": "code",
   "execution_count": null,
   "metadata": {},
   "outputs": [],
   "source": [
    "f_df = df[~df['str_numcontrato'].isin(rebal['str_numcontrato'])]"
   ]
  },
  {
   "cell_type": "code",
   "execution_count": null,
   "metadata": {},
   "outputs": [],
   "source": [
    "ex_df = ex_df.merge(rebal[['str_numcontrato', 'tipo', 'dbl_quantidade']].rename(columns={'dbl_quantidade':'full size'}),on=['str_numcontrato', 'tipo'],how='inner')"
   ]
  },
  {
   "cell_type": "code",
   "execution_count": null,
   "metadata": {},
   "outputs": [],
   "source": [
    "ex_df['prop'] = ex_df['dbl_quantidade']/ex_df['full size']\n",
    "\n",
    "ex_df['new_qtd'] = round(ex_df['prop']*ex_df['saldo'])"
   ]
  },
  {
   "cell_type": "code",
   "execution_count": null,
   "metadata": {},
   "outputs": [],
   "source": [
    "ex_df['dbl_quantidade'] = ex_df['new_qtd']"
   ]
  },
  {
   "cell_type": "code",
   "execution_count": null,
   "metadata": {},
   "outputs": [],
   "source": [
    "ex_df = ex_df[f_df.columns]"
   ]
  },
  {
   "cell_type": "code",
   "execution_count": null,
   "metadata": {},
   "outputs": [],
   "source": [
    "df = pd.concat([ex_df,f_df])"
   ]
  },
  {
   "cell_type": "code",
   "execution_count": null,
   "metadata": {},
   "outputs": [],
   "source": []
  },
  {
   "cell_type": "code",
   "execution_count": null,
   "metadata": {},
   "outputs": [],
   "source": [
    "# df['dbl_quantidade'] = df['saldo']\n",
    "\n",
    "df['taxa'] = df['str_serie'].apply(lambda x: x.split('-')[2].replace(',','.'))\n",
    "\n",
    "df['modalidade'] = df['str_serie'].apply(lambda x: x.split('-')[4])\n",
    "df['vencimento'] = df['str_serie'].apply(lambda x: x.split('-')[3])\n",
    "df['volume'] = df['dbl_quantidade'].astype(float)*df['taxa'].astype(float)\n",
    "df = df.drop_duplicates()\n",
    "ctos_btc = df\n",
    "vencimentos = df\n",
    "\n"
   ]
  },
  {
   "cell_type": "code",
   "execution_count": null,
   "metadata": {},
   "outputs": [],
   "source": [
    "df"
   ]
  },
  {
   "cell_type": "code",
   "execution_count": null,
   "metadata": {},
   "outputs": [],
   "source": [
    "df = df.groupby(['str_fundo','str_mesa','str_estrategia','codigo','tipo']).agg({'dbl_quantidade':sum,'volume':sum}).reset_index()"
   ]
  },
  {
   "cell_type": "code",
   "execution_count": null,
   "metadata": {},
   "outputs": [],
   "source": [
    "df['taxa media'] = (df['volume']/df['dbl_quantidade']).apply(lambda x: round(x,2))"
   ]
  },
  {
   "cell_type": "code",
   "execution_count": null,
   "metadata": {},
   "outputs": [],
   "source": [
    "btc = pd.pivot_table(df,index=['str_fundo','str_mesa','str_estrategia','codigo'],columns=['tipo'],values=['dbl_quantidade','taxa media']).reset_index().fillna(0)"
   ]
  },
  {
   "cell_type": "code",
   "execution_count": null,
   "metadata": {},
   "outputs": [],
   "source": [
    "btc.columns = ['fundo',\t'mesa',\t'str_estrategia','codigo','DOADO','TOMADO','TAXA DOADORA','TAXA TOMADORA']"
   ]
  },
  {
   "cell_type": "code",
   "execution_count": null,
   "metadata": {},
   "outputs": [],
   "source": [
    "btc[btc['codigo']=='AMER3']"
   ]
  },
  {
   "cell_type": "code",
   "execution_count": null,
   "metadata": {},
   "outputs": [],
   "source": [
    "import workdays\n",
    "holidays_br = workdays.load_holidays('BR')\n",
    "holidays_b3 = workdays.load_holidays('B3')\n",
    "dt = datetime.date.today()\n",
    "\n",
    "\n",
    "dt_1 = workdays.workday(dt, -1, holidays_b3)\n",
    "\n",
    "dt_1 = workdays.workday(dt, -1, holidays_b3)\n",
    "vcto_0 = dt.strftime('%d/%m/%Y')\n",
    "dt_pos = workdays.workday(dt, -1, holidays_br)\n",
    "venc_interna = workdays.workday(dt, 1, holidays_br)\n",
    "\n",
    "\n",
    "\n",
    "df_pos = DB.get_equity_positions_mesas(None,dt_1)\n",
    "\n",
    "\n",
    "df_pos = pd.DataFrame(df_pos[['str_fundo','str_mesa','str_estrategia',\"regexp_replace\", \"sum\"]])\n",
    "df_pos.rename(columns={\"regexp_replace\": \"codigo\", \"sum\": \"position\",\"str_fundo\":\"fundo\",'str_mesa':'mesa'}, inplace=True)\n",
    "\n",
    "\n",
    "df_pos = df_pos[ (df_pos['mesa'].isin(['Kapitalo 11.1','Kapitalo 1.0'])) & ~(df_pos['fundo'].isin(['KAPITALO CLASS B', 'KAPITALO CLASS K', 'KAPITALO CLASS OMEGA']))]"
   ]
  },
  {
   "cell_type": "code",
   "execution_count": null,
   "metadata": {},
   "outputs": [],
   "source": [
    "mapa = df_pos.merge(btc,on=['fundo','mesa','str_estrategia','codigo'],how='outer').fillna(0)"
   ]
  },
  {
   "cell_type": "markdown",
   "metadata": {},
   "source": [
    "# Incluindo Internas K11"
   ]
  },
  {
   "cell_type": "code",
   "execution_count": null,
   "metadata": {},
   "outputs": [],
   "source": [
    "import pandas as pd\n",
    "k11 = pd.read_excel('internas.xlsx')"
   ]
  },
  {
   "cell_type": "code",
   "execution_count": null,
   "metadata": {},
   "outputs": [],
   "source": [
    "k11['codigo'] = k11['SERIE'].apply(lambda x: x.split('-')[0])\n",
    "k11['taxa'] = k11['SERIE'].apply(lambda x: x.split('-')[2].replace(',','.'))\n",
    "k11['tipo'] = k11['SERIE'].apply(lambda x: x.split('-')[1])\n",
    "k11['modalidade'] = k11['SERIE'].apply(lambda x: x.split('-')[4])\n",
    "k11['vencimento'] = k11['SERIE'].apply(lambda x: x.split('-')[3])\n",
    "k11['volume'] = k11['NOTIONAL'].astype(float)*k11['taxa'].astype(float)"
   ]
  },
  {
   "cell_type": "code",
   "execution_count": null,
   "metadata": {},
   "outputs": [],
   "source": [
    "\n",
    "\n",
    "k11 = k11.rename(columns={'ALOCACAO':'str_fundo','MESA':'str_mesa','ESTRATEGIA':'str_estrategia','NOTIONAL':'dbl_quantidade'})"
   ]
  },
  {
   "cell_type": "code",
   "execution_count": null,
   "metadata": {},
   "outputs": [],
   "source": [
    "k11 = k11.groupby(['str_fundo','str_mesa','str_estrategia','codigo','tipo']).agg({'dbl_quantidade':sum,'volume':sum}).reset_index()"
   ]
  },
  {
   "cell_type": "code",
   "execution_count": null,
   "metadata": {},
   "outputs": [],
   "source": [
    "k11 = pd.pivot_table(k11,index=['str_fundo','str_mesa','str_estrategia','codigo'],columns='tipo',values='dbl_quantidade').reset_index().fillna(0)"
   ]
  },
  {
   "cell_type": "code",
   "execution_count": null,
   "metadata": {},
   "outputs": [],
   "source": []
  },
  {
   "cell_type": "code",
   "execution_count": null,
   "metadata": {},
   "outputs": [],
   "source": [
    "k11.rename(columns={'D':'interna DOADO','T':'interna TOMADO'},inplace=True)"
   ]
  },
  {
   "cell_type": "code",
   "execution_count": null,
   "metadata": {},
   "outputs": [],
   "source": [
    "k11.columns = ['fundo',\t'mesa',\t'str_estrategia','codigo','interna DOADO','interna TOMADO']"
   ]
  },
  {
   "cell_type": "markdown",
   "metadata": {},
   "source": [
    "# Incluindo Internas Mesas"
   ]
  },
  {
   "cell_type": "code",
   "execution_count": null,
   "metadata": {},
   "outputs": [],
   "source": [
    "mesa = pd.read_excel('mesa.xlsx')"
   ]
  },
  {
   "cell_type": "code",
   "execution_count": null,
   "metadata": {},
   "outputs": [],
   "source": [
    "mesa = pd.pivot_table(mesa,index=['str_fundo','str_mesa','str_estrategia','codigo'],columns='tipo',values='lote estrategia').reset_index()"
   ]
  },
  {
   "cell_type": "code",
   "execution_count": null,
   "metadata": {},
   "outputs": [],
   "source": [
    "# mesa['mesas DOADO'] = mesa['D']*-1\n",
    "mesa['mesas DOADO'] = 0\n",
    "\n",
    "mesa['mesas TOMADO'] = mesa['T']*-1"
   ]
  },
  {
   "cell_type": "code",
   "execution_count": null,
   "metadata": {},
   "outputs": [],
   "source": [
    "mesa = mesa[['str_fundo','str_mesa','str_estrategia','codigo','mesas DOADO','mesas TOMADO']].fillna(0)"
   ]
  },
  {
   "cell_type": "code",
   "execution_count": null,
   "metadata": {},
   "outputs": [],
   "source": [
    "mesa.columns = ['fundo','mesa',\t'str_estrategia','codigo','mesas DOADO','mesas TOMADO']"
   ]
  },
  {
   "cell_type": "code",
   "execution_count": null,
   "metadata": {},
   "outputs": [],
   "source": []
  },
  {
   "cell_type": "markdown",
   "metadata": {},
   "source": [
    "# Internas sinteticas + mapa"
   ]
  },
  {
   "cell_type": "code",
   "execution_count": null,
   "metadata": {},
   "outputs": [],
   "source": [
    "mapa = mapa.merge(k11,on=['fundo',\t'mesa',\t'str_estrategia','codigo'],how='outer').merge(mesa,on=['fundo',\t'mesa',\t'str_estrategia','codigo'],how='outer').fillna(0)"
   ]
  },
  {
   "cell_type": "code",
   "execution_count": null,
   "metadata": {},
   "outputs": [],
   "source": [
    "mapa"
   ]
  },
  {
   "cell_type": "markdown",
   "metadata": {},
   "source": [
    "# Vencimentos"
   ]
  },
  {
   "cell_type": "code",
   "execution_count": null,
   "metadata": {},
   "outputs": [],
   "source": [
    "\n",
    "vencimentos['vencimento'] = vencimentos['vencimento'].apply(lambda x: datetime.datetime.strptime(x,'%Y%m%d').date())"
   ]
  },
  {
   "cell_type": "code",
   "execution_count": null,
   "metadata": {},
   "outputs": [],
   "source": [
    "aux  = vencimentos.loc[(vencimentos['vencimento']>= dt) & (vencimentos['vencimento']< dt_next_5)]"
   ]
  },
  {
   "cell_type": "code",
   "execution_count": null,
   "metadata": {},
   "outputs": [],
   "source": [
    "aux = aux.groupby(['str_fundo','codigo','str_mesa','str_estrategia','vencimento']).agg({'dbl_quantidade':sum}).reset_index()"
   ]
  },
  {
   "cell_type": "code",
   "execution_count": null,
   "metadata": {},
   "outputs": [],
   "source": [
    "venc = pd.pivot_table(aux,index=['str_fundo','codigo','str_mesa','str_estrategia'],columns='vencimento',values='dbl_quantidade').reset_index().fillna(0)"
   ]
  },
  {
   "cell_type": "code",
   "execution_count": null,
   "metadata": {},
   "outputs": [],
   "source": [
    "venc.rename(columns={'str_fundo':'fundo','str_mesa':'mesa'},inplace=True)"
   ]
  },
  {
   "cell_type": "code",
   "execution_count": null,
   "metadata": {},
   "outputs": [],
   "source": [
    "mapa = mapa.merge(venc,on=['fundo','codigo','mesa','str_estrategia'],how='outer').fillna(0)"
   ]
  },
  {
   "cell_type": "code",
   "execution_count": null,
   "metadata": {},
   "outputs": [],
   "source": []
  },
  {
   "cell_type": "markdown",
   "metadata": {},
   "source": [
    "# Movimentações"
   ]
  },
  {
   "cell_type": "code",
   "execution_count": null,
   "metadata": {},
   "outputs": [],
   "source": []
  },
  {
   "cell_type": "code",
   "execution_count": null,
   "metadata": {},
   "outputs": [],
   "source": [
    "def get_equity_trades():\n",
    "    db_conn_test = psycopg2.connect(host=config.DB_TESTE_HOST, dbname=config.DB_TESTE_NAME , user=config.DB_TESTE_USER, password=config.DB_TESTE_PASS)    \n",
    "    query=f\"SELECT * FROM tbl_auxboletas1 where dte_data > '{dt_3.strftime('%Y-%m-%d')}' and ((str_mesa='Kapitalo 11.1' and str_mercado='Acao') or (str_mesa='Kapitalo 1.0' and  str_estrategia = 'Bolsa 2' and str_mercado='Acao') ) and str_fundo not in ('KAPITALO CLASS B', 'KAPITALO CLASS OMEGA')\" \n",
    "    try:\n",
    "        df =pd.read_sql(query,db_conn_test)\n",
    "    except:\n",
    "        pass\n",
    "    db_conn_test.close()\n",
    "\n",
    "    return df"
   ]
  },
  {
   "cell_type": "code",
   "execution_count": null,
   "metadata": {},
   "outputs": [],
   "source": [
    "trades = get_equity_trades()"
   ]
  },
  {
   "cell_type": "code",
   "execution_count": null,
   "metadata": {},
   "outputs": [],
   "source": [
    "trades  = trades.groupby(['str_fundo','str_serie','str_mesa','str_estrategia','dte_data']).agg({'dbl_lote':sum}).reset_index()"
   ]
  },
  {
   "cell_type": "code",
   "execution_count": null,
   "metadata": {},
   "outputs": [],
   "source": [
    "trades = pd.pivot_table(trades,index=['str_fundo','str_serie','str_mesa','str_estrategia'],columns='dte_data',values='dbl_lote').reset_index()\n"
   ]
  },
  {
   "cell_type": "code",
   "execution_count": null,
   "metadata": {},
   "outputs": [],
   "source": [
    "trades['str_serie'] = trades['str_serie'].apply(lambda x: x.replace(' BZ EQUITY',''))\n",
    "trades.rename(columns={\n",
    "    dt_2:'mov_0',\n",
    "    dt_1:'mov_1',\n",
    "    'str_fundo':'fundo',\n",
    "    'str_mesa':'mesa',\n",
    "    'str_serie':'codigo'\n",
    "    },inplace=True\n",
    ")"
   ]
  },
  {
   "cell_type": "code",
   "execution_count": null,
   "metadata": {},
   "outputs": [],
   "source": [
    "mapa = mapa.merge(trades,on=['fundo','codigo','mesa','str_estrategia'],how='outer').fillna(0)"
   ]
  },
  {
   "cell_type": "code",
   "execution_count": null,
   "metadata": {},
   "outputs": [],
   "source": [
    "dt"
   ]
  },
  {
   "cell_type": "code",
   "execution_count": null,
   "metadata": {},
   "outputs": [],
   "source": [
    "query_ibotz = f\" select str_fundo,str_mesa,str_estrategia,str_codigo,str_serie, sum(dbl_quantidade) as dbl_quantidade from ibotz.tbl_boletasalugueis_ibotz where dte_data='{dt.strftime('%Y-%m-%d')}' and str_mesa in ('Kapitalo 11.1','Kapitalo 1.0') and str_mercado like '%Emprestimo RV%' group by str_fundo,str_mesa,str_estrategia,str_codigo,str_serie\"\n",
    "db_conn_test = psycopg2.connect(\n",
    "host=config.DB_TESTE_HOST,\n",
    "dbname=config.DB_TESTE_NAME,\n",
    "user=config.DB_TESTE_USER,\n",
    "password=config.DB_TESTE_PASS)\n",
    "\n",
    "btc_ibotz = pd.read_sql(query_ibotz,db_conn_test)\n",
    "db_conn_test.close()"
   ]
  },
  {
   "cell_type": "code",
   "execution_count": null,
   "metadata": {},
   "outputs": [],
   "source": [
    "btc_ibotz['codigo'] = btc_ibotz['str_serie'].apply(lambda x: x.split('-')[0])\n",
    "btc_ibotz['tipo'] = btc_ibotz['str_serie'].apply(lambda x: x.split('-')[1])\n",
    "btc_ibotz = btc_ibotz.groupby(['str_fundo','str_mesa','str_estrategia','codigo','tipo']).agg({'dbl_quantidade':sum}).reset_index()\n"
   ]
  },
  {
   "cell_type": "code",
   "execution_count": null,
   "metadata": {},
   "outputs": [],
   "source": [
    "btc_ibotz"
   ]
  },
  {
   "cell_type": "code",
   "execution_count": null,
   "metadata": {},
   "outputs": [],
   "source": [
    "btc_ibotz = pd.pivot_table(btc_ibotz,columns='tipo',index=['str_fundo','str_mesa','codigo','str_estrategia'],values='dbl_quantidade').reset_index().fillna(0).rename(\n",
    "    columns=\n",
    "    {'str_fundo':'fundo',\n",
    "    'str_mesa':'mesa',\n",
    "    'D':'trade_doado',\n",
    "    'T':'trade_tomado'}\n",
    "    )"
   ]
  },
  {
   "cell_type": "code",
   "execution_count": null,
   "metadata": {},
   "outputs": [],
   "source": [
    "btc_ibotz"
   ]
  },
  {
   "cell_type": "code",
   "execution_count": null,
   "metadata": {},
   "outputs": [],
   "source": [
    "mapa = mapa.merge(btc_ibotz,on=['fundo','mesa', 'str_estrategia','codigo'],how='outer').fillna(0)"
   ]
  },
  {
   "cell_type": "code",
   "execution_count": null,
   "metadata": {},
   "outputs": [],
   "source": [
    "mapa[\"PendRecallD1\"] = 0\n",
    "mapa[\"PendRecallD2\"] = 0\n",
    "mapa[\"PendRecallD3\"] = 0\n",
    "mapa['mov_2'] = 0"
   ]
  },
  {
   "cell_type": "code",
   "execution_count": null,
   "metadata": {},
   "outputs": [],
   "source": [
    "if not 'trade_doado' in mapa.columns:\n",
    "    mapa['trade_doado'] = 0 \n",
    "if not 'trade_tomado' in mapa.columns:\n",
    "    mapa['trade_tomado'] = 0"
   ]
  },
  {
   "cell_type": "code",
   "execution_count": null,
   "metadata": {},
   "outputs": [],
   "source": [
    "\n",
    "mapa[\"pos_doada\"] = mapa[\"DOADO\"] + mapa[\"trade_doado\"] + mapa['interna DOADO'] +  mapa['mesas DOADO']\n",
    "mapa[\"pos_tomada\"] = mapa[\"TOMADO\"] + mapa[\"trade_tomado\"] + mapa['interna TOMADO'] + mapa['mesas TOMADO']\n",
    "mapa[\"net_alugado\"] = mapa[\"pos_doada\"] + mapa[\"pos_tomada\"]\n",
    "mapa[\"custodia_aux\"] = mapa[\"position\"] + mapa[\"net_alugado\"] - mapa[\"mov_0\"] - mapa[\"mov_1\"]\n",
    "\n",
    "# mapa['custodia_janela'] = Saldo doador - Mov_0 (dia atual)\n",
    "try:\n",
    "    mapa[\"custodia_0\"] = mapa[\"custodia_aux\"] - mapa[vcto_0] + mapa[\"mov_0\"] \n",
    "except:\n",
    "    mapa[\"custodia_0\"] = mapa[\"custodia_aux\"] + mapa[\"mov_0\"] \n",
    "mapa[\"custodia_0\"].fillna(0, inplace=True)\n",
    "\n",
    "try:\n",
    "    mapa[\"custodia_1\"] = mapa[\"custodia_0\"] + mapa[\"mov_1\"] - mapa[vcto_1] + mapa[\"PendRecallD1\"]\n",
    "except:\n",
    "    mapa[\"custodia_1\"] = mapa[\"custodia_0\"] + mapa[\"mov_1\"] + mapa[\"PendRecallD1\"]\n",
    "    \n",
    "try:\n",
    "    mapa[\"custodia_2\"] = mapa[\"custodia_1\"] - mapa[vcto_2] + mapa[\"PendRecallD2\"] + mapa[\"mov_2\"]\n",
    "except:\n",
    "    mapa[\"custodia_2\"] = mapa[\"custodia_1\"] + mapa[\"PendRecallD2\"] + mapa[\"mov_2\"]\n",
    "    \n",
    "mapa[\"custodia_3\"] = mapa[\"custodia_2\"] - mapa[vcto_3] + mapa[\"PendRecallD3\"]\n",
    "\n",
    "mapa[\"to_borrow_0\"] = np.minimum(0, mapa[\"custodia_0\"])\n",
    "mapa[\"to_borrow_0\"].fillna(0, inplace=True)\n",
    "mapa[\"to_borrow_1\"] = np.minimum(0, mapa[\"custodia_1\"] - mapa[\"to_borrow_0\"])\n",
    "mapa[\"to_borrow_1\"].fillna(0, inplace=True)\n",
    "mapa[\"to_borrow_2\"] = np.minimum(\n",
    "    0, mapa[\"custodia_2\"] - mapa[\"to_borrow_0\"] - mapa[\"to_borrow_1\"]\n",
    ")\n",
    "mapa[\"to_borrow_2\"].fillna(0, inplace=True)\n",
    "mapa[\"to_borrow_3\"] = np.minimum(\n",
    "    0, mapa[\"custodia_3\"] - mapa[\"to_borrow_0\"] - mapa[\"to_borrow_1\"] - mapa[\"to_borrow_2\"]\n",
    ")\n",
    "\n",
    "mapa[\"to_borrow_3\"].fillna(0, inplace=True)\n",
    "\n"
   ]
  },
  {
   "cell_type": "code",
   "execution_count": null,
   "metadata": {},
   "outputs": [],
   "source": [
    "mapa[\"custodia_exaluguel\"] = (\n",
    "    mapa[\"custodia_aux\"]\n",
    "    - mapa[\"net_alugado\"]\n",
    "    + np.minimum.reduce(\n",
    "        [\n",
    "            mapa[\"mov_0\"],\n",
    "            mapa[\"mov_0\"] + mapa[\"mov_1\"],\n",
    "            mapa[\"mov_0\"] + mapa[\"mov_1\"] + mapa[\"mov_2\"],\n",
    "        ]\n",
    "    )\n",
    ")\n",
    "mapa[\"devol_tomador_of\"] = np.minimum(\n",
    "    -np.minimum(mapa[\"custodia_exaluguel\"], 0) - mapa[\"pos_tomada\"], 0\n",
    ")\n",
    "\n",
    "mapa[\"devol_tomador\"] = np.minimum(\n",
    "    -np.minimum(mapa[\"custodia_aux\"], 0) - mapa[\"pos_tomada\"], 0\n",
    ")\n",
    "mapa.loc[mapa['to_borrow_0']<0,'devol_tomador'] = 0\n",
    "\n",
    "mapa[\"devol_doador\"] = np.maximum(\n",
    "    -np.maximum(mapa[\"custodia_exaluguel\"], 0)\n",
    "    - mapa[\"pos_doada\"]\n",
    "    - mapa[\"PendRecallD1\"]\n",
    "    - mapa[\"PendRecallD2\"]\n",
    "    - mapa[\"PendRecallD3\"],\n",
    "    0,\n",
    ")\n",
    "mapa[\"devol_tomador\"].fillna(0, inplace=True)\n",
    "mapa[\"devol_doador\"].fillna(0, inplace=True)\n",
    "\n"
   ]
  },
  {
   "cell_type": "code",
   "execution_count": null,
   "metadata": {},
   "outputs": [],
   "source": [
    "mapa[\"to_lend\"] = mapa.apply(\n",
    "    lambda row: 0\n",
    "    if (row[\"custodia_exaluguel\"] + row[\"pos_doada\"] < 0)\n",
    "    else row[\"custodia_exaluguel\"] + row[\"pos_doada\"]\n",
    "    if row[\"custodia_exaluguel\"] > 0\n",
    "    else 0,\n",
    "    axis=1,\n",
    ")\n"
   ]
  },
  {
   "cell_type": "code",
   "execution_count": null,
   "metadata": {},
   "outputs": [],
   "source": [
    "# mapa.to_clipboard()"
   ]
  },
  {
   "cell_type": "code",
   "execution_count": null,
   "metadata": {},
   "outputs": [],
   "source": [
    "ind_devol =mapa[mapa['devol_tomador']!=0][['fundo','mesa','str_estrategia','codigo','custodia_0','devol_tomador']]\n",
    "ajuste = mapa[mapa['to_borrow_0']!=0][['fundo','mesa','str_estrategia','codigo','to_borrow_0']]\n",
    "sinal_ajuste = ajuste[['fundo','codigo','to_borrow_0']]\n",
    "ind_devol['devol_tomador'] = -ind_devol['devol_tomador']\n",
    "ind_devol = ind_devol.merge(sinal_ajuste,on=['fundo','codigo'],how='inner').drop_duplicates()"
   ]
  },
  {
   "cell_type": "markdown",
   "metadata": {},
   "source": [
    "# Ajuste de contratos"
   ]
  },
  {
   "cell_type": "code",
   "execution_count": null,
   "metadata": {},
   "outputs": [],
   "source": [
    "ind_devol['to_borrow_0'] = -ind_devol['to_borrow_0']\n",
    "ind_devol = ind_devol.groupby(['fundo', 'mesa', 'str_estrategia', 'codigo', 'custodia_0','devol_tomador']).agg({'to_borrow_0':sum}).reset_index()\n",
    "ind_devol['indicativo devol'] = ind_devol.apply(lambda row: min(row['to_borrow_0'],max(row['custodia_0'],row['devol_tomador'])),axis=1)\n",
    "\n",
    "ind_devol = ind_devol.drop_duplicates()\n",
    "ctos_btc.rename(columns={'str_fundo':'fundo','str_mesa':'mesa'},inplace=True)\n",
    "devol = ctos_btc.merge(ind_devol, on=[\"fundo\",'mesa','str_estrategia',\"codigo\"], how=\"inner\")\n",
    "devol = devol.drop_duplicates()\n",
    "devol = devol.loc[(devol['tipo']=='T') & (devol['dbl_quantidade']>0)]\n",
    "\n",
    "devol = devol.sort_values('codigo')\n",
    "devol['Devolucao']=0\n",
    "ind_devol = ind_devol.groupby(['fundo', 'mesa', 'str_estrategia', 'codigo']).agg({'indicativo devol':sum}).reset_index()\n"
   ]
  },
  {
   "cell_type": "code",
   "execution_count": null,
   "metadata": {},
   "outputs": [],
   "source": [
    "devol = devol[['dte_data', 'fundo', 'str_mercado', 'str_codigo', 'str_serie', 'mesa',\n",
    "       'str_estrategia', 'str_numcontrato', 'dbl_quantidade', 'preco',\n",
    "       'codigo','Devolucao']].drop_duplicates()"
   ]
  },
  {
   "cell_type": "code",
   "execution_count": null,
   "metadata": {},
   "outputs": [],
   "source": [
    "for i, row in devol.iterrows():\n",
    "        saldo = ind_devol.loc[(ind_devol['fundo']==row['fundo'])&(ind_devol['codigo']==row['codigo'])&(ind_devol['mesa']==row['mesa'])&(ind_devol['str_estrategia']==row['str_estrategia']),'indicativo devol'].sum()\n",
    "        devol.loc[(devol['fundo']==row['fundo'])&(devol['codigo']==row['codigo'])&(devol['mesa']==row['mesa'])& (devol['str_estrategia']==row['str_estrategia'] )& (devol['str_numcontrato']==row['str_numcontrato']),'Devolucao'] = min(row['dbl_quantidade'],saldo)\n",
    "        ind_devol.loc[(ind_devol['fundo']==row['fundo'])&(ind_devol['codigo']==row['codigo'])&(ind_devol['mesa']==row['mesa'])&(ind_devol['str_estrategia']==row['str_estrategia']),'indicativo devol'] = round( saldo -min(row['dbl_quantidade'],saldo) ,2)"
   ]
  },
  {
   "cell_type": "code",
   "execution_count": null,
   "metadata": {},
   "outputs": [],
   "source": [
    "# mapa.to_clipboard()"
   ]
  },
  {
   "cell_type": "code",
   "execution_count": null,
   "metadata": {},
   "outputs": [],
   "source": [
    "rebal_tomadores = devol[devol['Devolucao']!=0]"
   ]
  },
  {
   "cell_type": "code",
   "execution_count": null,
   "metadata": {},
   "outputs": [],
   "source": [
    "## Preciso realizar com contratos doadores\n",
    "ind_devol[ind_devol['indicativo devol']!=0]"
   ]
  },
  {
   "cell_type": "code",
   "execution_count": null,
   "metadata": {},
   "outputs": [],
   "source": [
    "alloc_tomadores = rebal_tomadores"
   ]
  },
  {
   "cell_type": "code",
   "execution_count": null,
   "metadata": {},
   "outputs": [],
   "source": [
    "# alloc_tomadores['dbl_quantidade'] = alloc_tomadores['Devolucao'] "
   ]
  },
  {
   "cell_type": "code",
   "execution_count": null,
   "metadata": {},
   "outputs": [],
   "source": [
    "filt_map = mapa[mapa['custodia_0']>0][['fundo','mesa','str_estrategia','codigo']]"
   ]
  },
  {
   "cell_type": "code",
   "execution_count": null,
   "metadata": {},
   "outputs": [],
   "source": [
    "map_ajuste"
   ]
  },
  {
   "cell_type": "code",
   "execution_count": null,
   "metadata": {},
   "outputs": [],
   "source": [
    "alloc_tomadores = alloc_tomadores.merge(filt_map,on=['fundo','mesa','str_estrategia','codigo'],how='inner')"
   ]
  },
  {
   "cell_type": "code",
   "execution_count": null,
   "metadata": {},
   "outputs": [],
   "source": [
    "alloc_tomadores.rename(columns={'Devolucao':'Alocacao'},inplace= True)"
   ]
  },
  {
   "cell_type": "code",
   "execution_count": null,
   "metadata": {},
   "outputs": [],
   "source": [
    "alloc_tomadores['estrategia target'] = 0"
   ]
  },
  {
   "cell_type": "code",
   "execution_count": null,
   "metadata": {},
   "outputs": [],
   "source": [
    "map_ajuste = ajuste"
   ]
  },
  {
   "cell_type": "code",
   "execution_count": null,
   "metadata": {},
   "outputs": [],
   "source": [
    "map_ajuste['to_borrow_0'] = -map_ajuste['to_borrow_0']"
   ]
  },
  {
   "cell_type": "code",
   "execution_count": null,
   "metadata": {},
   "outputs": [],
   "source": [
    "map_ajuste"
   ]
  },
  {
   "cell_type": "code",
   "execution_count": null,
   "metadata": {},
   "outputs": [],
   "source": [
    "def qtd_dist(row):\n",
    "\n",
    "    if abs(row)>1000000:\n",
    "        if row>0:\n",
    "            return [100000 for i in range(abs(int(row/100000)))]\n",
    "        else:\n",
    "            return [-100000 for i in range(abs(int(row/100000)))]\n",
    "    \n",
    "    if abs(row)>100000:\n",
    "        if row>0:\n",
    "            return [10000 for i in range(abs(int(row/10000)))]\n",
    "        else:\n",
    "            return [-10000 for i in range(abs(int(row/10000)))]\n",
    "    if abs(row)>10000:\n",
    "        if row>0:\n",
    "            return [1000 for i in range(abs(int(row/1000)))]\n",
    "        else:\n",
    "            return [-1000 for i in range(abs(int(row/1000)))]\n",
    "    elif abs(row)>1000:\n",
    "        if row>0:\n",
    "            return [100 for i in range(abs(int(row/100)))]\n",
    "        else:\n",
    "            return [-100 for i in range(abs(int(row/100)))]\n",
    "    else:\n",
    "        if row>0:\n",
    "            return [1 for i in range(abs(int(row)))]\n",
    "        else:\n",
    "            return [-1 for i in range(abs(int(row)))]\n",
    "\n"
   ]
  },
  {
   "cell_type": "code",
   "execution_count": null,
   "metadata": {},
   "outputs": [],
   "source": [
    "def ult_dist(row):\n",
    "    if row>0:\n",
    "        return [1 for i in range(abs(int(row)))]\n",
    "    else:\n",
    "        return [-1 for i in range(abs(int(row)))]"
   ]
  },
  {
   "cell_type": "code",
   "execution_count": null,
   "metadata": {},
   "outputs": [],
   "source": [
    "def dist_ctos(alloc_tomadores):\n",
    "       \n",
    "\n",
    "       alloc_tomadores[\"quebra\"] = alloc_tomadores[\"dbl_quantidade\"].apply(lambda x: qtd_dist(x))\n",
    "       alloc_tomadores = alloc_tomadores.explode(\"quebra\")\n",
    "       # print(alloc_tomadores.columns)\n",
    "       dif = alloc_tomadores.groupby(['dte_data', 'fundo', 'str_mercado', 'str_codigo', 'str_serie', 'mesa',\n",
    "              'str_estrategia', 'str_numcontrato', 'dbl_quantidade', 'preco',\n",
    "              'codigo', 'Alocacao', 'estrategia target']).agg({'quebra':sum}).reset_index().drop_duplicates()\n",
    "       dif['diff'] = dif['dbl_quantidade'] - dif['quebra']\n",
    "       dif = dif[dif['diff']!=0]\n",
    "       dif['dbl_quantidade'] = dif['diff']\n",
    "       dif[\"quebra\"] = dif[\"dbl_quantidade\"].apply(lambda x: ult_dist(x))\n",
    "       dif = dif.explode(\"quebra\")\n",
    "       alloc_tomadores = pd.concat([alloc_tomadores,dif])\n",
    "       alloc_tomadores['aux'] = alloc_tomadores['dbl_quantidade'] \n",
    "       alloc_tomadores['dbl_quantidade'] = alloc_tomadores['quebra']\n",
    "\n",
    "       return alloc_tomadores"
   ]
  },
  {
   "cell_type": "code",
   "execution_count": null,
   "metadata": {},
   "outputs": [],
   "source": [
    "alloc_tomadores = dist_ctos(alloc_tomadores=alloc_tomadores)"
   ]
  },
  {
   "cell_type": "code",
   "execution_count": null,
   "metadata": {},
   "outputs": [],
   "source": [
    "alloc_tomadores = alloc_tomadores.sort_values(by=['quebra'], ascending=False)"
   ]
  },
  {
   "cell_type": "code",
   "execution_count": null,
   "metadata": {},
   "outputs": [],
   "source": [
    "map_ajuste"
   ]
  },
  {
   "cell_type": "code",
   "execution_count": null,
   "metadata": {},
   "outputs": [],
   "source": [
    "alloc_tomadores.index = [x+1 for x in range(alloc_tomadores.shape[0])]\n",
    "map_ajuste.index = [x+1 for x in range(map_ajuste.shape[0])]"
   ]
  },
  {
   "cell_type": "code",
   "execution_count": null,
   "metadata": {},
   "outputs": [],
   "source": []
  },
  {
   "cell_type": "code",
   "execution_count": null,
   "metadata": {},
   "outputs": [],
   "source": [
    "alloc_tomadores['volta'] = 0\n",
    "alloc_tomadores['estrategia target'] = 0\n",
    "alloc_tomadores['mesa target'] = 0\n",
    "from tqdm import tqdm\n",
    "aux = pd.DataFrame()\n",
    "ativos_concluidos = []\n",
    "with tqdm(total=map_ajuste.shape[0]) as pbar:\n",
    "    for i, row in (map_ajuste.iterrows()):\n",
    "        pbar.update(1)\n",
    "        saldo = row['to_borrow_0']\n",
    "        aux = alloc_tomadores[alloc_tomadores['codigo']==row['codigo']]\n",
    "        \n",
    "        for x, x_row in aux.iterrows():\n",
    "            if int(saldo) ==0:\n",
    "                break\n",
    "            if (x_row['codigo']==row['codigo']) & (x_row['fundo']==row['fundo']):\n",
    "                if (alloc_tomadores.loc[x,'estrategia target']==0):\n",
    "                    total = min(saldo,x_row['dbl_quantidade'])\n",
    "                    alloc_tomadores.loc[x,'volta'] = total\n",
    "                    alloc_tomadores.loc[x,'mesa target'] = row['mesa']\n",
    "                    alloc_tomadores.loc[x,'estrategia target'] = row['str_estrategia']\n",
    "                    saldo = saldo - total\n",
    "                    map_ajuste.loc[i,'to_borrow_0']  = saldo\n",
    "            "
   ]
  },
  {
   "cell_type": "code",
   "execution_count": null,
   "metadata": {},
   "outputs": [],
   "source": [
    "map_ajuste"
   ]
  },
  {
   "cell_type": "code",
   "execution_count": null,
   "metadata": {},
   "outputs": [],
   "source": [
    "alloc_tomadores['saldo'] = alloc_tomadores['quebra'] - alloc_tomadores['volta']"
   ]
  },
  {
   "cell_type": "code",
   "execution_count": null,
   "metadata": {},
   "outputs": [],
   "source": [
    "saldo_alloc_tomadores = alloc_tomadores[alloc_tomadores['saldo']!=0]"
   ]
  },
  {
   "cell_type": "code",
   "execution_count": null,
   "metadata": {},
   "outputs": [],
   "source": [
    "saldo_alloc_tomadores['dbl_quantidade'] = saldo_alloc_tomadores['saldo']"
   ]
  },
  {
   "cell_type": "code",
   "execution_count": null,
   "metadata": {},
   "outputs": [],
   "source": [
    "saldo_alloc_tomadores[\"quebra\"] = saldo_alloc_tomadores[\"dbl_quantidade\"].apply(lambda x: ult_dist(x))\n",
    "saldo_alloc_tomadores = saldo_alloc_tomadores.explode(\"quebra\")"
   ]
  },
  {
   "cell_type": "code",
   "execution_count": null,
   "metadata": {},
   "outputs": [],
   "source": [
    "saldo_alloc_tomadores['dbl_quantidade'] = saldo_alloc_tomadores['quebra']"
   ]
  },
  {
   "cell_type": "code",
   "execution_count": null,
   "metadata": {},
   "outputs": [],
   "source": [
    "map_ajuste = map_ajuste[map_ajuste['to_borrow_0']!=0]"
   ]
  },
  {
   "cell_type": "code",
   "execution_count": null,
   "metadata": {},
   "outputs": [],
   "source": [
    "saldo_alloc_tomadores.index = [x+1 for x in range(saldo_alloc_tomadores.shape[0])]\n",
    "map_ajuste.index = [x+1 for x in range(map_ajuste.shape[0])]"
   ]
  },
  {
   "cell_type": "code",
   "execution_count": null,
   "metadata": {},
   "outputs": [],
   "source": [
    "saldo_alloc_tomadores['volta'] = 0\n",
    "saldo_alloc_tomadores['estrategia target'] = 0\n",
    "saldo_alloc_tomadores['mesa target'] = 0\n",
    "from tqdm import tqdm\n",
    "aux = pd.DataFrame()\n",
    "ativos_concluidos = []\n",
    "with tqdm(total=map_ajuste.shape[0]) as pbar:\n",
    "    for i, row in (map_ajuste.iterrows()):\n",
    "        pbar.update(1)\n",
    "        saldo = row['to_borrow_0']\n",
    "        aux = saldo_alloc_tomadores[saldo_alloc_tomadores['codigo']==row['codigo']]\n",
    "        total = 0\n",
    "        for x, x_row in aux.iterrows():\n",
    "            if int(saldo) ==0:\n",
    "                break\n",
    "            if (x_row['codigo']==row['codigo']) & (x_row['fundo']==row['fundo']):\n",
    "                if (saldo_alloc_tomadores.loc[x,'estrategia target']==0):\n",
    "                    # if ((mapa.loc[(mapa['fundo']==row['fundo'])&(mapa['codigo']==row['codigo'])&(mapa['str_estrategia']==row['str_estrategia'])&(mapa['mesa']==row['mesa']),'custodia_0'].item()) - total ) > 0 :\n",
    "                        # total = min(saldo,x_row['dbl_quantidade']) + total\n",
    "                    saldo_alloc_tomadores.loc[x,'volta'] = min(saldo,x_row['dbl_quantidade'])\n",
    "                    saldo_alloc_tomadores.loc[x,'mesa target'] = row['mesa']\n",
    "                    saldo_alloc_tomadores.loc[x,'estrategia target'] = row['str_estrategia']\n",
    "                    saldo = saldo - min(saldo,x_row['dbl_quantidade'])\n",
    "                    map_ajuste.loc[i,'to_borrow_0']  = saldo\n",
    "                    # else:\n",
    "                    #     break"
   ]
  },
  {
   "cell_type": "code",
   "execution_count": null,
   "metadata": {},
   "outputs": [],
   "source": [
    "# saldo_tomadores = alloc_tomadores[alloc_tomadores['estrategia target']==0]\n",
    "# alloc_tomadores =  alloc_tomadores[alloc_tomadores['estrategia target']!=0]\n",
    "# espelho= alloc_tomadores.groupby(['fundo','codigo','estrategia target']).agg({'volta':sum}).reset_index()"
   ]
  },
  {
   "cell_type": "code",
   "execution_count": null,
   "metadata": {},
   "outputs": [],
   "source": [
    "map_ajuste = map_ajuste[map_ajuste['to_borrow_0']!=0] "
   ]
  },
  {
   "cell_type": "code",
   "execution_count": null,
   "metadata": {},
   "outputs": [],
   "source": [
    "map_ajuste"
   ]
  },
  {
   "cell_type": "markdown",
   "metadata": {},
   "source": [
    "## Rebalanceamento com devolução Doadora"
   ]
  },
  {
   "cell_type": "code",
   "execution_count": null,
   "metadata": {},
   "outputs": [],
   "source": [
    "def dist_ctos(alloc_tomadores):\n",
    "       \n",
    "\n",
    "       alloc_tomadores[\"quebra\"] = alloc_tomadores[\"dbl_quantidade\"].apply(lambda x: qtd_dist(x))\n",
    "       alloc_tomadores = alloc_tomadores.explode(\"quebra\")\n",
    "       dif = alloc_tomadores.groupby(['dte_data', 'fundo', 'str_mercado', 'str_codigo', 'str_serie', 'mesa',\n",
    "              'str_estrategia', 'str_numcontrato', 'dbl_quantidade', 'preco',\n",
    "              'codigo', 'Alocacao', 'estrategia target']).agg({'quebra':sum}).reset_index().drop_duplicates()\n",
    "       dif['diff'] = dif['dbl_quantidade'] - dif['quebra']\n",
    "       dif = dif[dif['diff']!=0]\n",
    "       dif['dbl_quantidade'] = dif['diff']\n",
    "       dif[\"quebra\"] = dif[\"dbl_quantidade\"].apply(lambda x: ult_dist(x))\n",
    "       dif = dif.explode(\"quebra\")\n",
    "       alloc_tomadores = pd.concat([alloc_tomadores,dif])\n",
    "       alloc_tomadores['aux'] = alloc_tomadores['dbl_quantidade'] \n",
    "       alloc_tomadores['dbl_quantidade'] = alloc_tomadores['quebra']\n",
    "\n",
    "       return alloc_tomadores"
   ]
  },
  {
   "cell_type": "code",
   "execution_count": null,
   "metadata": {},
   "outputs": [],
   "source": [
    "ctos_btc_d = ctos_btc[ctos_btc['tipo']=='D']\n",
    "devol_d = ctos_btc_d.merge(map_ajuste, on=[\"fundo\",'mesa','str_estrategia',\"codigo\"], how=\"inner\")\n",
    "devol_d['to_borrow_0'] = devol_d['to_borrow_0'].fillna(0)\n",
    "devol_d = devol_d[devol_d['to_borrow_0']!=0]\n",
    "devol_d['dbl_quantidade'] = abs(devol_d['dbl_quantidade'])\n",
    "devol_d['Alocacao'] = 0\n",
    "devol_d['estrategia target'] = 0\n",
    "devol_d = dist_ctos(alloc_tomadores=devol_d)\n",
    "devol_d.index = [x+1 for x in range(devol_d.shape[0])]\n",
    "map_ajuste.index = [x+1 for x in range(map_ajuste.shape[0])]"
   ]
  },
  {
   "cell_type": "code",
   "execution_count": null,
   "metadata": {},
   "outputs": [],
   "source": [
    "devol_d['volta'] = 0\n",
    "\n",
    "devol_d['estrategia target'] = 0\n",
    "\n",
    "devol_d['mesa target'] = 0\n",
    "\n",
    "\n",
    "with tqdm(total=map_ajuste.shape[0]) as pbar:\n",
    "    for i, row in (map_ajuste.iterrows()):\n",
    "        pbar.update(1)\n",
    "        saldo = row['to_borrow_0']\n",
    "        for x, x_row in devol_d.iterrows():\n",
    "            if int(saldo) ==0:\n",
    "                break\n",
    "            if (x_row['codigo']==row['codigo']) & (x_row['fundo']==row['fundo']):\n",
    "                if (devol_d.loc[x,'estrategia target']==0):\n",
    "                    devol_d.loc[x,'volta'] = min(saldo,x_row['dbl_quantidade'])\n",
    "                    devol_d.loc[x,'mesa target'] = row['mesa']\n",
    "                    devol_d.loc[x,'estrategia target'] = row['str_estrategia']\n",
    "                    saldo = saldo - min(saldo,x_row['dbl_quantidade'])\n",
    "                    map_ajuste.loc[i,'to_borrow_0']  = saldo\n",
    "            "
   ]
  },
  {
   "cell_type": "code",
   "execution_count": null,
   "metadata": {},
   "outputs": [],
   "source": [
    "devol_d"
   ]
  },
  {
   "cell_type": "code",
   "execution_count": null,
   "metadata": {},
   "outputs": [],
   "source": [
    "map_ajuste[map_ajuste['to_borrow_0']!=0]"
   ]
  },
  {
   "cell_type": "code",
   "execution_count": null,
   "metadata": {},
   "outputs": [],
   "source": [
    "mapa.to_clipboard()"
   ]
  },
  {
   "cell_type": "markdown",
   "metadata": {},
   "source": [
    "# Organizando Boletas"
   ]
  },
  {
   "cell_type": "code",
   "execution_count": null,
   "metadata": {},
   "outputs": [],
   "source": [
    "a = alloc_tomadores.groupby(\n",
    "    [\n",
    "    'dte_data', 'fundo', 'str_mercado', 'str_codigo', 'str_serie', 'mesa',\n",
    "       'str_estrategia', 'str_numcontrato',\n",
    "       'codigo','estrategia target', 'mesa target','Alocacao',\n",
    "    ]\n",
    ").agg({'volta':sum}).reset_index()\n",
    "\n"
   ]
  },
  {
   "cell_type": "code",
   "execution_count": null,
   "metadata": {},
   "outputs": [],
   "source": [
    "saldo_alloc_tomadores = saldo_alloc_tomadores.groupby(\n",
    "    [\n",
    "    'dte_data', 'fundo', 'str_mercado', 'str_codigo', 'str_serie', 'mesa',\n",
    "       'str_estrategia', 'str_numcontrato', 'dbl_quantidade',\n",
    "       'codigo','estrategia target', 'mesa target','Alocacao',\n",
    "       \n",
    "    ]\n",
    ").agg({'volta':sum}).reset_index()\n"
   ]
  },
  {
   "cell_type": "code",
   "execution_count": null,
   "metadata": {},
   "outputs": [],
   "source": [
    "saldo_alloc_tomadores = saldo_alloc_tomadores[saldo_alloc_tomadores['estrategia target']!=0]"
   ]
  },
  {
   "cell_type": "code",
   "execution_count": null,
   "metadata": {},
   "outputs": [],
   "source": [
    "devol = devol_d.groupby(\n",
    "    [\n",
    "    'dte_data', 'fundo', 'str_mercado', 'str_codigo', 'str_serie', 'mesa',\n",
    "       'str_estrategia', 'str_numcontrato', 'dbl_quantidade',\n",
    "       'codigo','estrategia target', 'mesa target','Alocacao',\n",
    "       \n",
    "    ]\n",
    ").agg({'volta':sum}).reset_index()"
   ]
  },
  {
   "cell_type": "code",
   "execution_count": null,
   "metadata": {},
   "outputs": [],
   "source": [
    "devol = devol[devol['estrategia target']!=0]"
   ]
  },
  {
   "cell_type": "code",
   "execution_count": null,
   "metadata": {},
   "outputs": [],
   "source": [
    "mapa.to_clipboard()"
   ]
  },
  {
   "cell_type": "markdown",
   "metadata": {},
   "source": []
  },
  {
   "cell_type": "markdown",
   "metadata": {},
   "source": [
    "# Montando boletas"
   ]
  },
  {
   "cell_type": "code",
   "execution_count": null,
   "metadata": {},
   "outputs": [],
   "source": [
    "tomador = pd.concat([a,saldo_alloc_tomadores])"
   ]
  },
  {
   "cell_type": "code",
   "execution_count": null,
   "metadata": {},
   "outputs": [],
   "source": [
    "tomador_g = tomador[['fundo','mesa','str_estrategia','mesa target','estrategia target','codigo','str_serie','volta','str_numcontrato']]"
   ]
  },
  {
   "cell_type": "code",
   "execution_count": null,
   "metadata": {},
   "outputs": [],
   "source": [
    "tomador_g = tomador_g[tomador_g['volta']!=0]\n",
    "tomador_in = tomador_g[['fundo','mesa target','estrategia target','codigo','str_serie','volta','str_numcontrato']]\n",
    "tomador_out = tomador_g[['fundo','mesa','str_estrategia','codigo','str_serie','volta','str_numcontrato']]\n",
    "tomador_out['dbl_quantidade'] = -abs(tomador_out['volta'])\n",
    "tomador_in['dbl_quantidade'] = abs(tomador_in['volta'])\n",
    "\n",
    "tomador_in = tomador_in[['fundo','mesa target','estrategia target','codigo','str_serie','dbl_quantidade','str_numcontrato']]\n",
    "tomador_out = tomador_out[['fundo','mesa','str_estrategia','codigo','str_serie','dbl_quantidade','str_numcontrato']]\n"
   ]
  },
  {
   "cell_type": "code",
   "execution_count": null,
   "metadata": {},
   "outputs": [],
   "source": [
    "tomador_in.to_clipboard()"
   ]
  },
  {
   "cell_type": "code",
   "execution_count": null,
   "metadata": {},
   "outputs": [],
   "source": [
    "columns = [\n",
    "    'str_fundo',\n",
    "    'str_mesa',\n",
    "    'str_estrategia',\n",
    "    'str_codigo', \n",
    "    'str_serie',\n",
    "    'dbl_quantidade',\n",
    "    'str_numcontrato'\n",
    "]"
   ]
  },
  {
   "cell_type": "code",
   "execution_count": null,
   "metadata": {},
   "outputs": [],
   "source": [
    "tomador_in.columns = columns\n",
    "tomador_out.columns = columns\n",
    "\n"
   ]
  },
  {
   "cell_type": "code",
   "execution_count": null,
   "metadata": {},
   "outputs": [],
   "source": [
    "tomador_geral = pd.concat([tomador_in,tomador_out])"
   ]
  },
  {
   "cell_type": "code",
   "execution_count": null,
   "metadata": {},
   "outputs": [],
   "source": [
    "tomador_geral['str_corretora'] = 'Interna'\n",
    "tomador_geral['str_mercado'] = 'Emprestimo RV/AjustePosicao2'"
   ]
  },
  {
   "cell_type": "code",
   "execution_count": null,
   "metadata": {},
   "outputs": [],
   "source": [
    "tomador_geral['str_codigo'] = tomador_geral['str_serie'].apply(lambda x: x[0:4])"
   ]
  },
  {
   "cell_type": "code",
   "execution_count": null,
   "metadata": {},
   "outputs": [],
   "source": [
    "tomador_geral.groupby('str_numcontrato').agg({'dbl_quantidade':sum})['dbl_quantidade'].sum()"
   ]
  },
  {
   "cell_type": "code",
   "execution_count": null,
   "metadata": {},
   "outputs": [],
   "source": [
    "teste = tomador_geral"
   ]
  },
  {
   "cell_type": "code",
   "execution_count": null,
   "metadata": {},
   "outputs": [],
   "source": [
    "teste['str_chavetrader'] = 'joao.ramalho'"
   ]
  },
  {
   "cell_type": "code",
   "execution_count": null,
   "metadata": {},
   "outputs": [],
   "source": [
    "teste['dte_data'] = datetime.date.today()"
   ]
  },
  {
   "cell_type": "code",
   "execution_count": null,
   "metadata": {},
   "outputs": [],
   "source": []
  },
  {
   "cell_type": "code",
   "execution_count": null,
   "metadata": {},
   "outputs": [],
   "source": [
    "teste = teste[['dte_data',\n",
    "    'str_fundo',\n",
    "    'str_mesa',\n",
    "    'str_estrategia',\n",
    "    'str_corretora',\n",
    "    'str_mercado',\n",
    "    'str_codigo', \n",
    "    'str_serie',\n",
    "    'dbl_quantidade',\n",
    "    'str_numcontrato','str_chavetrader']]"
   ]
  },
  {
   "cell_type": "code",
   "execution_count": null,
   "metadata": {},
   "outputs": [],
   "source": [
    "teste.to_clipboard()"
   ]
  },
  {
   "cell_type": "code",
   "execution_count": null,
   "metadata": {},
   "outputs": [],
   "source": [
    "mapa.to_clipboard()"
   ]
  },
  {
   "cell_type": "code",
   "execution_count": null,
   "metadata": {},
   "outputs": [],
   "source": [
    "devol_out = devol[['fundo','mesa','str_estrategia','codigo','str_serie','volta','str_numcontrato']]\n",
    "devol_out['dbl_quantidade'] = abs(devol_out['volta'])\n",
    "\n"
   ]
  },
  {
   "cell_type": "code",
   "execution_count": null,
   "metadata": {},
   "outputs": [],
   "source": [
    "devol_in = pd.DataFrame()"
   ]
  },
  {
   "cell_type": "code",
   "execution_count": null,
   "metadata": {},
   "outputs": [],
   "source": [
    "devol_in['fundo'] = devol_out['fundo']\n",
    "\n",
    "devol_in['codigo'] = devol_out['codigo']\n",
    "\n",
    "devol_in['str_serie'] = devol_out['str_serie']\n",
    "\n",
    "devol_in['str_numcontrato'] = devol_out['str_numcontrato']\n",
    "\n",
    "devol_in['dbl_quantidade'] = -devol_out['volta']"
   ]
  },
  {
   "cell_type": "code",
   "execution_count": null,
   "metadata": {},
   "outputs": [],
   "source": [
    "# devol_in['mesa'] = 0\n",
    "# devol_in['estrategia'] = 0"
   ]
  },
  {
   "cell_type": "code",
   "execution_count": null,
   "metadata": {},
   "outputs": [],
   "source": [
    "targets = mapa[mapa['to_lend']>0]\n",
    "targets = targets.merge(devol_in[['fundo','codigo']].drop_duplicates(),on=['fundo','codigo'],how='inner')\n",
    "targets = targets[['fundo','mesa','str_estrategia','codigo','to_lend']]"
   ]
  },
  {
   "cell_type": "code",
   "execution_count": null,
   "metadata": {},
   "outputs": [],
   "source": [
    "aux = devol_in.merge(targets[['fundo','mesa','str_estrategia','codigo']],on=['fundo','codigo'],how='inner')\n"
   ]
  },
  {
   "cell_type": "code",
   "execution_count": null,
   "metadata": {},
   "outputs": [],
   "source": [
    "aux"
   ]
  },
  {
   "cell_type": "code",
   "execution_count": null,
   "metadata": {},
   "outputs": [],
   "source": [
    "devol_out"
   ]
  },
  {
   "cell_type": "code",
   "execution_count": null,
   "metadata": {},
   "outputs": [],
   "source": [
    "mapa.to_clipboard()"
   ]
  },
  {
   "cell_type": "code",
   "execution_count": null,
   "metadata": {},
   "outputs": [],
   "source": []
  },
  {
   "cell_type": "code",
   "execution_count": null,
   "metadata": {},
   "outputs": [],
   "source": []
  },
  {
   "cell_type": "code",
   "execution_count": null,
   "metadata": {},
   "outputs": [],
   "source": []
  },
  {
   "cell_type": "code",
   "execution_count": null,
   "metadata": {},
   "outputs": [],
   "source": [
    "mapa.to_clipboard()"
   ]
  },
  {
   "cell_type": "code",
   "execution_count": null,
   "metadata": {},
   "outputs": [],
   "source": [
    "mapa[(mapa['str_estrategia']=='CashCarry5')&(mapa['codigo']=='BOVA11') ]"
   ]
  }
 ],
 "metadata": {
  "interpreter": {
   "hash": "db19393a6f02e05b1e02a57a0984e495c7635796986434e660c41f0ad4c6bb1d"
  },
  "kernelspec": {
   "display_name": "Python 3 (ipykernel)",
   "language": "python",
   "name": "python3"
  },
  "language_info": {
   "codemirror_mode": {
    "name": "ipython",
    "version": 3
   },
   "file_extension": ".py",
   "mimetype": "text/x-python",
   "name": "python",
   "nbconvert_exporter": "python",
   "pygments_lexer": "ipython3",
   "version": "3.7.3"
  }
 },
 "nbformat": 4,
 "nbformat_minor": 2
}
