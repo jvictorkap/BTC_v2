{
 "cells": [
  {
   "cell_type": "code",
   "execution_count": null,
   "metadata": {},
   "outputs": [],
   "source": [
    "import sys\n",
    "sys.path.append('..')\n",
    "import pandas as pd\n",
    "import psycopg2\n",
    "import datetime \n",
    "import subprocess\n",
    "import DB\n",
    "import carteira_ibov\n",
    "import matplotlib.pyplot as plt\n",
    "from matplotlib.ticker import FuncFormatter\n",
    "from IPython.display import Markdown as md\n",
    "\n",
    "\n",
    "\n",
    "\n",
    "\n",
    "\n",
    "ibov= pd.DataFrame(carteira_ibov.consulta_ibov())\n",
    "\n",
    "\n",
    "\n",
    "df=pd.DataFrame()\n",
    "df['codigo']=ibov['cod']\n",
    "for i in range(6,-1,-1):\n",
    "    df['tx_'+str(i)]= df['codigo'].apply(lambda x: DB.get_taxa(ticker_name=x,pos=i))\n",
    "\n",
    "    \n",
    "\n",
    "df.set_index('codigo', inplace=True)\n",
    "G:\\Trading\\K11\\Python\\Aluguel\\emprestimo.py\n",
    "\n",
    "df['taxa_min'] = df[['tx_6',  'tx_5',  'tx_4',  'tx_3',  'tx_2',  \"tx_1\" , 'tx_0']].min(axis=1)\n",
    "\n",
    "df=df[df['taxa_min']!=0]\n",
    "\n",
    "df['taxa_max']= df[['tx_6',  'tx_5',  'tx_4',  'tx_3',  'tx_2',  \"tx_1\" , 'tx_0']].max(axis=1)\n",
    "\n",
    "df['dif']= ((df['taxa_max']-df['taxa_min'])/df['taxa_max'])*100\n",
    "\n",
    "df=df.sort_values(by='dif', ascending=False)\n",
    "\n",
    "\n",
    "\n",
    "for i in range(5):\n",
    "    plt.figure()\n",
    "    df[['tx_6',  'tx_5',  'tx_4',  'tx_3',  'tx_2',  \"tx_1\" , 'tx_0']].iloc[i].plot(xlabel=df.index[i])\n",
    "\n",
    "\n",
    "\n",
    "##\n",
    "\n",
    "\n",
    "\n",
    "\n",
    "\n"
   ]
  },
  {
   "cell_type": "code",
   "execution_count": null,
   "metadata": {},
   "outputs": [],
   "source": []
  }
 ],
 "metadata": {
  "interpreter": {
   "hash": "26c214ea8a2e441b7ca5015811ee6d2881065606e97803d3c7354d83500709f1"
  },
  "kernelspec": {
   "display_name": "Python 3 (ipykernel)",
   "language": "python",
   "name": "python3"
  },
  "language_info": {
   "codemirror_mode": {
    "name": "ipython",
    "version": 3
   },
   "file_extension": ".py",
   "mimetype": "text/x-python",
   "name": "python",
   "nbconvert_exporter": "python",
   "pygments_lexer": "ipython3",
   "version": "3.9.8"
  }
 },
 "nbformat": 4,
 "nbformat_minor": 2
}
